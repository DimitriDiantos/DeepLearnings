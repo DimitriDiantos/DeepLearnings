{
  "cells": [
    {
      "cell_type": "markdown",
      "metadata": {
        "id": "9-N3ZUVbYwJY"
      },
      "source": [
        "# Task 4 - Anomaly detection using autoencoders"
      ]
    },
    {
      "cell_type": "markdown",
      "metadata": {
        "id": "54jnyxR4YwJZ"
      },
      "source": [
        "### Deadline Tuesday, June 27, 2023 at 11:59 p.m"
      ]
    },
    {
      "cell_type": "markdown",
      "metadata": {
        "id": "nUFdiroFYwJa"
      },
      "source": [
        "# IMPORTANT SUBMISSION INSTRUCTIONS\n",
        "\n",
        "- When you're done, download the notebook and rename it to task4_[name].ipynb\n",
        "- Only submit the `ipynb` file, no other file is required.\n",
        "- The deadline is strict.\n",
        "- Minimal requirement for passing: solving all code cells.\n",
        "\n",
        "Implementation\n",
        "- Do not change the cells which are marked as \"Do not change\", similarly write your solution to the marked cells."
      ]
    },
    {
      "cell_type": "markdown",
      "metadata": {
        "id": "Kh5yQL6wYwJa"
      },
      "source": [
        "# Topics\n",
        "\n",
        "In this exercise sheet, you will:\n",
        "- Work with a dataset for `dynamic behavior analysis of automotive software systems`.\n",
        "- Implement autoencoders (AEs) for unsupervised anomaly detection.\n",
        "- Compare MLP-based and CNN-based AEs.\n",
        "- Vary architecture to improve model performance.\n",
        "- Apply scheduled learning rate.\n",
        "- Evaluate the performance of the model.\n",
        "\n",
        "*We are looking forward to seeing your solutions! Have fun!*"
      ]
    },
    {
      "cell_type": "markdown",
      "metadata": {
        "id": "WV-gQ1ZvYwJa"
      },
      "source": [
        "# Related publications\n",
        " - Abboush, M.; Bamal, D.; Knieke, C.; Rausch, A. Hardware-in-the-Loop-Based Real-Time Fault Injection Framework for Dynamic Behavior Analysis of Automotive Software Systems. Sensors 2022, 22, 1360. https://doi.org/10.3390/s22041360\n",
        "\n",
        " - Abboush, M.; Bamal, D.; Knieke, C.; Rausch, A. Intelligent Fault Detection and Classification Based on Hybrid Deep Learning Methods for Hardware-in-the-Loop Test of Automotive Software Systems. Sensors 2022, 22, 4066. https://doi.org/10.3390/s22114066"
      ]
    },
    {
      "cell_type": "markdown",
      "metadata": {
        "id": "2AsHfPPiYwJa"
      },
      "source": [
        "## Tutorials\n",
        "\n",
        "Some python libraries are required to accomplish the tasks assigned in this homework. If you feel like you need to follow a tutorial before, feel free to do so:\n",
        "*   [Scikit-learn Tutorials](https://www.tensorflow.org/tutorials)\n",
        "*   [TensorFlow Tutorials](https://scikit-learn.org/stable/tutorial/index.html)\n",
        "*   [Matplotlib Tutorials](https://matplotlib.org/stable/tutorials/index.html)"
      ]
    },
    {
      "cell_type": "markdown",
      "metadata": {
        "id": "o4mLNsXfYwJa"
      },
      "source": [
        "## Imports"
      ]
    },
    {
      "cell_type": "code",
      "execution_count": 2,
      "metadata": {
        "id": "ylnI8DEyYwJa"
      },
      "outputs": [],
      "source": [
        "import numpy as np\n",
        "import pandas as pd\n",
        "import glob\n",
        "\n",
        "import tensorflow as tf\n",
        "from tensorflow.keras import models, layers, optimizers, losses, callbacks\n",
        "from sklearn.preprocessing import MinMaxScaler\n",
        "\n",
        "import matplotlib.pyplot as plt\n",
        "import seaborn as sns\n",
        "\n",
        "SEED = 24\n",
        "np.random.seed(SEED)"
      ]
    },
    {
      "cell_type": "markdown",
      "metadata": {
        "id": "wSzp2C1VYwJb"
      },
      "source": [
        "## System checks\n"
      ]
    },
    {
      "cell_type": "code",
      "execution_count": 3,
      "metadata": {
        "colab": {
          "base_uri": "https://localhost:8080/"
        },
        "id": "NaRXvY9mYwJb",
        "outputId": "185bcc5c-e8d2-40a4-c5e1-694ffe0c5cbe"
      },
      "outputs": [
        {
          "output_type": "stream",
          "name": "stdout",
          "text": [
            "[PhysicalDevice(name='/physical_device:GPU:0', device_type='GPU')]\n",
            "[PhysicalDevice(name='/physical_device:CPU:0', device_type='CPU')]\n"
          ]
        }
      ],
      "source": [
        "gpus = tf.config.list_physical_devices('GPU')\n",
        "cpus = tf.config.list_physical_devices('CPU')\n",
        "print(gpus)\n",
        "print(cpus)"
      ]
    },
    {
      "cell_type": "markdown",
      "metadata": {
        "id": "FejC8XItYwJc"
      },
      "source": [
        "Choose your device for computation. CPU or one of your CUDA devices."
      ]
    },
    {
      "cell_type": "code",
      "execution_count": 4,
      "metadata": {
        "id": "5IkSF1cyYwJc"
      },
      "outputs": [],
      "source": [
        "tf.config.set_visible_devices(gpus, 'GPU')"
      ]
    },
    {
      "cell_type": "markdown",
      "metadata": {
        "id": "u3RlyPgcYwJc"
      },
      "source": [
        "# Anomaly detection via autoencoders\n",
        "\n",
        "Anomaly detection is a technique used to identify abnormal or anomalous patterns within a dataset. Autoencoders are neural networks that are trained to reconstruct their input data, typically by learning a compressed representation of the data in an intermediate layer called the **bottleneck layer**.\n",
        "\n",
        "Anomalies can be identified using autoencoders by comparing the input data to the reconstructed output, as anomalies often result in a higher reconstruction error. In this task, we employ autoencoders for anomaly detection in automotive\n",
        "software systems.\n",
        ""
      ]
    },
    {
      "cell_type": "markdown",
      "metadata": {
        "id": "Ps9Xz4VcYwJc"
      },
      "source": [
        "# Subtask 2.1\n",
        "\n",
        "## Loading the dataset and pre-processing\n",
        "\n",
        "The dataset consists of time-series sensor measurements of healthy and faulty operation of the system. The fault type in each file is as following:\n",
        "\n",
        "| File name | Fault type|\n",
        "|------|------|\n",
        "| Faulty_0 | Stuck-at fault |\n",
        "| Faulty_1 | Offset/bias fault |\n",
        "| Faulty_2 | Noise fault |\n",
        "| Faulty_3 | Packet loss fault |\n",
        "| Faulty_4 | Stuck-at fault |\n",
        "| Faulty_5 | Stuck-at & Noise faults |"
      ]
    },
    {
      "cell_type": "code",
      "execution_count": 76,
      "metadata": {
        "colab": {
          "base_uri": "https://localhost:8080/"
        },
        "id": "gSTzFFaPYwJc",
        "outputId": "243aa3b3-56e9-42d6-ffa7-214a8fc1d641"
      },
      "outputs": [
        {
          "output_type": "execute_result",
          "data": {
            "text/plain": [
              "['./Data/Faulty_5.csv',\n",
              " './Data/Faulty_0.csv',\n",
              " './Data/Faulty_1.csv',\n",
              " './Data/Faulty_4.csv',\n",
              " './Data/Faulty_3.csv',\n",
              " './Data/Faulty_2.csv']"
            ]
          },
          "metadata": {},
          "execution_count": 76
        }
      ],
      "source": [
        "data_dir = './Data/'\n",
        "file_names_test = glob.glob(data_dir + 'Faulty*')\n",
        "file_names_train = ['Healthy.csv']\n",
        "file_names_test"
      ]
    },
    {
      "cell_type": "code",
      "execution_count": 77,
      "metadata": {
        "id": "Sgxnxne8YwJd"
      },
      "outputs": [],
      "source": [
        "data_train = []\n",
        "for f in file_names_train:\n",
        "    data_train.append(pd.read_csv(data_dir + f))\n",
        "\n",
        "data_test = []\n",
        "for f in file_names_test:\n",
        "    data_test.append(pd.read_csv(f))"
      ]
    },
    {
      "cell_type": "code",
      "execution_count": 78,
      "metadata": {
        "colab": {
          "base_uri": "https://localhost:8080/",
          "height": 574
        },
        "id": "cxT2AetcYwJd",
        "outputId": "fcfcb181-1648-4471-fdf9-a58d7249cc1e"
      },
      "outputs": [
        {
          "output_type": "execute_result",
          "data": {
            "text/plain": [
              "             time    ENGINE_RPM  Trq_MeanEff_Engine_Mod[Nm]  T_Water[degC]  \\\n",
              "0        0.000999 -3.640000e-18                    0.000000      84.532638   \n",
              "1        0.010999 -3.640000e-18                    0.000000      84.531967   \n",
              "2        0.020999 -3.640000e-18                    0.000000      84.531296   \n",
              "3        0.030999 -3.640000e-18                    0.000000      84.530625   \n",
              "4        0.040999 -3.640000e-18                    0.000000      84.529954   \n",
              "...           ...           ...                         ...            ...   \n",
              "21294  236.048119  2.907543e+03                   43.061145      87.100135   \n",
              "21295  236.058119  2.913160e+03                   43.139859      87.100178   \n",
              "21296  236.068119  2.908590e+03                   43.112000      87.100221   \n",
              "21297  236.078119  2.913704e+03                   43.181202      87.100263   \n",
              "21298  236.088119  2.910191e+03                   43.157113      87.100306   \n",
              "\n",
              "       p_InMan[Pa]  p_Rail[bar]  v_vehicle[km|h]  label  \n",
              "0      93626.12721     1.000000    8.695555e-322    0.0  \n",
              "1      93638.60039     1.000000    8.695555e-322    0.0  \n",
              "2      93651.06237     1.000000    8.695555e-322    0.0  \n",
              "3      93663.51317     1.000000    8.695555e-322    0.0  \n",
              "4      93675.95279     1.000000    8.695555e-322    0.0  \n",
              "...            ...          ...              ...    ...  \n",
              "21294  34766.58279   120.016058     5.337122e+01    0.0  \n",
              "21295  34782.23119   120.023348     5.338723e+01    0.0  \n",
              "21296  34793.94748   120.030070     5.340333e+01    0.0  \n",
              "21297  34806.25686   120.028256     5.341908e+01    0.0  \n",
              "21298  34814.73317   120.029359     5.343492e+01    0.0  \n",
              "\n",
              "[21299 rows x 8 columns]"
            ],
            "text/html": [
              "\n",
              "  <div id=\"df-bd565486-aa4c-4e88-9755-4b6a4df8a542\">\n",
              "    <div class=\"colab-df-container\">\n",
              "      <div>\n",
              "<style scoped>\n",
              "    .dataframe tbody tr th:only-of-type {\n",
              "        vertical-align: middle;\n",
              "    }\n",
              "\n",
              "    .dataframe tbody tr th {\n",
              "        vertical-align: top;\n",
              "    }\n",
              "\n",
              "    .dataframe thead th {\n",
              "        text-align: right;\n",
              "    }\n",
              "</style>\n",
              "<table border=\"1\" class=\"dataframe\">\n",
              "  <thead>\n",
              "    <tr style=\"text-align: right;\">\n",
              "      <th></th>\n",
              "      <th>time</th>\n",
              "      <th>ENGINE_RPM</th>\n",
              "      <th>Trq_MeanEff_Engine_Mod[Nm]</th>\n",
              "      <th>T_Water[degC]</th>\n",
              "      <th>p_InMan[Pa]</th>\n",
              "      <th>p_Rail[bar]</th>\n",
              "      <th>v_vehicle[km|h]</th>\n",
              "      <th>label</th>\n",
              "    </tr>\n",
              "  </thead>\n",
              "  <tbody>\n",
              "    <tr>\n",
              "      <th>0</th>\n",
              "      <td>0.000999</td>\n",
              "      <td>-3.640000e-18</td>\n",
              "      <td>0.000000</td>\n",
              "      <td>84.532638</td>\n",
              "      <td>93626.12721</td>\n",
              "      <td>1.000000</td>\n",
              "      <td>8.695555e-322</td>\n",
              "      <td>0.0</td>\n",
              "    </tr>\n",
              "    <tr>\n",
              "      <th>1</th>\n",
              "      <td>0.010999</td>\n",
              "      <td>-3.640000e-18</td>\n",
              "      <td>0.000000</td>\n",
              "      <td>84.531967</td>\n",
              "      <td>93638.60039</td>\n",
              "      <td>1.000000</td>\n",
              "      <td>8.695555e-322</td>\n",
              "      <td>0.0</td>\n",
              "    </tr>\n",
              "    <tr>\n",
              "      <th>2</th>\n",
              "      <td>0.020999</td>\n",
              "      <td>-3.640000e-18</td>\n",
              "      <td>0.000000</td>\n",
              "      <td>84.531296</td>\n",
              "      <td>93651.06237</td>\n",
              "      <td>1.000000</td>\n",
              "      <td>8.695555e-322</td>\n",
              "      <td>0.0</td>\n",
              "    </tr>\n",
              "    <tr>\n",
              "      <th>3</th>\n",
              "      <td>0.030999</td>\n",
              "      <td>-3.640000e-18</td>\n",
              "      <td>0.000000</td>\n",
              "      <td>84.530625</td>\n",
              "      <td>93663.51317</td>\n",
              "      <td>1.000000</td>\n",
              "      <td>8.695555e-322</td>\n",
              "      <td>0.0</td>\n",
              "    </tr>\n",
              "    <tr>\n",
              "      <th>4</th>\n",
              "      <td>0.040999</td>\n",
              "      <td>-3.640000e-18</td>\n",
              "      <td>0.000000</td>\n",
              "      <td>84.529954</td>\n",
              "      <td>93675.95279</td>\n",
              "      <td>1.000000</td>\n",
              "      <td>8.695555e-322</td>\n",
              "      <td>0.0</td>\n",
              "    </tr>\n",
              "    <tr>\n",
              "      <th>...</th>\n",
              "      <td>...</td>\n",
              "      <td>...</td>\n",
              "      <td>...</td>\n",
              "      <td>...</td>\n",
              "      <td>...</td>\n",
              "      <td>...</td>\n",
              "      <td>...</td>\n",
              "      <td>...</td>\n",
              "    </tr>\n",
              "    <tr>\n",
              "      <th>21294</th>\n",
              "      <td>236.048119</td>\n",
              "      <td>2.907543e+03</td>\n",
              "      <td>43.061145</td>\n",
              "      <td>87.100135</td>\n",
              "      <td>34766.58279</td>\n",
              "      <td>120.016058</td>\n",
              "      <td>5.337122e+01</td>\n",
              "      <td>0.0</td>\n",
              "    </tr>\n",
              "    <tr>\n",
              "      <th>21295</th>\n",
              "      <td>236.058119</td>\n",
              "      <td>2.913160e+03</td>\n",
              "      <td>43.139859</td>\n",
              "      <td>87.100178</td>\n",
              "      <td>34782.23119</td>\n",
              "      <td>120.023348</td>\n",
              "      <td>5.338723e+01</td>\n",
              "      <td>0.0</td>\n",
              "    </tr>\n",
              "    <tr>\n",
              "      <th>21296</th>\n",
              "      <td>236.068119</td>\n",
              "      <td>2.908590e+03</td>\n",
              "      <td>43.112000</td>\n",
              "      <td>87.100221</td>\n",
              "      <td>34793.94748</td>\n",
              "      <td>120.030070</td>\n",
              "      <td>5.340333e+01</td>\n",
              "      <td>0.0</td>\n",
              "    </tr>\n",
              "    <tr>\n",
              "      <th>21297</th>\n",
              "      <td>236.078119</td>\n",
              "      <td>2.913704e+03</td>\n",
              "      <td>43.181202</td>\n",
              "      <td>87.100263</td>\n",
              "      <td>34806.25686</td>\n",
              "      <td>120.028256</td>\n",
              "      <td>5.341908e+01</td>\n",
              "      <td>0.0</td>\n",
              "    </tr>\n",
              "    <tr>\n",
              "      <th>21298</th>\n",
              "      <td>236.088119</td>\n",
              "      <td>2.910191e+03</td>\n",
              "      <td>43.157113</td>\n",
              "      <td>87.100306</td>\n",
              "      <td>34814.73317</td>\n",
              "      <td>120.029359</td>\n",
              "      <td>5.343492e+01</td>\n",
              "      <td>0.0</td>\n",
              "    </tr>\n",
              "  </tbody>\n",
              "</table>\n",
              "<p>21299 rows × 8 columns</p>\n",
              "</div>\n",
              "      <button class=\"colab-df-convert\" onclick=\"convertToInteractive('df-bd565486-aa4c-4e88-9755-4b6a4df8a542')\"\n",
              "              title=\"Convert this dataframe to an interactive table.\"\n",
              "              style=\"display:none;\">\n",
              "        \n",
              "  <svg xmlns=\"http://www.w3.org/2000/svg\" height=\"24px\"viewBox=\"0 0 24 24\"\n",
              "       width=\"24px\">\n",
              "    <path d=\"M0 0h24v24H0V0z\" fill=\"none\"/>\n",
              "    <path d=\"M18.56 5.44l.94 2.06.94-2.06 2.06-.94-2.06-.94-.94-2.06-.94 2.06-2.06.94zm-11 1L8.5 8.5l.94-2.06 2.06-.94-2.06-.94L8.5 2.5l-.94 2.06-2.06.94zm10 10l.94 2.06.94-2.06 2.06-.94-2.06-.94-.94-2.06-.94 2.06-2.06.94z\"/><path d=\"M17.41 7.96l-1.37-1.37c-.4-.4-.92-.59-1.43-.59-.52 0-1.04.2-1.43.59L10.3 9.45l-7.72 7.72c-.78.78-.78 2.05 0 2.83L4 21.41c.39.39.9.59 1.41.59.51 0 1.02-.2 1.41-.59l7.78-7.78 2.81-2.81c.8-.78.8-2.07 0-2.86zM5.41 20L4 18.59l7.72-7.72 1.47 1.35L5.41 20z\"/>\n",
              "  </svg>\n",
              "      </button>\n",
              "      \n",
              "  <style>\n",
              "    .colab-df-container {\n",
              "      display:flex;\n",
              "      flex-wrap:wrap;\n",
              "      gap: 12px;\n",
              "    }\n",
              "\n",
              "    .colab-df-convert {\n",
              "      background-color: #E8F0FE;\n",
              "      border: none;\n",
              "      border-radius: 50%;\n",
              "      cursor: pointer;\n",
              "      display: none;\n",
              "      fill: #1967D2;\n",
              "      height: 32px;\n",
              "      padding: 0 0 0 0;\n",
              "      width: 32px;\n",
              "    }\n",
              "\n",
              "    .colab-df-convert:hover {\n",
              "      background-color: #E2EBFA;\n",
              "      box-shadow: 0px 1px 2px rgba(60, 64, 67, 0.3), 0px 1px 3px 1px rgba(60, 64, 67, 0.15);\n",
              "      fill: #174EA6;\n",
              "    }\n",
              "\n",
              "    [theme=dark] .colab-df-convert {\n",
              "      background-color: #3B4455;\n",
              "      fill: #D2E3FC;\n",
              "    }\n",
              "\n",
              "    [theme=dark] .colab-df-convert:hover {\n",
              "      background-color: #434B5C;\n",
              "      box-shadow: 0px 1px 3px 1px rgba(0, 0, 0, 0.15);\n",
              "      filter: drop-shadow(0px 1px 2px rgba(0, 0, 0, 0.3));\n",
              "      fill: #FFFFFF;\n",
              "    }\n",
              "  </style>\n",
              "\n",
              "      <script>\n",
              "        const buttonEl =\n",
              "          document.querySelector('#df-bd565486-aa4c-4e88-9755-4b6a4df8a542 button.colab-df-convert');\n",
              "        buttonEl.style.display =\n",
              "          google.colab.kernel.accessAllowed ? 'block' : 'none';\n",
              "\n",
              "        async function convertToInteractive(key) {\n",
              "          const element = document.querySelector('#df-bd565486-aa4c-4e88-9755-4b6a4df8a542');\n",
              "          const dataTable =\n",
              "            await google.colab.kernel.invokeFunction('convertToInteractive',\n",
              "                                                     [key], {});\n",
              "          if (!dataTable) return;\n",
              "\n",
              "          const docLinkHtml = 'Like what you see? Visit the ' +\n",
              "            '<a target=\"_blank\" href=https://colab.research.google.com/notebooks/data_table.ipynb>data table notebook</a>'\n",
              "            + ' to learn more about interactive tables.';\n",
              "          element.innerHTML = '';\n",
              "          dataTable['output_type'] = 'display_data';\n",
              "          await google.colab.output.renderOutput(dataTable, element);\n",
              "          const docLink = document.createElement('div');\n",
              "          docLink.innerHTML = docLinkHtml;\n",
              "          element.appendChild(docLink);\n",
              "        }\n",
              "      </script>\n",
              "    </div>\n",
              "  </div>\n",
              "  "
            ]
          },
          "metadata": {},
          "execution_count": 78
        }
      ],
      "source": [
        "data_train[0]"
      ]
    },
    {
      "cell_type": "markdown",
      "metadata": {
        "id": "dZyU_bPTYwJd"
      },
      "source": [
        "#### TODO\n",
        "\n",
        "- Visualize `ENGINE_RPM` of the healthy and one of the faulty time-series.\n",
        "\n",
        "**Note:** Do not forget to add title, axis labels and a legend!\n",
        "This applies in general, please keep in mind."
      ]
    },
    {
      "cell_type": "code",
      "execution_count": 79,
      "metadata": {
        "colab": {
          "base_uri": "https://localhost:8080/",
          "height": 563
        },
        "id": "orXNAJR2YwJd",
        "outputId": "b997c91f-cf07-4faf-a6f4-ebbd6757ba45"
      },
      "outputs": [
        {
          "output_type": "display_data",
          "data": {
            "text/plain": [
              "<Figure size 1000x600 with 1 Axes>"
            ],
            "image/png": "[encoded data removed]"
          },
          "metadata": {}
        }
      ],
      "source": [
        "####################\n",
        "## YOUR CODE HERE ##\n",
        "####################\n",
        "\n",
        "# Select the healthy data\n",
        "healthy_data = data_train[0]\n",
        "\n",
        "# Select one faulty data\n",
        "faulty_data = data_test[1]\n",
        "\n",
        "# Extract the 'time' and 'ENGINE_RPM' columns\n",
        "healthy_time = healthy_data['time']\n",
        "healthy_rpm = healthy_data['ENGINE_RPM']\n",
        "\n",
        "faulty_time = faulty_data['time']\n",
        "faulty_rpm = faulty_data['ENGINE_RPM']\n",
        "\n",
        "# Plotting the ENGINE_RPM\n",
        "plt.figure(figsize=(10, 6))\n",
        "plt.plot(healthy_time, healthy_rpm, label='Healthy')\n",
        "plt.plot(faulty_time, faulty_rpm, label='Faulty')\n",
        "plt.title('ENGINE_RPM Comparison')\n",
        "plt.xlabel('Time')\n",
        "plt.ylabel('ENGINE_RPM')\n",
        "plt.legend()\n",
        "plt.show()\n"
      ]
    },
    {
      "cell_type": "markdown",
      "metadata": {
        "id": "1Zv1F9w2YwJd"
      },
      "source": [
        "Let us extract the labels from the data and preserve them for later. Note that we will do an unsupervised anomaly detection. Therefore, we do not need labels for training."
      ]
    },
    {
      "cell_type": "code",
      "execution_count": 80,
      "metadata": {
        "id": "TdHJrOdlYwJd"
      },
      "outputs": [],
      "source": [
        "y_train = []\n",
        "for df in data_train:\n",
        "    y_train.append(df['label'])\n",
        "\n",
        "y_test = []\n",
        "for df in data_test:\n",
        "    y_test.append(df['label'])"
      ]
    },
    {
      "cell_type": "code",
      "source": [
        "y_train1=y_train\n",
        "y_test1=y_test\n"
      ],
      "metadata": {
        "id": "J4OxFog3H9sT"
      },
      "execution_count": 81,
      "outputs": []
    },
    {
      "cell_type": "markdown",
      "metadata": {
        "id": "sdvSe_52YwJd"
      },
      "source": [
        "We drop columns `time` and `label`, since they are not needed for training."
      ]
    },
    {
      "cell_type": "code",
      "execution_count": 82,
      "metadata": {
        "id": "5kPek9a_YwJd"
      },
      "outputs": [],
      "source": [
        "for df in data_train:\n",
        "    df.drop(columns = ['label', 'time'], inplace = True)\n",
        "\n",
        "for df in data_test:\n",
        "    df.drop(columns = ['label', 'time'], inplace = True)"
      ]
    },
    {
      "cell_type": "markdown",
      "metadata": {
        "id": "DsdLqQ0nYwJd"
      },
      "source": [
        "## Pre-processing\n",
        "\n",
        "#### TODO\n",
        "- Scale the data using `min-max scaler`.\n",
        "\n"
      ]
    },
    {
      "cell_type": "code",
      "execution_count": 83,
      "metadata": {
        "id": "wviATUVjYwJe"
      },
      "outputs": [],
      "source": [
        "####################\n",
        "## YOUR CODE HERE ##\n",
        "####################\n",
        "\n",
        "scaler = MinMaxScaler()\n",
        "\n",
        "# Scale the training data\n",
        "for df in data_train:\n",
        "    df[df.columns] = scaler.fit_transform(df[df.columns])\n",
        "\n",
        "# Scale the test data\n",
        "for df in data_test:\n",
        "    df[df.columns] = scaler.transform(df[df.columns])\n"
      ]
    },
    {
      "cell_type": "markdown",
      "metadata": {
        "id": "UlL88BEnYwJe"
      },
      "source": [
        "Since we are working with time-series data, it is beneficial to consider a sequence of time steps as the input of the model. In this way it is possible to exploit and learn the temporal dependencies in the data.\n",
        "\n",
        "To this end, let us consider a sliding window with the length of $\\ell$ and slide it over the whole time series with a stride of $s$ to generate our sequences. In this way, we will have:\n",
        "\n",
        "$ X_0 = [x_0, ..., x_{\\ell}]$\n",
        "\n",
        "$ X_1 = [x_s, ..., x_{\\ell+s}]$\n",
        "\n",
        "$ X_2 = [x_{2s}, ..., x_{\\ell+2s}]$\n",
        "\n",
        "...\n",
        "\n",
        "$ X_n = [x_{n\\times s}, ..., x_{\\ell+ n \\times s}]$\n",
        "\n",
        "as our input samples, where $x_t \\in \\mathbb{R}^p$ is the state of the system at time $t$."
      ]
    },
    {
      "cell_type": "code",
      "execution_count": 84,
      "metadata": {
        "id": "H85sr-mtYwJe"
      },
      "outputs": [],
      "source": [
        "def make_sequences(data, l, stride = 1):\n",
        "    sequences = [data[i:i+l] for i in range(0, len(data) - l, stride)]\n",
        "    return np.array(sequences)"
      ]
    },
    {
      "cell_type": "markdown",
      "metadata": {
        "id": "H5-h6zUaYwJe"
      },
      "source": [
        "#### TODO\n",
        " - Use the function above (`make_sequences`) to generate sequences. Use the sequence length of $\\ell = 32$ and stride of 1 for healthy data (for training and validation) and stride of $\\ell$ for faulty data (for testing).\n",
        " - Consider 80% of the healthy data for training and 20\\% of it for validation.\n",
        "\n",
        "**Note that we fit our model to the healthy data. After the training, we will employ the model to detect anomalies in the faulty time series.**"
      ]
    },
    {
      "cell_type": "code",
      "execution_count": 85,
      "metadata": {
        "id": "VzH6VsHcYwJe"
      },
      "outputs": [],
      "source": [
        "####################\n",
        "## YOUR CODE HERE ##\n",
        "####################\n",
        "# Define sequence length and strides\n",
        "sequence_length = 32\n",
        "healthy_stride = 1\n",
        "faulty_stride = sequence_length\n",
        "\n",
        "# Generate sequences for healthy data (training and validation)\n",
        "healthy_sequences = make_sequences(data_train[0].values, sequence_length, healthy_stride)\n",
        "\n"
      ]
    },
    {
      "cell_type": "code",
      "execution_count": 86,
      "metadata": {
        "id": "SpzbrHFYYwJe"
      },
      "outputs": [],
      "source": [
        "####################\n",
        "## YOUR CODE HERE ##\n",
        "####################\n",
        "\n",
        "# Split healthy sequences into training and validation sets\n",
        "healthy_train_size = int(0.8 * len(healthy_sequences))\n",
        "healthy_train_sequences = healthy_sequences[:healthy_train_size]\n",
        "healthy_val_sequences = healthy_sequences[healthy_train_size:]\n",
        "\n",
        "# Generate sequences for faulty data (testing)\n",
        "faulty_sequences = make_sequences(data_test[0].values, sequence_length, faulty_stride)\n"
      ]
    },
    {
      "cell_type": "markdown",
      "metadata": {
        "id": "0em02nbbYwJe"
      },
      "source": [
        "# Subtask 2.2\n",
        "\n",
        "## MLP-based autoencoder\n",
        "\n",
        "#### TODO\n",
        " - Consider the size of the bottleneck layer equal to 2.\n",
        " - Develop your model and print `model.summary()`.\n",
        " - Train the model.\n",
        " - Select the best model based on the validation loss.\n",
        " - Plot the learning curves.\n",
        " - Report the best validation loss you obtained."
      ]
    },
    {
      "cell_type": "code",
      "execution_count": 25,
      "metadata": {
        "colab": {
          "base_uri": "https://localhost:8080/"
        },
        "id": "alVbqw7PYwJe",
        "outputId": "8a327a6d-f66b-4f7a-bd3b-f38925a75d57"
      },
      "outputs": [
        {
          "output_type": "stream",
          "name": "stdout",
          "text": [
            "Model: \"sequential_5\"\n",
            "_________________________________________________________________\n",
            " Layer (type)                Output Shape              Param #   \n",
            "=================================================================\n",
            " dense_30 (Dense)            (None, 32, 64)            448       \n",
            "                                                                 \n",
            " dense_31 (Dense)            (None, 32, 32)            2080      \n",
            "                                                                 \n",
            " dense_32 (Dense)            (None, 32, 2)             66        \n",
            "                                                                 \n",
            " dense_33 (Dense)            (None, 32, 32)            96        \n",
            "                                                                 \n",
            " dense_34 (Dense)            (None, 32, 64)            2112      \n",
            "                                                                 \n",
            " dense_35 (Dense)            (None, 32, 6)             390       \n",
            "                                                                 \n",
            "=================================================================\n",
            "Total params: 5,192\n",
            "Trainable params: 5,192\n",
            "Non-trainable params: 0\n",
            "_________________________________________________________________\n",
            "Epoch 1/100\n",
            "532/532 [==============================] - 10s 6ms/step - loss: 0.0268 - val_loss: 0.0055\n",
            "Epoch 2/100\n",
            "532/532 [==============================] - 3s 6ms/step - loss: 0.0050 - val_loss: 0.0043\n",
            "Epoch 3/100\n",
            "532/532 [==============================] - 4s 7ms/step - loss: 0.0033 - val_loss: 0.0045\n",
            "Epoch 4/100\n",
            "532/532 [==============================] - 3s 6ms/step - loss: 0.0025 - val_loss: 0.0044\n",
            "Epoch 5/100\n",
            "532/532 [==============================] - 3s 6ms/step - loss: 0.0022 - val_loss: 0.0033\n",
            "Epoch 6/100\n",
            "532/532 [==============================] - 4s 7ms/step - loss: 0.0018 - val_loss: 0.0039\n",
            "Epoch 7/100\n",
            "532/532 [==============================] - 3s 6ms/step - loss: 0.0016 - val_loss: 0.0052\n",
            "Epoch 8/100\n",
            "532/532 [==============================] - 3s 6ms/step - loss: 0.0014 - val_loss: 0.0048\n",
            "Epoch 9/100\n",
            "532/532 [==============================] - 3s 6ms/step - loss: 0.0013 - val_loss: 0.0053\n",
            "Epoch 10/100\n",
            "532/532 [==============================] - 4s 8ms/step - loss: 0.0012 - val_loss: 0.0043\n",
            "Epoch 11/100\n",
            "532/532 [==============================] - 3s 6ms/step - loss: 0.0011 - val_loss: 0.0051\n",
            "Epoch 12/100\n",
            "532/532 [==============================] - 3s 6ms/step - loss: 9.9944e-04 - val_loss: 0.0045\n",
            "Epoch 13/100\n",
            "532/532 [==============================] - 3s 6ms/step - loss: 9.0566e-04 - val_loss: 0.0055\n",
            "Epoch 14/100\n",
            "532/532 [==============================] - 4s 7ms/step - loss: 8.2251e-04 - val_loss: 0.0047\n",
            "Epoch 15/100\n",
            "532/532 [==============================] - 3s 6ms/step - loss: 7.3769e-04 - val_loss: 0.0052\n",
            "Epoch 16/100\n",
            "532/532 [==============================] - 3s 6ms/step - loss: 6.7234e-04 - val_loss: 0.0045\n",
            "Epoch 17/100\n",
            "532/532 [==============================] - 4s 7ms/step - loss: 6.2963e-04 - val_loss: 0.0051\n",
            "Epoch 18/100\n",
            "532/532 [==============================] - 3s 6ms/step - loss: 5.8493e-04 - val_loss: 0.0044\n",
            "Epoch 19/100\n",
            "532/532 [==============================] - 3s 6ms/step - loss: 5.6220e-04 - val_loss: 0.0046\n",
            "Epoch 20/100\n",
            "532/532 [==============================] - 3s 6ms/step - loss: 5.4286e-04 - val_loss: 0.0044\n",
            "Epoch 21/100\n",
            "532/532 [==============================] - 4s 7ms/step - loss: 5.2836e-04 - val_loss: 0.0051\n",
            "Epoch 22/100\n",
            "532/532 [==============================] - 3s 6ms/step - loss: 5.0559e-04 - val_loss: 0.0049\n",
            "Epoch 23/100\n",
            "532/532 [==============================] - 3s 6ms/step - loss: 5.0446e-04 - val_loss: 0.0041\n",
            "Epoch 24/100\n",
            "532/532 [==============================] - 3s 6ms/step - loss: 4.9336e-04 - val_loss: 0.0044\n",
            "Epoch 25/100\n",
            "532/532 [==============================] - 4s 7ms/step - loss: 4.8453e-04 - val_loss: 0.0049\n",
            "Epoch 26/100\n",
            "532/532 [==============================] - 3s 6ms/step - loss: 4.7759e-04 - val_loss: 0.0046\n",
            "Epoch 27/100\n",
            "532/532 [==============================] - 3s 6ms/step - loss: 4.6903e-04 - val_loss: 0.0036\n",
            "Epoch 28/100\n",
            "532/532 [==============================] - 4s 7ms/step - loss: 4.5731e-04 - val_loss: 0.0039\n",
            "Epoch 29/100\n",
            "532/532 [==============================] - 3s 6ms/step - loss: 4.6233e-04 - val_loss: 0.0036\n",
            "Epoch 30/100\n",
            "532/532 [==============================] - 3s 6ms/step - loss: 4.3690e-04 - val_loss: 0.0041\n",
            "Epoch 31/100\n",
            "532/532 [==============================] - 3s 6ms/step - loss: 4.4110e-04 - val_loss: 0.0037\n",
            "Epoch 32/100\n",
            "532/532 [==============================] - 4s 8ms/step - loss: 4.3456e-04 - val_loss: 0.0034\n",
            "Epoch 33/100\n",
            "532/532 [==============================] - 3s 6ms/step - loss: 4.2893e-04 - val_loss: 0.0036\n",
            "Epoch 34/100\n",
            "532/532 [==============================] - 3s 6ms/step - loss: 4.2663e-04 - val_loss: 0.0034\n",
            "Epoch 35/100\n",
            "532/532 [==============================] - 3s 6ms/step - loss: 4.1589e-04 - val_loss: 0.0034\n",
            "Epoch 36/100\n",
            "532/532 [==============================] - 4s 7ms/step - loss: 4.0891e-04 - val_loss: 0.0040\n",
            "Epoch 37/100\n",
            "532/532 [==============================] - 3s 6ms/step - loss: 4.1439e-04 - val_loss: 0.0033\n",
            "Epoch 38/100\n",
            "532/532 [==============================] - 3s 6ms/step - loss: 4.0204e-04 - val_loss: 0.0035\n",
            "Epoch 39/100\n",
            "532/532 [==============================] - 4s 7ms/step - loss: 4.1068e-04 - val_loss: 0.0029\n",
            "Epoch 40/100\n",
            "532/532 [==============================] - 4s 7ms/step - loss: 3.9318e-04 - val_loss: 0.0041\n",
            "Epoch 41/100\n",
            "532/532 [==============================] - 4s 8ms/step - loss: 3.8639e-04 - val_loss: 0.0034\n",
            "Epoch 42/100\n",
            "532/532 [==============================] - 4s 7ms/step - loss: 3.9054e-04 - val_loss: 0.0035\n",
            "Epoch 43/100\n",
            "532/532 [==============================] - 4s 7ms/step - loss: 3.8137e-04 - val_loss: 0.0033\n",
            "Epoch 44/100\n",
            "532/532 [==============================] - 3s 6ms/step - loss: 3.6670e-04 - val_loss: 0.0034\n",
            "Epoch 45/100\n",
            "532/532 [==============================] - 3s 6ms/step - loss: 3.7484e-04 - val_loss: 0.0033\n",
            "Epoch 46/100\n",
            "532/532 [==============================] - 4s 7ms/step - loss: 3.6454e-04 - val_loss: 0.0029\n",
            "Epoch 47/100\n",
            "532/532 [==============================] - 3s 6ms/step - loss: 3.6171e-04 - val_loss: 0.0029\n",
            "Epoch 48/100\n",
            "532/532 [==============================] - 3s 6ms/step - loss: 3.5019e-04 - val_loss: 0.0029\n",
            "Epoch 49/100\n",
            "532/532 [==============================] - 3s 6ms/step - loss: 3.4058e-04 - val_loss: 0.0028\n",
            "Epoch 50/100\n",
            "532/532 [==============================] - 4s 7ms/step - loss: 3.4036e-04 - val_loss: 0.0028\n",
            "Epoch 51/100\n",
            "532/532 [==============================] - 3s 6ms/step - loss: 3.2787e-04 - val_loss: 0.0027\n",
            "Epoch 52/100\n",
            "532/532 [==============================] - 3s 6ms/step - loss: 3.3473e-04 - val_loss: 0.0030\n",
            "Epoch 53/100\n",
            "532/532 [==============================] - 3s 6ms/step - loss: 3.1808e-04 - val_loss: 0.0026\n",
            "Epoch 54/100\n",
            "532/532 [==============================] - 4s 7ms/step - loss: 3.1862e-04 - val_loss: 0.0026\n",
            "Epoch 55/100\n",
            "532/532 [==============================] - 3s 6ms/step - loss: 3.1390e-04 - val_loss: 0.0026\n",
            "Epoch 56/100\n",
            "532/532 [==============================] - 3s 6ms/step - loss: 3.0743e-04 - val_loss: 0.0022\n",
            "Epoch 57/100\n",
            "532/532 [==============================] - 4s 7ms/step - loss: 3.1941e-04 - val_loss: 0.0025\n",
            "Epoch 58/100\n",
            "532/532 [==============================] - 3s 6ms/step - loss: 3.0909e-04 - val_loss: 0.0023\n",
            "Epoch 59/100\n",
            "532/532 [==============================] - 3s 6ms/step - loss: 3.0570e-04 - val_loss: 0.0022\n",
            "Epoch 60/100\n",
            "532/532 [==============================] - 3s 6ms/step - loss: 2.9307e-04 - val_loss: 0.0022\n",
            "Epoch 61/100\n",
            "532/532 [==============================] - 4s 7ms/step - loss: 2.9731e-04 - val_loss: 0.0021\n",
            "Epoch 62/100\n",
            "532/532 [==============================] - 3s 6ms/step - loss: 2.8993e-04 - val_loss: 0.0022\n",
            "Epoch 63/100\n",
            "532/532 [==============================] - 3s 6ms/step - loss: 2.8656e-04 - val_loss: 0.0021\n",
            "Epoch 64/100\n",
            "532/532 [==============================] - 3s 6ms/step - loss: 2.8077e-04 - val_loss: 0.0023\n",
            "Epoch 65/100\n",
            "532/532 [==============================] - 4s 7ms/step - loss: 2.7778e-04 - val_loss: 0.0020\n",
            "Epoch 66/100\n",
            "532/532 [==============================] - 3s 6ms/step - loss: 2.8322e-04 - val_loss: 0.0022\n",
            "Epoch 67/100\n",
            "532/532 [==============================] - 3s 6ms/step - loss: 2.7906e-04 - val_loss: 0.0019\n",
            "Epoch 68/100\n",
            "532/532 [==============================] - 4s 7ms/step - loss: 2.6959e-04 - val_loss: 0.0017\n",
            "Epoch 69/100\n",
            "532/532 [==============================] - 3s 6ms/step - loss: 2.7180e-04 - val_loss: 0.0017\n",
            "Epoch 70/100\n",
            "532/532 [==============================] - 3s 6ms/step - loss: 2.7162e-04 - val_loss: 0.0018\n",
            "Epoch 71/100\n",
            "532/532 [==============================] - 3s 6ms/step - loss: 2.7433e-04 - val_loss: 0.0016\n",
            "Epoch 72/100\n",
            "532/532 [==============================] - 4s 7ms/step - loss: 2.6340e-04 - val_loss: 0.0015\n",
            "Epoch 73/100\n",
            "532/532 [==============================] - 3s 6ms/step - loss: 2.6636e-04 - val_loss: 0.0018\n",
            "Epoch 74/100\n",
            "532/532 [==============================] - 3s 6ms/step - loss: 2.7238e-04 - val_loss: 0.0017\n",
            "Epoch 75/100\n",
            "532/532 [==============================] - 3s 6ms/step - loss: 2.5770e-04 - val_loss: 0.0017\n",
            "Epoch 76/100\n",
            "532/532 [==============================] - 4s 8ms/step - loss: 2.5571e-04 - val_loss: 0.0016\n",
            "Epoch 77/100\n",
            "532/532 [==============================] - 3s 6ms/step - loss: 2.6527e-04 - val_loss: 0.0016\n",
            "Epoch 78/100\n",
            "532/532 [==============================] - 3s 6ms/step - loss: 2.6062e-04 - val_loss: 0.0016\n",
            "Epoch 79/100\n",
            "532/532 [==============================] - 3s 6ms/step - loss: 2.5566e-04 - val_loss: 0.0015\n",
            "Epoch 80/100\n",
            "532/532 [==============================] - 4s 7ms/step - loss: 2.4916e-04 - val_loss: 0.0016\n",
            "Epoch 81/100\n",
            "532/532 [==============================] - 3s 6ms/step - loss: 2.5270e-04 - val_loss: 0.0016\n",
            "Epoch 82/100\n",
            "532/532 [==============================] - 3s 6ms/step - loss: 2.5994e-04 - val_loss: 0.0017\n",
            "Epoch 83/100\n",
            "532/532 [==============================] - 4s 7ms/step - loss: 2.4497e-04 - val_loss: 0.0016\n",
            "Epoch 84/100\n",
            "532/532 [==============================] - 3s 6ms/step - loss: 2.5715e-04 - val_loss: 0.0016\n",
            "Epoch 85/100\n",
            "532/532 [==============================] - 3s 6ms/step - loss: 2.4752e-04 - val_loss: 0.0015\n",
            "Epoch 86/100\n",
            "532/532 [==============================] - 3s 6ms/step - loss: 2.4397e-04 - val_loss: 0.0015\n",
            "Epoch 87/100\n",
            "532/532 [==============================] - 4s 8ms/step - loss: 2.4857e-04 - val_loss: 0.0015\n",
            "Epoch 88/100\n",
            "532/532 [==============================] - 3s 6ms/step - loss: 2.4491e-04 - val_loss: 0.0017\n",
            "Epoch 89/100\n",
            "532/532 [==============================] - 3s 6ms/step - loss: 2.4401e-04 - val_loss: 0.0014\n",
            "Epoch 90/100\n",
            "532/532 [==============================] - 3s 6ms/step - loss: 2.3976e-04 - val_loss: 0.0014\n",
            "Epoch 91/100\n",
            "532/532 [==============================] - 4s 7ms/step - loss: 2.3801e-04 - val_loss: 0.0015\n",
            "Epoch 92/100\n",
            "532/532 [==============================] - 3s 6ms/step - loss: 2.3798e-04 - val_loss: 0.0013\n",
            "Epoch 93/100\n",
            "532/532 [==============================] - 3s 6ms/step - loss: 2.3683e-04 - val_loss: 0.0013\n",
            "Epoch 94/100\n",
            "532/532 [==============================] - 4s 7ms/step - loss: 2.3436e-04 - val_loss: 0.0013\n",
            "Epoch 95/100\n",
            "532/532 [==============================] - 3s 6ms/step - loss: 2.3801e-04 - val_loss: 0.0013\n",
            "Epoch 96/100\n",
            "532/532 [==============================] - 3s 6ms/step - loss: 2.4724e-04 - val_loss: 0.0013\n",
            "Epoch 97/100\n",
            "532/532 [==============================] - 3s 6ms/step - loss: 2.2658e-04 - val_loss: 0.0012\n",
            "Epoch 98/100\n",
            "532/532 [==============================] - 4s 8ms/step - loss: 2.3135e-04 - val_loss: 0.0013\n",
            "Epoch 99/100\n",
            "532/532 [==============================] - 3s 6ms/step - loss: 2.2245e-04 - val_loss: 0.0013\n",
            "Epoch 100/100\n",
            "532/532 [==============================] - 3s 6ms/step - loss: 2.3142e-04 - val_loss: 0.0013\n"
          ]
        }
      ],
      "source": [
        "####################\n",
        "## YOUR CODE HERE ##\n",
        "####################\n",
        "from tensorflow.keras.models import Sequential\n",
        "from tensorflow.keras.layers import Dense\n",
        "\n",
        "# Define the model architecture\n",
        "model = Sequential([\n",
        "    Dense(64, activation='relu', input_shape=(sequence_length, 6)),\n",
        "    Dense(32, activation='relu'),\n",
        "    Dense(2, activation='relu'),  # Bottleneck layer\n",
        "    Dense(32, activation='relu'),\n",
        "    Dense(64, activation='relu'),\n",
        "    Dense(6, activation='sigmoid')  # Output layer\n",
        "])\n",
        "\n",
        "# Compile the model\n",
        "model.compile(optimizer='adam', loss='mse')\n",
        "\n",
        "# Print the model summary\n",
        "model.summary()\n",
        "\n",
        "# Train the model\n",
        "history = model.fit(healthy_train_sequences, healthy_train_sequences,\n",
        "                    validation_data=(healthy_val_sequences, healthy_val_sequences),\n",
        "                    epochs=100, batch_size=32, verbose=1)\n",
        "\n",
        "\n",
        "\n",
        "\n",
        "\n",
        "\n"
      ]
    },
    {
      "cell_type": "code",
      "execution_count": 27,
      "metadata": {
        "colab": {
          "base_uri": "https://localhost:8080/",
          "height": 466
        },
        "id": "wgjhjpYiYwJe",
        "outputId": "7b9189a7-7199-423a-a6ac-76c399d01924"
      },
      "outputs": [
        {
          "output_type": "display_data",
          "data": {
            "text/plain": [
              "<Figure size 640x480 with 1 Axes>"
            ],
            "image/png": "[encoded data removed]"
          },
          "metadata": {}
        },
        {
          "output_type": "stream",
          "name": "stdout",
          "text": [
            "Best Validation Loss: 0.0012486126506701112\n"
          ]
        }
      ],
      "source": [
        "####################\n",
        "## YOUR CODE HERE ##\n",
        "####################\n",
        "# Select the best model based on validation loss\n",
        "best_model = model\n",
        "\n",
        "# Plot the learning curves\n",
        "\n",
        "plt.plot(history.history['loss'], label='Training Loss')\n",
        "plt.plot(history.history['val_loss'], label='Validation Loss')\n",
        "plt.xlabel('Epochs')\n",
        "plt.ylabel('Loss')\n",
        "plt.legend()\n",
        "plt.show()\n",
        "\n",
        "# Report the best validation loss\n",
        "best_val_loss = min(history.history['val_loss'])\n",
        "print(\"Best Validation Loss:\", best_val_loss)"
      ]
    },
    {
      "cell_type": "markdown",
      "metadata": {
        "id": "yBGEu2QyYwJf"
      },
      "source": [
        "# Subtask 2.3\n",
        "\n",
        "## CNN-based autoencoder\n",
        "\n",
        "#### TODO\n",
        "- Consider the size of the bottleneck layer equal to 2.\n",
        "\n",
        " - Develop your model and print `model.summary()`. Use 1D convolution, 1D pooling, and dense layers in the encoder and dense, 1D convolution transpose and 1D up-sampling layers in the decoder.\n",
        " - Train the model.\n",
        " - Select the best model based on the validation loss.\n",
        " - Plot the learning curves.\n",
        " - Report the best validation loss you obtained."
      ]
    },
    {
      "cell_type": "code",
      "execution_count": 30,
      "metadata": {
        "colab": {
          "base_uri": "https://localhost:8080/"
        },
        "id": "HvXBpiFwYwJf",
        "outputId": "32616475-7bfe-43b1-88c6-2e77730ce1b3"
      },
      "outputs": [
        {
          "output_type": "stream",
          "name": "stdout",
          "text": [
            "Model: \"model_1\"\n",
            "_________________________________________________________________\n",
            " Layer (type)                Output Shape              Param #   \n",
            "=================================================================\n",
            " input_2 (InputLayer)        [(None, 32, 6)]           0         \n",
            "                                                                 \n",
            " conv1d_6 (Conv1D)           (None, 32, 16)            304       \n",
            "                                                                 \n",
            " max_pooling1d_3 (MaxPooling  (None, 16, 16)           0         \n",
            " 1D)                                                             \n",
            "                                                                 \n",
            " conv1d_7 (Conv1D)           (None, 16, 8)             392       \n",
            "                                                                 \n",
            " max_pooling1d_4 (MaxPooling  (None, 8, 8)             0         \n",
            " 1D)                                                             \n",
            "                                                                 \n",
            " conv1d_8 (Conv1D)           (None, 8, 4)              100       \n",
            "                                                                 \n",
            " max_pooling1d_5 (MaxPooling  (None, 4, 4)             0         \n",
            " 1D)                                                             \n",
            "                                                                 \n",
            " dense_38 (Dense)            (None, 4, 2)              10        \n",
            "                                                                 \n",
            " dense_39 (Dense)            (None, 4, 4)              12        \n",
            "                                                                 \n",
            " up_sampling1d_3 (UpSampling  (None, 8, 4)             0         \n",
            " 1D)                                                             \n",
            "                                                                 \n",
            " conv1d_9 (Conv1D)           (None, 8, 8)              104       \n",
            "                                                                 \n",
            " up_sampling1d_4 (UpSampling  (None, 16, 8)            0         \n",
            " 1D)                                                             \n",
            "                                                                 \n",
            " conv1d_10 (Conv1D)          (None, 16, 16)            400       \n",
            "                                                                 \n",
            " up_sampling1d_5 (UpSampling  (None, 32, 16)           0         \n",
            " 1D)                                                             \n",
            "                                                                 \n",
            " conv1d_11 (Conv1D)          (None, 32, 6)             294       \n",
            "                                                                 \n",
            "=================================================================\n",
            "Total params: 1,616\n",
            "Trainable params: 1,616\n",
            "Non-trainable params: 0\n",
            "_________________________________________________________________\n",
            "Epoch 1/100\n",
            "532/532 [==============================] - 7s 8ms/step - loss: 0.0313 - val_loss: 0.0114\n",
            "Epoch 2/100\n",
            "532/532 [==============================] - 5s 9ms/step - loss: 0.0077 - val_loss: 0.0061\n",
            "Epoch 3/100\n",
            "532/532 [==============================] - 4s 8ms/step - loss: 0.0058 - val_loss: 0.0082\n",
            "Epoch 4/100\n",
            "532/532 [==============================] - 4s 7ms/step - loss: 0.0049 - val_loss: 0.0068\n",
            "Epoch 5/100\n",
            "532/532 [==============================] - 5s 9ms/step - loss: 0.0045 - val_loss: 0.0060\n",
            "Epoch 6/100\n",
            "532/532 [==============================] - 4s 7ms/step - loss: 0.0042 - val_loss: 0.0060\n",
            "Epoch 7/100\n",
            "532/532 [==============================] - 4s 7ms/step - loss: 0.0040 - val_loss: 0.0056\n",
            "Epoch 8/100\n",
            "532/532 [==============================] - 5s 9ms/step - loss: 0.0038 - val_loss: 0.0058\n",
            "Epoch 9/100\n",
            "532/532 [==============================] - 4s 7ms/step - loss: 0.0037 - val_loss: 0.0055\n",
            "Epoch 10/100\n",
            "532/532 [==============================] - 5s 10ms/step - loss: 0.0036 - val_loss: 0.0058\n",
            "Epoch 11/100\n",
            "532/532 [==============================] - 4s 8ms/step - loss: 0.0035 - val_loss: 0.0058\n",
            "Epoch 12/100\n",
            "532/532 [==============================] - 4s 7ms/step - loss: 0.0034 - val_loss: 0.0061\n",
            "Epoch 13/100\n",
            "532/532 [==============================] - 4s 8ms/step - loss: 0.0034 - val_loss: 0.0067\n",
            "Epoch 14/100\n",
            "532/532 [==============================] - 4s 8ms/step - loss: 0.0033 - val_loss: 0.0056\n",
            "Epoch 15/100\n",
            "532/532 [==============================] - 4s 7ms/step - loss: 0.0033 - val_loss: 0.0059\n",
            "Epoch 16/100\n",
            "532/532 [==============================] - 6s 11ms/step - loss: 0.0032 - val_loss: 0.0061\n",
            "Epoch 17/100\n",
            "532/532 [==============================] - 5s 10ms/step - loss: 0.0032 - val_loss: 0.0061\n",
            "Epoch 18/100\n",
            "532/532 [==============================] - 5s 10ms/step - loss: 0.0031 - val_loss: 0.0059\n",
            "Epoch 19/100\n",
            "532/532 [==============================] - 4s 8ms/step - loss: 0.0031 - val_loss: 0.0056\n",
            "Epoch 20/100\n",
            "532/532 [==============================] - 4s 7ms/step - loss: 0.0031 - val_loss: 0.0062\n",
            "Epoch 21/100\n",
            "532/532 [==============================] - 4s 8ms/step - loss: 0.0030 - val_loss: 0.0067\n",
            "Epoch 22/100\n",
            "532/532 [==============================] - 4s 8ms/step - loss: 0.0030 - val_loss: 0.0057\n",
            "Epoch 23/100\n",
            "532/532 [==============================] - 4s 7ms/step - loss: 0.0029 - val_loss: 0.0066\n",
            "Epoch 24/100\n",
            "532/532 [==============================] - 5s 9ms/step - loss: 0.0029 - val_loss: 0.0067\n",
            "Epoch 25/100\n",
            "532/532 [==============================] - 4s 8ms/step - loss: 0.0028 - val_loss: 0.0061\n",
            "Epoch 26/100\n",
            "532/532 [==============================] - 4s 8ms/step - loss: 0.0028 - val_loss: 0.0064\n",
            "Epoch 27/100\n",
            "532/532 [==============================] - 5s 9ms/step - loss: 0.0028 - val_loss: 0.0066\n",
            "Epoch 28/100\n",
            "532/532 [==============================] - 4s 7ms/step - loss: 0.0028 - val_loss: 0.0067\n",
            "Epoch 29/100\n",
            "532/532 [==============================] - 4s 7ms/step - loss: 0.0027 - val_loss: 0.0062\n",
            "Epoch 30/100\n",
            "532/532 [==============================] - 5s 9ms/step - loss: 0.0027 - val_loss: 0.0061\n",
            "Epoch 31/100\n",
            "532/532 [==============================] - 4s 7ms/step - loss: 0.0027 - val_loss: 0.0057\n",
            "Epoch 32/100\n",
            "532/532 [==============================] - 4s 7ms/step - loss: 0.0027 - val_loss: 0.0068\n",
            "Epoch 33/100\n",
            "532/532 [==============================] - 5s 9ms/step - loss: 0.0027 - val_loss: 0.0061\n",
            "Epoch 34/100\n",
            "532/532 [==============================] - 4s 8ms/step - loss: 0.0027 - val_loss: 0.0076\n",
            "Epoch 35/100\n",
            "532/532 [==============================] - 4s 7ms/step - loss: 0.0027 - val_loss: 0.0064\n",
            "Epoch 36/100\n",
            "532/532 [==============================] - 5s 9ms/step - loss: 0.0026 - val_loss: 0.0065\n",
            "Epoch 37/100\n",
            "532/532 [==============================] - 4s 7ms/step - loss: 0.0026 - val_loss: 0.0062\n",
            "Epoch 38/100\n",
            "532/532 [==============================] - 6s 11ms/step - loss: 0.0026 - val_loss: 0.0065\n",
            "Epoch 39/100\n",
            "532/532 [==============================] - 8s 14ms/step - loss: 0.0026 - val_loss: 0.0070\n",
            "Epoch 40/100\n",
            "532/532 [==============================] - 4s 7ms/step - loss: 0.0026 - val_loss: 0.0080\n",
            "Epoch 41/100\n",
            "532/532 [==============================] - 5s 9ms/step - loss: 0.0026 - val_loss: 0.0064\n",
            "Epoch 42/100\n",
            "532/532 [==============================] - 4s 7ms/step - loss: 0.0025 - val_loss: 0.0065\n",
            "Epoch 43/100\n",
            "532/532 [==============================] - 4s 8ms/step - loss: 0.0025 - val_loss: 0.0059\n",
            "Epoch 44/100\n",
            "532/532 [==============================] - 5s 9ms/step - loss: 0.0025 - val_loss: 0.0066\n",
            "Epoch 45/100\n",
            "532/532 [==============================] - 4s 7ms/step - loss: 0.0025 - val_loss: 0.0066\n",
            "Epoch 46/100\n",
            "532/532 [==============================] - 4s 8ms/step - loss: 0.0025 - val_loss: 0.0069\n",
            "Epoch 47/100\n",
            "532/532 [==============================] - 4s 8ms/step - loss: 0.0024 - val_loss: 0.0065\n",
            "Epoch 48/100\n",
            "532/532 [==============================] - 4s 7ms/step - loss: 0.0024 - val_loss: 0.0062\n",
            "Epoch 49/100\n",
            "532/532 [==============================] - 5s 9ms/step - loss: 0.0024 - val_loss: 0.0062\n",
            "Epoch 50/100\n",
            "532/532 [==============================] - 4s 8ms/step - loss: 0.0024 - val_loss: 0.0060\n",
            "Epoch 51/100\n",
            "532/532 [==============================] - 4s 8ms/step - loss: 0.0024 - val_loss: 0.0065\n",
            "Epoch 52/100\n",
            "532/532 [==============================] - 5s 9ms/step - loss: 0.0024 - val_loss: 0.0062\n",
            "Epoch 53/100\n",
            "532/532 [==============================] - 4s 7ms/step - loss: 0.0023 - val_loss: 0.0062\n",
            "Epoch 54/100\n",
            "532/532 [==============================] - 4s 7ms/step - loss: 0.0023 - val_loss: 0.0064\n",
            "Epoch 55/100\n",
            "532/532 [==============================] - 5s 9ms/step - loss: 0.0023 - val_loss: 0.0064\n",
            "Epoch 56/100\n",
            "532/532 [==============================] - 4s 7ms/step - loss: 0.0023 - val_loss: 0.0058\n",
            "Epoch 57/100\n",
            "532/532 [==============================] - 4s 7ms/step - loss: 0.0023 - val_loss: 0.0066\n",
            "Epoch 58/100\n",
            "532/532 [==============================] - 5s 9ms/step - loss: 0.0023 - val_loss: 0.0069\n",
            "Epoch 59/100\n",
            "532/532 [==============================] - 4s 7ms/step - loss: 0.0023 - val_loss: 0.0062\n",
            "Epoch 60/100\n",
            "532/532 [==============================] - 4s 7ms/step - loss: 0.0023 - val_loss: 0.0058\n",
            "Epoch 61/100\n",
            "532/532 [==============================] - 5s 9ms/step - loss: 0.0023 - val_loss: 0.0063\n",
            "Epoch 62/100\n",
            "532/532 [==============================] - 4s 7ms/step - loss: 0.0022 - val_loss: 0.0061\n",
            "Epoch 63/100\n",
            "532/532 [==============================] - 4s 8ms/step - loss: 0.0023 - val_loss: 0.0063\n",
            "Epoch 64/100\n",
            "532/532 [==============================] - 5s 10ms/step - loss: 0.0022 - val_loss: 0.0063\n",
            "Epoch 65/100\n",
            "532/532 [==============================] - 4s 7ms/step - loss: 0.0022 - val_loss: 0.0066\n",
            "Epoch 66/100\n",
            "532/532 [==============================] - 4s 7ms/step - loss: 0.0022 - val_loss: 0.0057\n",
            "Epoch 67/100\n",
            "532/532 [==============================] - 5s 9ms/step - loss: 0.0022 - val_loss: 0.0060\n",
            "Epoch 68/100\n",
            "532/532 [==============================] - 4s 7ms/step - loss: 0.0022 - val_loss: 0.0059\n",
            "Epoch 69/100\n",
            "532/532 [==============================] - 4s 8ms/step - loss: 0.0022 - val_loss: 0.0057\n",
            "Epoch 70/100\n",
            "532/532 [==============================] - 5s 9ms/step - loss: 0.0022 - val_loss: 0.0058\n",
            "Epoch 71/100\n",
            "532/532 [==============================] - 4s 7ms/step - loss: 0.0022 - val_loss: 0.0060\n",
            "Epoch 72/100\n",
            "532/532 [==============================] - 4s 8ms/step - loss: 0.0022 - val_loss: 0.0063\n",
            "Epoch 73/100\n",
            "532/532 [==============================] - 5s 9ms/step - loss: 0.0022 - val_loss: 0.0057\n",
            "Epoch 74/100\n",
            "532/532 [==============================] - 4s 7ms/step - loss: 0.0022 - val_loss: 0.0056\n",
            "Epoch 75/100\n",
            "532/532 [==============================] - 4s 8ms/step - loss: 0.0022 - val_loss: 0.0053\n",
            "Epoch 76/100\n",
            "532/532 [==============================] - 4s 8ms/step - loss: 0.0022 - val_loss: 0.0056\n",
            "Epoch 77/100\n",
            "532/532 [==============================] - 4s 7ms/step - loss: 0.0022 - val_loss: 0.0058\n",
            "Epoch 78/100\n",
            "532/532 [==============================] - 5s 9ms/step - loss: 0.0022 - val_loss: 0.0058\n",
            "Epoch 79/100\n",
            "532/532 [==============================] - 4s 8ms/step - loss: 0.0022 - val_loss: 0.0061\n",
            "Epoch 80/100\n",
            "532/532 [==============================] - 4s 8ms/step - loss: 0.0021 - val_loss: 0.0053\n",
            "Epoch 81/100\n",
            "532/532 [==============================] - 5s 9ms/step - loss: 0.0021 - val_loss: 0.0059\n",
            "Epoch 82/100\n",
            "532/532 [==============================] - 4s 7ms/step - loss: 0.0021 - val_loss: 0.0063\n",
            "Epoch 83/100\n",
            "532/532 [==============================] - 4s 7ms/step - loss: 0.0021 - val_loss: 0.0059\n",
            "Epoch 84/100\n",
            "532/532 [==============================] - 5s 9ms/step - loss: 0.0021 - val_loss: 0.0057\n",
            "Epoch 85/100\n",
            "532/532 [==============================] - 4s 7ms/step - loss: 0.0021 - val_loss: 0.0055\n",
            "Epoch 86/100\n",
            "532/532 [==============================] - 4s 7ms/step - loss: 0.0021 - val_loss: 0.0058\n",
            "Epoch 87/100\n",
            "532/532 [==============================] - 5s 9ms/step - loss: 0.0021 - val_loss: 0.0058\n",
            "Epoch 88/100\n",
            "532/532 [==============================] - 4s 8ms/step - loss: 0.0020 - val_loss: 0.0054\n",
            "Epoch 89/100\n",
            "532/532 [==============================] - 6s 12ms/step - loss: 0.0021 - val_loss: 0.0060\n",
            "Epoch 90/100\n",
            "532/532 [==============================] - 4s 8ms/step - loss: 0.0020 - val_loss: 0.0064\n",
            "Epoch 91/100\n",
            "532/532 [==============================] - 4s 7ms/step - loss: 0.0020 - val_loss: 0.0057\n",
            "Epoch 92/100\n",
            "532/532 [==============================] - 5s 9ms/step - loss: 0.0020 - val_loss: 0.0059\n",
            "Epoch 93/100\n",
            "532/532 [==============================] - 4s 7ms/step - loss: 0.0020 - val_loss: 0.0065\n",
            "Epoch 94/100\n",
            "532/532 [==============================] - 4s 7ms/step - loss: 0.0020 - val_loss: 0.0057\n",
            "Epoch 95/100\n",
            "532/532 [==============================] - 5s 9ms/step - loss: 0.0020 - val_loss: 0.0057\n",
            "Epoch 96/100\n",
            "532/532 [==============================] - 4s 7ms/step - loss: 0.0020 - val_loss: 0.0057\n",
            "Epoch 97/100\n",
            "532/532 [==============================] - 4s 7ms/step - loss: 0.0020 - val_loss: 0.0057\n",
            "Epoch 98/100\n",
            "532/532 [==============================] - 5s 9ms/step - loss: 0.0020 - val_loss: 0.0060\n",
            "Epoch 99/100\n",
            "532/532 [==============================] - 4s 7ms/step - loss: 0.0020 - val_loss: 0.0057\n",
            "Epoch 100/100\n",
            "532/532 [==============================] - 4s 7ms/step - loss: 0.0020 - val_loss: 0.0060\n"
          ]
        }
      ],
      "source": [
        "####################\n",
        "## YOUR CODE HERE ##\n",
        "####################\n",
        "from keras.models import Model\n",
        "from keras.layers import Input, Conv1D, MaxPooling1D, UpSampling1D, Dense\n",
        "from keras.callbacks import ModelCheckpoint\n",
        "# Define the input shape\n",
        "input_shape = (32, 6)\n",
        "\n",
        "# Encoder\n",
        "inputs = Input(shape=input_shape)\n",
        "x = Conv1D(filters=16, kernel_size=3, activation='relu', padding='same')(inputs)\n",
        "x = MaxPooling1D(pool_size=2)(x)\n",
        "x = Conv1D(filters=8, kernel_size=3, activation='relu', padding='same')(x)\n",
        "x = MaxPooling1D(pool_size=2)(x)\n",
        "x = Conv1D(filters=4, kernel_size=3, activation='relu', padding='same')(x)\n",
        "x = MaxPooling1D(pool_size=2)(x)\n",
        "x = Dense(units=2, activation='relu')(x)  # Bottleneck layer\n",
        "\n",
        "# Decoder\n",
        "x = Dense(units=4, activation='relu')(x)\n",
        "x = UpSampling1D(size=2)(x)\n",
        "x = Conv1D(filters=8, kernel_size=3, activation='relu', padding='same')(x)\n",
        "x = UpSampling1D(size=2)(x)\n",
        "x = Conv1D(filters=16, kernel_size=3, activation='relu', padding='same')(x)\n",
        "x = UpSampling1D(size=2)(x)\n",
        "outputs = Conv1D(filters=6, kernel_size=3, activation='sigmoid', padding='same')(x)\n",
        "\n",
        "# Create the autoencoder model\n",
        "model = Model(inputs=inputs, outputs=outputs)\n",
        "model.compile(optimizer='adam', loss='mean_squared_error')\n",
        "\n",
        "# Print the model summary\n",
        "model.summary()\n",
        "# Define the ModelCheckpoint callback\n",
        "checkpoint = ModelCheckpoint('best_model_weights_epoch_{epoch}.h5', save_best_only=True)\n",
        "\n",
        "# Train the model\n",
        "history = model.fit(healthy_train_sequences, healthy_train_sequences,\n",
        "                    validation_data=(healthy_val_sequences, healthy_val_sequences),\n",
        "                    epochs=100, batch_size=32, verbose=1,\n",
        "                    callbacks=[checkpoint])\n",
        "\n",
        "\n"
      ]
    },
    {
      "cell_type": "code",
      "execution_count": 32,
      "metadata": {
        "colab": {
          "base_uri": "https://localhost:8080/",
          "height": 466
        },
        "id": "Whvs-MSRYwJf",
        "outputId": "0a8a5cf4-eff0-4798-d167-cb97348ee8f1"
      },
      "outputs": [
        {
          "output_type": "display_data",
          "data": {
            "text/plain": [
              "<Figure size 640x480 with 1 Axes>"
            ],
            "image/png": "[encoded data removed]"
          },
          "metadata": {}
        },
        {
          "output_type": "stream",
          "name": "stdout",
          "text": [
            "Best Validation Loss: 0.005268063396215439\n"
          ]
        }
      ],
      "source": [
        "####################\n",
        "## YOUR CODE HERE ##\n",
        "####################\n",
        "\n",
        "best_epoch = np.argmin(history.history['val_loss'])\n",
        "best_model = model\n",
        "\n",
        "# Load the weights of the best model\n",
        "best_model.load_weights('best_model_weights_epoch_9.h5')\n",
        "\n",
        "# Plot the training and validation loss\n",
        "plt.plot(history.history['loss'], label='Training Loss')\n",
        "plt.plot(history.history['val_loss'], label='Validation Loss')\n",
        "plt.xlabel('Epoch')\n",
        "plt.ylabel('Loss')\n",
        "plt.legend()\n",
        "plt.show()\n",
        "\n",
        "best_val_loss = history.history['val_loss'][best_epoch]\n",
        "print('Best Validation Loss:', best_val_loss)\n",
        "\n",
        "\n"
      ]
    },
    {
      "cell_type": "markdown",
      "metadata": {
        "id": "U2UKYZ8fYwJf"
      },
      "source": [
        "# Subtask 2.4\n",
        "\n",
        "## Visualize the data in the latent space\n",
        "\n",
        "#### TODO\n",
        " - Take the encoder part of the model as a new model.\n",
        " - Use the encoder to map the test data to the latent space.\n",
        " - Plot the latent variables versus each other.\n",
        "\n",
        " **Note:** Do not forget to add title, axis labels and a legend!\n",
        "This applies in general, please keep in mind."
      ]
    },
    {
      "cell_type": "code",
      "execution_count": 36,
      "metadata": {
        "colab": {
          "base_uri": "https://localhost:8080/"
        },
        "id": "EuufpeowYwJf",
        "outputId": "5c693fad-66ee-405e-d0ee-4c5542f23574"
      },
      "outputs": [
        {
          "output_type": "stream",
          "name": "stdout",
          "text": [
            "665/665 [==============================] - 1s 2ms/step\n",
            "21/21 [==============================] - 0s 6ms/step\n"
          ]
        }
      ],
      "source": [
        "# Extract the encoder part of the model\n",
        "encoder = Model(inputs=model.input, outputs=model.get_layer('dense_38').output)\n",
        "####################\n",
        "## YOUR CODE HERE ##\n",
        "####################\n",
        "# Encode the test data\n",
        "\n",
        "# Encode the test data\n",
        "healthy_latent_space = encoder.predict(healthy_sequences)\n",
        "faulty_latent_space = encoder.predict(faulty_sequences)\n",
        "\n"
      ]
    },
    {
      "cell_type": "code",
      "execution_count": 38,
      "metadata": {
        "colab": {
          "base_uri": "https://localhost:8080/",
          "height": 472
        },
        "id": "OwI3Oj03YwJf",
        "outputId": "6edc3fac-a9f1-4f3a-eeec-bc3c932e3d5e"
      },
      "outputs": [
        {
          "output_type": "display_data",
          "data": {
            "text/plain": [
              "<Figure size 640x480 with 1 Axes>"
            ],
            "image/png": "[encoded data removed]"
          },
          "metadata": {}
        }
      ],
      "source": [
        "####################\n",
        "## YOUR CODE HERE ##\n",
        "####################\n",
        "\n",
        "# Plot the latent variables\n",
        "plt.scatter(healthy_latent_space[:, 0], healthy_latent_space[:, 1], label='Healthy')\n",
        "plt.scatter(faulty_latent_space[:, 0], faulty_latent_space[:, 1], label='Faulty')\n",
        "plt.title('Latent Space Visualization')\n",
        "plt.xlabel('ENGINE_RPM')\n",
        "plt.ylabel('T_Water[degC]')\n",
        "plt.legend()\n",
        "plt.show()"
      ]
    },
    {
      "cell_type": "markdown",
      "metadata": {
        "id": "GumLEmfAYwJm"
      },
      "source": [
        "# Subtask 2.5\n",
        "\n",
        "## Size of the latent vector (bottleneck layer)\n",
        "\n",
        "#### TODO\n",
        " - Use the CNN-based autoencoder.\n",
        " - Change the size of the bottleneck layer to 2, 4, 8, 16.\n",
        " - Train the model.\n",
        " - Select the best model based on the validation loss.\n",
        "  - Report the best validation loss you obtained for each model.\n",
        " - Plot the best validation loss for each model versus the size of the bottleneck layer.\n",
        "\n",
        " **Note:** Do not forget to add title, axis labels and a legend!\n",
        "This applies in general, please keep in mind.\n"
      ]
    },
    {
      "cell_type": "code",
      "execution_count": 43,
      "metadata": {
        "colab": {
          "base_uri": "https://localhost:8080/"
        },
        "id": "rHgp8ZsuYwJm",
        "outputId": "62a88662-9641-4a5b-977d-521d05802964"
      },
      "outputs": [
        {
          "output_type": "stream",
          "name": "stdout",
          "text": [
            "Size: 2, Best Validation Loss: 0.002896430203691125\n",
            "Size: 4, Best Validation Loss: 0.0018483021995052695\n",
            "Size: 8, Best Validation Loss: 0.003339278046041727\n",
            "Size: 16, Best Validation Loss: 0.0007638539536856115\n"
          ]
        }
      ],
      "source": [
        "####################\n",
        "## YOUR CODE HERE ##\n",
        "####################\n",
        "from keras.models import Model\n",
        "from keras.layers import Input, Conv1D, MaxPooling1D, UpSampling1D\n",
        "\n",
        "def build_cnn_autoencoder(latent_size):\n",
        "    # Encoder\n",
        "    input_shape = (32, 6)\n",
        "    input_layer = Input(shape=input_shape)\n",
        "    encoded = Conv1D(16, 3, activation='relu', padding='same')(input_layer)\n",
        "    encoded = MaxPooling1D(2, padding='same')(encoded)\n",
        "    encoded = Conv1D(8, 3, activation='relu', padding='same')(encoded)\n",
        "    encoded = MaxPooling1D(2, padding='same')(encoded)\n",
        "    encoded = Conv1D(4, 3, activation='relu', padding='same')(encoded)\n",
        "    encoded = MaxPooling1D(2, padding='same')(encoded)\n",
        "    encoded = Conv1D(latent_size, 3, activation='relu', padding='same')(encoded)\n",
        "\n",
        "    # Decoder\n",
        "    decoded = Conv1D(4, 3, activation='relu', padding='same')(encoded)\n",
        "    decoded = UpSampling1D(2)(decoded)\n",
        "    decoded = Conv1D(8, 3, activation='relu', padding='same')(decoded)\n",
        "    decoded = UpSampling1D(2)(decoded)\n",
        "    decoded = Conv1D(16, 3, activation='relu', padding='same')(decoded)\n",
        "    decoded = UpSampling1D(2)(decoded)\n",
        "    decoded = Conv1D(6, 3, activation='sigmoid', padding='same')(decoded)\n",
        "\n",
        "    # Autoencoder\n",
        "    autoencoder = Model(inputs=input_layer, outputs=decoded)\n",
        "    autoencoder.compile(optimizer='adam', loss='mean_squared_error')\n",
        "\n",
        "    return autoencoder\n",
        "\n",
        "latent_sizes = [2, 4, 8, 16]\n",
        "validation_losses = []\n",
        "\n",
        "for size in latent_sizes:\n",
        "    # Build the model with the specified bottleneck layer size\n",
        "    model = build_cnn_autoencoder(latent_size=size)\n",
        "\n",
        "    # Compile the model\n",
        "    model.compile(optimizer='adam', loss='mean_squared_error')\n",
        "\n",
        "    # Train the model\n",
        "    history = model.fit(healthy_train_sequences, healthy_train_sequences,\n",
        "                        validation_data=(healthy_val_sequences, healthy_val_sequences),\n",
        "                        epochs=100, batch_size=32, verbose=0)\n",
        "    # Get the best validation loss and store it\n",
        "    best_val_loss= min(history.history['val_loss'])\n",
        "    validation_losses.append(best_val_loss)\n",
        "    print(f\"Size: {size}, Best Validation Loss: {best_val_loss}\")"
      ]
    },
    {
      "cell_type": "code",
      "execution_count": 44,
      "metadata": {
        "colab": {
          "base_uri": "https://localhost:8080/",
          "height": 472
        },
        "id": "LgvZcJEEYwJn",
        "outputId": "643ce923-0459-4ec3-bddd-32506bb1db12"
      },
      "outputs": [
        {
          "output_type": "display_data",
          "data": {
            "text/plain": [
              "<Figure size 640x480 with 1 Axes>"
            ],
            "image/png": "[encoded data removed]"
          },
          "metadata": {}
        }
      ],
      "source": [
        "####################\n",
        "## YOUR CODE HERE ##\n",
        "####################\n",
        "\n",
        "# Plot the best validation loss versus the size of the bottleneck layer\n",
        "plt.plot(latent_sizes, validation_losses, marker='o')\n",
        "plt.xlabel('Size of Bottleneck Layer')\n",
        "plt.ylabel('Best Validation Loss')\n",
        "plt.title('Best Validation Loss for Different Bottleneck Layer Sizes')\n",
        "plt.show()\n"
      ]
    },
    {
      "cell_type": "markdown",
      "metadata": {
        "id": "XKk5fnmhYwJn"
      },
      "source": [
        "# Subtask 2.6\n",
        "\n",
        "## Scheduled learning rate\n",
        "\n",
        "When training a model, it is often useful to lower the learning rate as the training progresses. A learning rate schedule is a predefined mechanism that adjusts the learning rate between optimization steps during the training. [`tf.keras.optimizers.schedules`](https://www.tensorflow.org/api_docs/python/tf/keras/optimizers/schedules) provides several methods.\n",
        "\n",
        "\n",
        "#### TODO\n",
        " - Consider the size of the bottleneck layer equal to 2.\n",
        " - Change the optimizer to use an exponential decay schedule: `tf.keras.optimizers.schedules.ExponentialDecay`.\n",
        " - Set the initial learning rate equal to 0.01.\n",
        " - Train the model and report the lowest validation loss.\n",
        "\n"
      ]
    },
    {
      "cell_type": "code",
      "execution_count": 46,
      "metadata": {
        "id": "EDGeAwXQYwJn"
      },
      "outputs": [],
      "source": [
        "####################\n",
        "## YOUR CODE HERE ##\n",
        "####################\n",
        "from keras.optimizers import Adam\n",
        "import tensorflow as tf\n",
        "\n",
        "# Set the initial learning rate and decay rate\n",
        "initial_learning_rate = 0.01\n",
        "decay_rate = 0.1\n",
        "decay_steps = 1000\n",
        "\n",
        "# Define the learning rate schedule\n",
        "lr_schedule = tf.keras.optimizers.schedules.ExponentialDecay(\n",
        "    initial_learning_rate,\n",
        "    decay_steps=decay_steps,\n",
        "    decay_rate=decay_rate,\n",
        ")\n",
        "\n",
        "# Create the optimizer with the learning rate schedule\n",
        "optimizer = Adam(learning_rate=lr_schedule)\n",
        "\n",
        "# Compile the model with the new optimizer\n",
        "model.compile(optimizer=optimizer, loss='mean_squared_error')"
      ]
    },
    {
      "cell_type": "code",
      "execution_count": 47,
      "metadata": {
        "colab": {
          "base_uri": "https://localhost:8080/"
        },
        "id": "wQsHAWtuYwJn",
        "outputId": "f838bab8-36ac-49b4-9fcd-9ef4a31d40b4"
      },
      "outputs": [
        {
          "output_type": "stream",
          "name": "stdout",
          "text": [
            "Epoch 1/100\n",
            "532/532 [==============================] - 5s 7ms/step - loss: 0.0026 - val_loss: 0.0015\n",
            "Epoch 2/100\n",
            "532/532 [==============================] - 4s 7ms/step - loss: 6.6403e-04 - val_loss: 0.0012\n",
            "Epoch 3/100\n",
            "532/532 [==============================] - 3s 6ms/step - loss: 5.8418e-04 - val_loss: 0.0013\n",
            "Epoch 4/100\n",
            "532/532 [==============================] - 3s 6ms/step - loss: 5.5940e-04 - val_loss: 0.0012\n",
            "Epoch 5/100\n",
            "532/532 [==============================] - 3s 6ms/step - loss: 5.5107e-04 - val_loss: 0.0012\n",
            "Epoch 6/100\n",
            "532/532 [==============================] - 4s 7ms/step - loss: 5.4820e-04 - val_loss: 0.0012\n",
            "Epoch 7/100\n",
            "532/532 [==============================] - 3s 6ms/step - loss: 5.4714e-04 - val_loss: 0.0012\n",
            "Epoch 8/100\n",
            "532/532 [==============================] - 3s 6ms/step - loss: 5.4673e-04 - val_loss: 0.0012\n",
            "Epoch 9/100\n",
            "532/532 [==============================] - 3s 6ms/step - loss: 5.4661e-04 - val_loss: 0.0012\n",
            "Epoch 10/100\n",
            "532/532 [==============================] - 4s 7ms/step - loss: 5.4657e-04 - val_loss: 0.0012\n",
            "Epoch 11/100\n",
            "532/532 [==============================] - 3s 6ms/step - loss: 5.4655e-04 - val_loss: 0.0012\n",
            "Epoch 12/100\n",
            "532/532 [==============================] - 3s 6ms/step - loss: 5.4655e-04 - val_loss: 0.0012\n",
            "Epoch 13/100\n",
            "532/532 [==============================] - 4s 7ms/step - loss: 5.4655e-04 - val_loss: 0.0012\n",
            "Epoch 14/100\n",
            "532/532 [==============================] - 3s 6ms/step - loss: 5.4655e-04 - val_loss: 0.0012\n",
            "Epoch 15/100\n",
            "532/532 [==============================] - 3s 6ms/step - loss: 5.4655e-04 - val_loss: 0.0012\n",
            "Epoch 16/100\n",
            "532/532 [==============================] - 3s 6ms/step - loss: 5.4655e-04 - val_loss: 0.0012\n",
            "Epoch 17/100\n",
            "532/532 [==============================] - 4s 7ms/step - loss: 5.4655e-04 - val_loss: 0.0012\n",
            "Epoch 18/100\n",
            "532/532 [==============================] - 3s 6ms/step - loss: 5.4655e-04 - val_loss: 0.0012\n",
            "Epoch 19/100\n",
            "532/532 [==============================] - 3s 6ms/step - loss: 5.4655e-04 - val_loss: 0.0012\n",
            "Epoch 20/100\n",
            "532/532 [==============================] - 3s 6ms/step - loss: 5.4655e-04 - val_loss: 0.0012\n",
            "Epoch 21/100\n",
            "532/532 [==============================] - 4s 7ms/step - loss: 5.4655e-04 - val_loss: 0.0012\n",
            "Epoch 22/100\n",
            "532/532 [==============================] - 3s 6ms/step - loss: 5.4655e-04 - val_loss: 0.0012\n",
            "Epoch 23/100\n",
            "532/532 [==============================] - 3s 6ms/step - loss: 5.4655e-04 - val_loss: 0.0012\n",
            "Epoch 24/100\n",
            "532/532 [==============================] - 4s 7ms/step - loss: 5.4655e-04 - val_loss: 0.0012\n",
            "Epoch 25/100\n",
            "532/532 [==============================] - 4s 7ms/step - loss: 5.4655e-04 - val_loss: 0.0012\n",
            "Epoch 26/100\n",
            "532/532 [==============================] - 3s 6ms/step - loss: 5.4655e-04 - val_loss: 0.0012\n",
            "Epoch 27/100\n",
            "532/532 [==============================] - 3s 6ms/step - loss: 5.4655e-04 - val_loss: 0.0012\n",
            "Epoch 28/100\n",
            "532/532 [==============================] - 4s 7ms/step - loss: 5.4655e-04 - val_loss: 0.0012\n",
            "Epoch 29/100\n",
            "532/532 [==============================] - 3s 6ms/step - loss: 5.4655e-04 - val_loss: 0.0012\n",
            "Epoch 30/100\n",
            "532/532 [==============================] - 3s 6ms/step - loss: 5.4655e-04 - val_loss: 0.0012\n",
            "Epoch 31/100\n",
            "532/532 [==============================] - 3s 6ms/step - loss: 5.4655e-04 - val_loss: 0.0012\n",
            "Epoch 32/100\n",
            "532/532 [==============================] - 4s 7ms/step - loss: 5.4655e-04 - val_loss: 0.0012\n",
            "Epoch 33/100\n",
            "532/532 [==============================] - 3s 6ms/step - loss: 5.4655e-04 - val_loss: 0.0012\n",
            "Epoch 34/100\n",
            "532/532 [==============================] - 3s 6ms/step - loss: 5.4655e-04 - val_loss: 0.0012\n",
            "Epoch 35/100\n",
            "532/532 [==============================] - 3s 6ms/step - loss: 5.4655e-04 - val_loss: 0.0012\n",
            "Epoch 36/100\n",
            "532/532 [==============================] - 4s 7ms/step - loss: 5.4655e-04 - val_loss: 0.0012\n",
            "Epoch 37/100\n",
            "532/532 [==============================] - 3s 6ms/step - loss: 5.4655e-04 - val_loss: 0.0012\n",
            "Epoch 38/100\n",
            "532/532 [==============================] - 3s 6ms/step - loss: 5.4655e-04 - val_loss: 0.0012\n",
            "Epoch 39/100\n",
            "532/532 [==============================] - 3s 6ms/step - loss: 5.4655e-04 - val_loss: 0.0012\n",
            "Epoch 40/100\n",
            "532/532 [==============================] - 4s 7ms/step - loss: 5.4655e-04 - val_loss: 0.0012\n",
            "Epoch 41/100\n",
            "532/532 [==============================] - 3s 6ms/step - loss: 5.4655e-04 - val_loss: 0.0012\n",
            "Epoch 42/100\n",
            "532/532 [==============================] - 3s 6ms/step - loss: 5.4655e-04 - val_loss: 0.0012\n",
            "Epoch 43/100\n",
            "532/532 [==============================] - 4s 7ms/step - loss: 5.4655e-04 - val_loss: 0.0012\n",
            "Epoch 44/100\n",
            "532/532 [==============================] - 3s 6ms/step - loss: 5.4655e-04 - val_loss: 0.0012\n",
            "Epoch 45/100\n",
            "532/532 [==============================] - 3s 6ms/step - loss: 5.4655e-04 - val_loss: 0.0012\n",
            "Epoch 46/100\n",
            "532/532 [==============================] - 3s 6ms/step - loss: 5.4655e-04 - val_loss: 0.0012\n",
            "Epoch 47/100\n",
            "532/532 [==============================] - 4s 7ms/step - loss: 5.4655e-04 - val_loss: 0.0012\n",
            "Epoch 48/100\n",
            "532/532 [==============================] - 3s 6ms/step - loss: 5.4655e-04 - val_loss: 0.0012\n",
            "Epoch 49/100\n",
            "532/532 [==============================] - 3s 6ms/step - loss: 5.4655e-04 - val_loss: 0.0012\n",
            "Epoch 50/100\n",
            "532/532 [==============================] - 3s 6ms/step - loss: 5.4655e-04 - val_loss: 0.0012\n",
            "Epoch 51/100\n",
            "532/532 [==============================] - 4s 7ms/step - loss: 5.4655e-04 - val_loss: 0.0012\n",
            "Epoch 52/100\n",
            "532/532 [==============================] - 3s 6ms/step - loss: 5.4655e-04 - val_loss: 0.0012\n",
            "Epoch 53/100\n",
            "532/532 [==============================] - 3s 6ms/step - loss: 5.4655e-04 - val_loss: 0.0012\n",
            "Epoch 54/100\n",
            "532/532 [==============================] - 3s 6ms/step - loss: 5.4655e-04 - val_loss: 0.0012\n",
            "Epoch 55/100\n",
            "532/532 [==============================] - 4s 7ms/step - loss: 5.4655e-04 - val_loss: 0.0012\n",
            "Epoch 56/100\n",
            "532/532 [==============================] - 3s 6ms/step - loss: 5.4655e-04 - val_loss: 0.0012\n",
            "Epoch 57/100\n",
            "532/532 [==============================] - 3s 6ms/step - loss: 5.4655e-04 - val_loss: 0.0012\n",
            "Epoch 58/100\n",
            "532/532 [==============================] - 3s 6ms/step - loss: 5.4655e-04 - val_loss: 0.0012\n",
            "Epoch 59/100\n",
            "532/532 [==============================] - 3s 6ms/step - loss: 5.4655e-04 - val_loss: 0.0012\n",
            "Epoch 60/100\n",
            "532/532 [==============================] - 3s 6ms/step - loss: 5.4655e-04 - val_loss: 0.0012\n",
            "Epoch 61/100\n",
            "532/532 [==============================] - 3s 6ms/step - loss: 5.4655e-04 - val_loss: 0.0012\n",
            "Epoch 62/100\n",
            "532/532 [==============================] - 4s 7ms/step - loss: 5.4655e-04 - val_loss: 0.0012\n",
            "Epoch 63/100\n",
            "532/532 [==============================] - 3s 6ms/step - loss: 5.4655e-04 - val_loss: 0.0012\n",
            "Epoch 64/100\n",
            "532/532 [==============================] - 3s 6ms/step - loss: 5.4655e-04 - val_loss: 0.0012\n",
            "Epoch 65/100\n",
            "532/532 [==============================] - 3s 6ms/step - loss: 5.4655e-04 - val_loss: 0.0012\n",
            "Epoch 66/100\n",
            "532/532 [==============================] - 4s 7ms/step - loss: 5.4655e-04 - val_loss: 0.0012\n",
            "Epoch 67/100\n",
            "532/532 [==============================] - 3s 6ms/step - loss: 5.4655e-04 - val_loss: 0.0012\n",
            "Epoch 68/100\n",
            "532/532 [==============================] - 3s 6ms/step - loss: 5.4655e-04 - val_loss: 0.0012\n",
            "Epoch 69/100\n",
            "532/532 [==============================] - 3s 6ms/step - loss: 5.4655e-04 - val_loss: 0.0012\n",
            "Epoch 70/100\n",
            "532/532 [==============================] - 4s 7ms/step - loss: 5.4655e-04 - val_loss: 0.0012\n",
            "Epoch 71/100\n",
            "532/532 [==============================] - 3s 6ms/step - loss: 5.4655e-04 - val_loss: 0.0012\n",
            "Epoch 72/100\n",
            "532/532 [==============================] - 3s 6ms/step - loss: 5.4655e-04 - val_loss: 0.0012\n",
            "Epoch 73/100\n",
            "532/532 [==============================] - 3s 6ms/step - loss: 5.4655e-04 - val_loss: 0.0012\n",
            "Epoch 74/100\n",
            "532/532 [==============================] - 4s 7ms/step - loss: 5.4655e-04 - val_loss: 0.0012\n",
            "Epoch 75/100\n",
            "532/532 [==============================] - 3s 6ms/step - loss: 5.4655e-04 - val_loss: 0.0012\n",
            "Epoch 76/100\n",
            "532/532 [==============================] - 3s 6ms/step - loss: 5.4655e-04 - val_loss: 0.0012\n",
            "Epoch 77/100\n",
            "532/532 [==============================] - 3s 7ms/step - loss: 5.4655e-04 - val_loss: 0.0012\n",
            "Epoch 78/100\n",
            "532/532 [==============================] - 3s 6ms/step - loss: 5.4655e-04 - val_loss: 0.0012\n",
            "Epoch 79/100\n",
            "532/532 [==============================] - 3s 6ms/step - loss: 5.4655e-04 - val_loss: 0.0012\n",
            "Epoch 80/100\n",
            "532/532 [==============================] - 3s 6ms/step - loss: 5.4655e-04 - val_loss: 0.0012\n",
            "Epoch 81/100\n",
            "532/532 [==============================] - 4s 8ms/step - loss: 5.4655e-04 - val_loss: 0.0012\n",
            "Epoch 82/100\n",
            "532/532 [==============================] - 3s 6ms/step - loss: 5.4655e-04 - val_loss: 0.0012\n",
            "Epoch 83/100\n",
            "532/532 [==============================] - 3s 6ms/step - loss: 5.4655e-04 - val_loss: 0.0012\n",
            "Epoch 84/100\n",
            "532/532 [==============================] - 3s 6ms/step - loss: 5.4655e-04 - val_loss: 0.0012\n",
            "Epoch 85/100\n",
            "532/532 [==============================] - 4s 7ms/step - loss: 5.4655e-04 - val_loss: 0.0012\n",
            "Epoch 86/100\n",
            "532/532 [==============================] - 3s 6ms/step - loss: 5.4655e-04 - val_loss: 0.0012\n",
            "Epoch 87/100\n",
            "532/532 [==============================] - 3s 6ms/step - loss: 5.4655e-04 - val_loss: 0.0012\n",
            "Epoch 88/100\n",
            "532/532 [==============================] - 3s 6ms/step - loss: 5.4655e-04 - val_loss: 0.0012\n",
            "Epoch 89/100\n",
            "532/532 [==============================] - 4s 8ms/step - loss: 5.4655e-04 - val_loss: 0.0012\n",
            "Epoch 90/100\n",
            "532/532 [==============================] - 3s 6ms/step - loss: 5.4655e-04 - val_loss: 0.0012\n",
            "Epoch 91/100\n",
            "532/532 [==============================] - 3s 6ms/step - loss: 5.4655e-04 - val_loss: 0.0012\n",
            "Epoch 92/100\n",
            "532/532 [==============================] - 3s 7ms/step - loss: 5.4655e-04 - val_loss: 0.0012\n",
            "Epoch 93/100\n",
            "532/532 [==============================] - 4s 7ms/step - loss: 5.4655e-04 - val_loss: 0.0012\n",
            "Epoch 94/100\n",
            "532/532 [==============================] - 3s 6ms/step - loss: 5.4655e-04 - val_loss: 0.0012\n",
            "Epoch 95/100\n",
            "532/532 [==============================] - 3s 6ms/step - loss: 5.4655e-04 - val_loss: 0.0012\n",
            "Epoch 96/100\n",
            "532/532 [==============================] - 4s 7ms/step - loss: 5.4655e-04 - val_loss: 0.0012\n",
            "Epoch 97/100\n",
            "532/532 [==============================] - 3s 6ms/step - loss: 5.4655e-04 - val_loss: 0.0012\n",
            "Epoch 98/100\n",
            "532/532 [==============================] - 3s 6ms/step - loss: 5.4655e-04 - val_loss: 0.0012\n",
            "Epoch 99/100\n",
            "532/532 [==============================] - 3s 6ms/step - loss: 5.4655e-04 - val_loss: 0.0012\n",
            "Epoch 100/100\n",
            "532/532 [==============================] - 4s 7ms/step - loss: 5.4655e-04 - val_loss: 0.0012\n",
            "Lowest Validation Loss: 0.0012310518650338054\n"
          ]
        }
      ],
      "source": [
        "####################\n",
        "## YOUR CODE HERE ##\n",
        "####################\n",
        "# Train the model\n",
        "history = model.fit(\n",
        "    healthy_train_sequences,\n",
        "    healthy_train_sequences,\n",
        "    validation_data=(healthy_val_sequences, healthy_val_sequences),\n",
        "    epochs=100,\n",
        "    batch_size=32,\n",
        "    verbose=1\n",
        ")\n",
        "\n",
        "# Find the lowest validation loss\n",
        "lowest_val_loss = min(history.history['val_loss'])\n",
        "print(\"Lowest Validation Loss:\", lowest_val_loss)"
      ]
    },
    {
      "cell_type": "markdown",
      "metadata": {
        "id": "bZOK_Kb8YwJn"
      },
      "source": [
        "# Subtask 2.7\n",
        "\n",
        "## Challenge\n",
        "\n",
        "#### TODO\n",
        " - Use the CNN-based autoencoder.\n",
        " - Consider the size of the bottleneck layer equal to 8.\n",
        " - Modify the model architecture and the training process to obtain a better performance in reconstruction.\n",
        " - Select the best model based on the validation loss.\n",
        " - Plot the learning curves.\n",
        " - Report the best validation loss."
      ]
    },
    {
      "cell_type": "code",
      "execution_count": 48,
      "metadata": {
        "id": "brPMdRraYwJn"
      },
      "outputs": [],
      "source": [
        "####################\n",
        "## YOUR CODE HERE ##\n",
        "####################\n",
        "\n",
        "# Define the encoder architecture\n",
        "input_seq = Input(shape=(32, 6))\n",
        "encoded = Conv1D(32, 3, activation='relu', padding='same')(input_seq)\n",
        "encoded = MaxPooling1D(2, padding='same')(encoded)\n",
        "encoded = Conv1D(16, 3, activation='relu', padding='same')(encoded)\n",
        "encoded = MaxPooling1D(2, padding='same')(encoded)\n",
        "encoded = Conv1D(8, 3, activation='relu', padding='same')(encoded)\n",
        "encoded = MaxPooling1D(2, padding='same')(encoded)\n",
        "# Bottleneck layer\n",
        "latent_space = Conv1D(8, 3, activation='relu', padding='same')(encoded)\n",
        "\n",
        "# Define the decoder architecture\n",
        "decoded = Conv1D(8, 3, activation='relu', padding='same')(latent_space)\n",
        "decoded = UpSampling1D(2)(decoded)\n",
        "decoded = Conv1D(16, 3, activation='relu', padding='same')(decoded)\n",
        "decoded = UpSampling1D(2)(decoded)\n",
        "decoded = Conv1D(32, 3, activation='relu', padding='same')(decoded)\n",
        "decoded = UpSampling1D(2)(decoded)\n",
        "decoded = Conv1D(6, 3, activation='sigmoid', padding='same')(decoded)\n",
        "\n",
        "# Create the autoencoder model\n",
        "autoencoder = Model(input_seq, decoded)\n",
        "autoencoder.compile(optimizer=Adam(learning_rate=0.001), loss='mean_squared_error')\n",
        "\n",
        "\n"
      ]
    },
    {
      "cell_type": "code",
      "execution_count": 49,
      "metadata": {
        "colab": {
          "base_uri": "https://localhost:8080/"
        },
        "id": "v3lfb5R6YwJn",
        "outputId": "d704a691-45f3-4644-9d54-8354078ad096"
      },
      "outputs": [
        {
          "output_type": "stream",
          "name": "stdout",
          "text": [
            "Epoch 1/100\n",
            "532/532 [==============================] - 56s 8ms/step - loss: 0.0219 - val_loss: 0.0051\n",
            "Epoch 2/100\n",
            "532/532 [==============================] - 3s 6ms/step - loss: 0.0037 - val_loss: 0.0034\n",
            "Epoch 3/100\n",
            "532/532 [==============================] - 3s 6ms/step - loss: 0.0028 - val_loss: 0.0023\n",
            "Epoch 4/100\n",
            "532/532 [==============================] - 3s 6ms/step - loss: 0.0022 - val_loss: 0.0019\n",
            "Epoch 5/100\n",
            "532/532 [==============================] - 4s 7ms/step - loss: 0.0020 - val_loss: 0.0017\n",
            "Epoch 6/100\n",
            "532/532 [==============================] - 3s 6ms/step - loss: 0.0019 - val_loss: 0.0016\n",
            "Epoch 7/100\n",
            "532/532 [==============================] - 3s 6ms/step - loss: 0.0018 - val_loss: 0.0015\n",
            "Epoch 8/100\n",
            "532/532 [==============================] - 3s 6ms/step - loss: 0.0018 - val_loss: 0.0013\n",
            "Epoch 9/100\n",
            "532/532 [==============================] - 4s 7ms/step - loss: 0.0017 - val_loss: 0.0013\n",
            "Epoch 10/100\n",
            "532/532 [==============================] - 3s 6ms/step - loss: 0.0017 - val_loss: 0.0013\n",
            "Epoch 11/100\n",
            "532/532 [==============================] - 3s 6ms/step - loss: 0.0017 - val_loss: 0.0012\n",
            "Epoch 12/100\n",
            "532/532 [==============================] - 4s 8ms/step - loss: 0.0016 - val_loss: 0.0011\n",
            "Epoch 13/100\n",
            "532/532 [==============================] - 3s 6ms/step - loss: 0.0016 - val_loss: 0.0013\n",
            "Epoch 14/100\n",
            "532/532 [==============================] - 3s 6ms/step - loss: 0.0016 - val_loss: 9.9944e-04\n",
            "Epoch 15/100\n",
            "532/532 [==============================] - 3s 6ms/step - loss: 0.0016 - val_loss: 0.0011\n",
            "Epoch 16/100\n",
            "532/532 [==============================] - 4s 7ms/step - loss: 0.0016 - val_loss: 0.0012\n",
            "Epoch 17/100\n",
            "532/532 [==============================] - 3s 6ms/step - loss: 0.0015 - val_loss: 0.0011\n",
            "Epoch 18/100\n",
            "532/532 [==============================] - 3s 6ms/step - loss: 0.0015 - val_loss: 0.0011\n",
            "Epoch 19/100\n",
            "532/532 [==============================] - 4s 7ms/step - loss: 0.0015 - val_loss: 9.9651e-04\n",
            "Epoch 20/100\n",
            "532/532 [==============================] - 3s 6ms/step - loss: 0.0015 - val_loss: 9.6332e-04\n",
            "Epoch 21/100\n",
            "532/532 [==============================] - 3s 6ms/step - loss: 0.0015 - val_loss: 0.0012\n",
            "Epoch 22/100\n",
            "532/532 [==============================] - 3s 6ms/step - loss: 0.0015 - val_loss: 0.0011\n",
            "Epoch 23/100\n",
            "532/532 [==============================] - 4s 8ms/step - loss: 0.0015 - val_loss: 0.0012\n",
            "Epoch 24/100\n",
            "532/532 [==============================] - 3s 6ms/step - loss: 0.0015 - val_loss: 0.0011\n",
            "Epoch 25/100\n",
            "532/532 [==============================] - 3s 6ms/step - loss: 0.0015 - val_loss: 9.8481e-04\n",
            "Epoch 26/100\n",
            "532/532 [==============================] - 3s 6ms/step - loss: 0.0015 - val_loss: 0.0011\n",
            "Epoch 27/100\n",
            "532/532 [==============================] - 4s 7ms/step - loss: 0.0015 - val_loss: 0.0011\n",
            "Epoch 28/100\n",
            "532/532 [==============================] - 3s 6ms/step - loss: 0.0014 - val_loss: 0.0010\n",
            "Epoch 29/100\n",
            "532/532 [==============================] - 3s 6ms/step - loss: 0.0014 - val_loss: 0.0010\n",
            "Epoch 30/100\n",
            "532/532 [==============================] - 4s 7ms/step - loss: 0.0014 - val_loss: 0.0010\n",
            "Epoch 31/100\n",
            "532/532 [==============================] - 3s 6ms/step - loss: 0.0014 - val_loss: 9.8331e-04\n",
            "Epoch 32/100\n",
            "532/532 [==============================] - 3s 6ms/step - loss: 0.0014 - val_loss: 0.0011\n",
            "Epoch 33/100\n",
            "532/532 [==============================] - 3s 6ms/step - loss: 0.0014 - val_loss: 0.0013\n",
            "Epoch 34/100\n",
            "532/532 [==============================] - 4s 7ms/step - loss: 0.0014 - val_loss: 0.0011\n",
            "Epoch 35/100\n",
            "532/532 [==============================] - 3s 6ms/step - loss: 0.0014 - val_loss: 0.0012\n",
            "Epoch 36/100\n",
            "532/532 [==============================] - 3s 6ms/step - loss: 0.0014 - val_loss: 0.0011\n",
            "Epoch 37/100\n",
            "532/532 [==============================] - 3s 6ms/step - loss: 0.0014 - val_loss: 0.0011\n",
            "Epoch 38/100\n",
            "532/532 [==============================] - 4s 7ms/step - loss: 0.0014 - val_loss: 0.0011\n",
            "Epoch 39/100\n",
            "532/532 [==============================] - 3s 6ms/step - loss: 0.0014 - val_loss: 0.0012\n",
            "Epoch 40/100\n",
            "532/532 [==============================] - 3s 6ms/step - loss: 0.0014 - val_loss: 0.0011\n",
            "Epoch 41/100\n",
            "532/532 [==============================] - 4s 7ms/step - loss: 0.0014 - val_loss: 0.0012\n",
            "Epoch 42/100\n",
            "532/532 [==============================] - 3s 6ms/step - loss: 0.0014 - val_loss: 0.0011\n",
            "Epoch 43/100\n",
            "532/532 [==============================] - 3s 6ms/step - loss: 0.0014 - val_loss: 0.0011\n",
            "Epoch 44/100\n",
            "532/532 [==============================] - 3s 6ms/step - loss: 0.0014 - val_loss: 0.0012\n",
            "Epoch 45/100\n",
            "532/532 [==============================] - 4s 7ms/step - loss: 0.0014 - val_loss: 0.0012\n",
            "Epoch 46/100\n",
            "532/532 [==============================] - 3s 6ms/step - loss: 0.0014 - val_loss: 0.0010\n",
            "Epoch 47/100\n",
            "532/532 [==============================] - 3s 6ms/step - loss: 0.0014 - val_loss: 0.0011\n",
            "Epoch 48/100\n",
            "532/532 [==============================] - 3s 6ms/step - loss: 0.0014 - val_loss: 9.8092e-04\n",
            "Epoch 49/100\n",
            "532/532 [==============================] - 3s 7ms/step - loss: 0.0014 - val_loss: 0.0010\n",
            "Epoch 50/100\n",
            "532/532 [==============================] - 3s 6ms/step - loss: 0.0014 - val_loss: 0.0011\n",
            "Epoch 51/100\n",
            "532/532 [==============================] - 3s 6ms/step - loss: 0.0014 - val_loss: 0.0011\n",
            "Epoch 52/100\n",
            "532/532 [==============================] - 4s 7ms/step - loss: 0.0014 - val_loss: 0.0011\n",
            "Epoch 53/100\n",
            "532/532 [==============================] - 3s 6ms/step - loss: 0.0014 - val_loss: 0.0011\n",
            "Epoch 54/100\n",
            "532/532 [==============================] - 3s 6ms/step - loss: 0.0014 - val_loss: 0.0012\n",
            "Epoch 55/100\n",
            "532/532 [==============================] - 3s 6ms/step - loss: 0.0014 - val_loss: 0.0011\n",
            "Epoch 56/100\n",
            "532/532 [==============================] - 4s 7ms/step - loss: 0.0014 - val_loss: 0.0012\n",
            "Epoch 57/100\n",
            "532/532 [==============================] - 3s 6ms/step - loss: 0.0014 - val_loss: 0.0010\n",
            "Epoch 58/100\n",
            "532/532 [==============================] - 3s 6ms/step - loss: 0.0014 - val_loss: 0.0012\n",
            "Epoch 59/100\n",
            "532/532 [==============================] - 3s 6ms/step - loss: 0.0014 - val_loss: 9.7912e-04\n",
            "Epoch 60/100\n",
            "532/532 [==============================] - 4s 8ms/step - loss: 0.0014 - val_loss: 0.0011\n",
            "Epoch 61/100\n",
            "532/532 [==============================] - 3s 6ms/step - loss: 0.0014 - val_loss: 9.5110e-04\n",
            "Epoch 62/100\n",
            "532/532 [==============================] - 3s 6ms/step - loss: 0.0014 - val_loss: 9.9080e-04\n",
            "Epoch 63/100\n",
            "532/532 [==============================] - 4s 7ms/step - loss: 0.0014 - val_loss: 0.0010\n",
            "Epoch 64/100\n",
            "532/532 [==============================] - 3s 6ms/step - loss: 0.0014 - val_loss: 0.0010\n",
            "Epoch 65/100\n",
            "532/532 [==============================] - 3s 6ms/step - loss: 0.0014 - val_loss: 9.8389e-04\n",
            "Epoch 66/100\n",
            "532/532 [==============================] - 3s 6ms/step - loss: 0.0014 - val_loss: 0.0010\n",
            "Epoch 67/100\n",
            "532/532 [==============================] - 4s 8ms/step - loss: 0.0013 - val_loss: 0.0011\n",
            "Epoch 68/100\n",
            "532/532 [==============================] - 3s 6ms/step - loss: 0.0014 - val_loss: 0.0012\n",
            "Epoch 69/100\n",
            "532/532 [==============================] - 3s 6ms/step - loss: 0.0014 - val_loss: 0.0011\n",
            "Epoch 70/100\n",
            "532/532 [==============================] - 4s 7ms/step - loss: 0.0014 - val_loss: 9.4230e-04\n",
            "Epoch 71/100\n",
            "532/532 [==============================] - 3s 6ms/step - loss: 0.0014 - val_loss: 0.0012\n",
            "Epoch 72/100\n",
            "532/532 [==============================] - 3s 6ms/step - loss: 0.0014 - val_loss: 9.4400e-04\n",
            "Epoch 73/100\n",
            "532/532 [==============================] - 3s 6ms/step - loss: 0.0014 - val_loss: 9.5757e-04\n",
            "Epoch 74/100\n",
            "532/532 [==============================] - 4s 8ms/step - loss: 0.0013 - val_loss: 9.1678e-04\n",
            "Epoch 75/100\n",
            "532/532 [==============================] - 3s 6ms/step - loss: 0.0013 - val_loss: 0.0010\n",
            "Epoch 76/100\n",
            "532/532 [==============================] - 3s 6ms/step - loss: 0.0014 - val_loss: 9.3230e-04\n",
            "Epoch 77/100\n",
            "532/532 [==============================] - 3s 6ms/step - loss: 0.0013 - val_loss: 0.0010\n",
            "Epoch 78/100\n",
            "532/532 [==============================] - 4s 7ms/step - loss: 0.0013 - val_loss: 0.0010\n",
            "Epoch 79/100\n",
            "532/532 [==============================] - 3s 6ms/step - loss: 0.0013 - val_loss: 0.0010\n",
            "Epoch 80/100\n",
            "532/532 [==============================] - 3s 6ms/step - loss: 0.0013 - val_loss: 0.0011\n",
            "Epoch 81/100\n",
            "532/532 [==============================] - 4s 7ms/step - loss: 0.0013 - val_loss: 0.0012\n",
            "Epoch 82/100\n",
            "532/532 [==============================] - 3s 6ms/step - loss: 0.0013 - val_loss: 0.0010\n",
            "Epoch 83/100\n",
            "532/532 [==============================] - 3s 6ms/step - loss: 0.0013 - val_loss: 9.5841e-04\n",
            "Epoch 84/100\n",
            "532/532 [==============================] - 3s 6ms/step - loss: 0.0013 - val_loss: 9.2589e-04\n",
            "Epoch 85/100\n",
            "532/532 [==============================] - 4s 7ms/step - loss: 0.0014 - val_loss: 9.7981e-04\n",
            "Epoch 86/100\n",
            "532/532 [==============================] - 3s 6ms/step - loss: 0.0013 - val_loss: 0.0011\n",
            "Epoch 87/100\n",
            "532/532 [==============================] - 3s 6ms/step - loss: 0.0013 - val_loss: 0.0010\n",
            "Epoch 88/100\n",
            "532/532 [==============================] - 4s 7ms/step - loss: 0.0013 - val_loss: 0.0013\n",
            "Epoch 89/100\n",
            "532/532 [==============================] - 3s 6ms/step - loss: 0.0013 - val_loss: 0.0010\n",
            "Epoch 90/100\n",
            "532/532 [==============================] - 3s 6ms/step - loss: 0.0013 - val_loss: 0.0011\n",
            "Epoch 91/100\n",
            "532/532 [==============================] - 3s 6ms/step - loss: 0.0013 - val_loss: 0.0011\n",
            "Epoch 92/100\n",
            "532/532 [==============================] - 4s 8ms/step - loss: 0.0013 - val_loss: 0.0011\n",
            "Epoch 93/100\n",
            "532/532 [==============================] - 3s 6ms/step - loss: 0.0013 - val_loss: 0.0010\n",
            "Epoch 94/100\n",
            "532/532 [==============================] - 3s 6ms/step - loss: 0.0013 - val_loss: 0.0012\n",
            "Epoch 95/100\n",
            "532/532 [==============================] - 3s 6ms/step - loss: 0.0013 - val_loss: 0.0011\n",
            "Epoch 96/100\n",
            "532/532 [==============================] - 4s 8ms/step - loss: 0.0013 - val_loss: 0.0011\n",
            "Epoch 97/100\n",
            "532/532 [==============================] - 3s 6ms/step - loss: 0.0013 - val_loss: 0.0010\n",
            "Epoch 98/100\n",
            "532/532 [==============================] - 3s 6ms/step - loss: 0.0013 - val_loss: 0.0010\n",
            "Epoch 99/100\n",
            "532/532 [==============================] - 4s 7ms/step - loss: 0.0013 - val_loss: 0.0010\n",
            "Epoch 100/100\n",
            "532/532 [==============================] - 4s 7ms/step - loss: 0.0013 - val_loss: 0.0011\n",
            "Lowest Validation Loss: 0.0009167754906229675\n"
          ]
        }
      ],
      "source": [
        "####################\n",
        "## YOUR CODE HERE ##\n",
        "####################\n",
        "\n",
        "# Train the model\n",
        "history = autoencoder.fit(\n",
        "    healthy_train_sequences,\n",
        "    healthy_train_sequences,\n",
        "    validation_data=(healthy_val_sequences, healthy_val_sequences),\n",
        "    epochs=100,\n",
        "    batch_size=32,\n",
        "    verbose=1\n",
        ")\n",
        "\n",
        "# Find the lowest validation loss\n",
        "lowest_val_loss = min(history.history['val_loss'])\n",
        "print(\"Lowest Validation Loss:\", lowest_val_loss)\n"
      ]
    },
    {
      "cell_type": "markdown",
      "metadata": {
        "id": "geE32weZYwJn"
      },
      "source": [
        "# Subtask 2.8\n",
        "\n",
        "## Reconstruction loss\n",
        "\n",
        "#### TODO\n",
        " - Use the best model you have trained.\n",
        " - Compute the reconstruction loss for validation and test dataset.\n",
        "    - You need to compute the loss for every time step.\n",
        "\n"
      ]
    },
    {
      "cell_type": "code",
      "execution_count": 98,
      "metadata": {
        "colab": {
          "base_uri": "https://localhost:8080/"
        },
        "id": "OIDseudrYwJo",
        "outputId": "a4521c6f-ee89-4859-b183-3ceef40474bb"
      },
      "outputs": [
        {
          "output_type": "stream",
          "name": "stdout",
          "text": [
            "133/133 [==============================] - 1s 3ms/step\n",
            "665/665 [==============================] - 3s 4ms/step\n",
            "Validation Reconstruction Loss: 0.005484666545997902\n",
            "Test Reconstruction Loss: 0.015927526417635337\n"
          ]
        }
      ],
      "source": [
        "####################\n",
        "## YOUR CODE HERE ##\n",
        "####################\n",
        "\n",
        "\n",
        "# Load the weights of the best model\n",
        "best_model.load_weights('best_model_weights_epoch_9.h5')\n",
        "\n",
        "# Compile the model with the appropriate loss function\n",
        "best_model.compile(optimizer='adam', loss='mean_squared_error')\n",
        "\n",
        "# Predict the reconstructed sequences for the validation dataset\n",
        "val_predictions = best_model.predict(healthy_val_sequences)\n",
        "\n",
        "# Compute the reconstruction loss for each time step in the validation dataset\n",
        "val_reconstruction_loss = np.mean(np.square(healthy_val_sequences - val_predictions), axis=1)\n",
        "\n",
        "# Compute the average reconstruction loss across all time steps for the validation dataset\n",
        "val_avg_reconstruction_loss = np.mean(val_reconstruction_loss)\n",
        "\n",
        "# Predict the reconstructed sequences for the test dataset\n",
        "test_predictions = best_model.predict(healthy_test_sequences)\n",
        "\n",
        "# Compute the reconstruction loss for each time step in the test dataset\n",
        "test_reconstruction_loss = np.mean(np.square(healthy_test_sequences - test_predictions), axis=1)\n",
        "\n",
        "# Compute the average reconstruction loss across all time steps for the test dataset\n",
        "test_avg_reconstruction_loss = np.mean(test_reconstruction_loss)\n",
        "\n",
        "# Print the reconstruction loss for the validation and test datasets\n",
        "print(\"Validation Reconstruction Loss:\", val_avg_reconstruction_loss)\n",
        "print(\"Test Reconstruction Loss:\", test_avg_reconstruction_loss)\n",
        "\n"
      ]
    },
    {
      "cell_type": "code",
      "execution_count": null,
      "metadata": {
        "id": "s8G7VIoVYwJo"
      },
      "outputs": [],
      "source": [
        "####################\n",
        "## YOUR CODE HERE ##\n",
        "####################"
      ]
    },
    {
      "cell_type": "markdown",
      "metadata": {
        "id": "_d8MULkkYwJo"
      },
      "source": [
        "# Subtask 2.9\n",
        "\n",
        "## Anomaly detection\n",
        "\n",
        "#### TDOD\n",
        "- Use the test dataset.\n",
        "- Plot the ROC and precision-recall curves and report the area under the curve (AUC) for each of them.\n",
        "- Select the threshold by allowing a false positive rate of 0.2.\n",
        "- Detect anomalies using the threshold."
      ]
    },
    {
      "cell_type": "code",
      "execution_count": 102,
      "metadata": {
        "colab": {
          "base_uri": "https://localhost:8080/"
        },
        "id": "1wAI_1TbYwJo",
        "outputId": "9d5343a9-f0f1-4586-d08c-21fe38fa668a"
      },
      "outputs": [
        {
          "output_type": "stream",
          "name": "stderr",
          "text": [
            "<ipython-input-102-0ccd47eee63a>:30: FutureWarning: elementwise comparison failed; returning scalar instead, but in the future will perform elementwise comparison\n",
            "  anomalous_indices = np.where(np.array(y_test) == 'anomalous')[0]\n"
          ]
        }
      ],
      "source": [
        "####################\n",
        "## YOUR CODE HERE ##\n",
        "####################\n",
        "\n",
        "input_seq = Input(shape=(32, 6))\n",
        "encoded = Conv1D(16, 3, activation='relu', padding='same')(input_seq)\n",
        "encoded = MaxPooling1D(2, padding='same')(encoded)\n",
        "encoded = Conv1D(8, 3, activation='relu', padding='same')(encoded)\n",
        "encoded = MaxPooling1D(2, padding='same')(encoded)\n",
        "encoded = Conv1D(4, 3, activation='relu', padding='same')(encoded)\n",
        "encoded = MaxPooling1D(2, padding='same')(encoded)\n",
        "latent_space = Dense(2)(encoded)\n",
        "decoded = Dense(4)(latent_space)\n",
        "decoded = UpSampling1D(2)(decoded)\n",
        "decoded = Conv1D(8, 3, activation='relu', padding='same')(decoded)\n",
        "decoded = UpSampling1D(2)(decoded)\n",
        "decoded = Conv1D(16, 3, activation='relu', padding='same')(decoded)\n",
        "decoded = UpSampling1D(2)(decoded)\n",
        "decoded = Conv1D(6, 3, activation='sigmoid', padding='same')(decoded)\n",
        "\n",
        "autoencoder = Model(input_seq, decoded)\n",
        "\n",
        "autoencoder.compile(optimizer=Adam(learning_rate=0.001), loss='mean_squared_error')\n",
        "\n",
        "autoencoder.load_weights('best_model_weights_epoch_9.h5')\n",
        "\n",
        "reconstruction_losses = autoencoder.evaluate(healthy_test_sequences, healthy_test_sequences, verbose=0)\n",
        "\n",
        "# Identify the indices of the anomalous sequences in the test dataset\n",
        "anomalous_indices = np.where(np.array(y_test) == 'anomalous')[0]\n",
        "\n",
        "# Extract the anomalous sequences from the faulty_sequences variable\n",
        "anomalous_test_sequences = faulty_sequences[anomalous_indices]\n"
      ]
    },
    {
      "cell_type": "code",
      "execution_count": 103,
      "metadata": {
        "colab": {
          "base_uri": "https://localhost:8080/",
          "height": 1000
        },
        "id": "XsGTAPtFYwJo",
        "outputId": "9b4cde10-3645-403e-b46e-a170942e22d1"
      },
      "outputs": [
        {
          "output_type": "stream",
          "name": "stdout",
          "text": [
            "665/665 [==============================] - 2s 3ms/step\n"
          ]
        },
        {
          "output_type": "stream",
          "name": "stderr",
          "text": [
            "/usr/local/lib/python3.10/dist-packages/sklearn/metrics/_ranking.py:1029: UndefinedMetricWarning: No positive samples in y_true, true positive value should be meaningless\n",
            "  warnings.warn(\n"
          ]
        },
        {
          "output_type": "display_data",
          "data": {
            "text/plain": [
              "<Figure size 800x600 with 1 Axes>"
            ],
            "image/png": "[encoded data removed]"
          },
          "metadata": {}
        },
        {
          "output_type": "stream",
          "name": "stderr",
          "text": [
            "/usr/local/lib/python3.10/dist-packages/sklearn/metrics/_ranking.py:891: UserWarning: No positive class found in y_true, recall is set to one for all thresholds.\n",
            "  warnings.warn(\n"
          ]
        },
        {
          "output_type": "stream",
          "name": "stdout",
          "text": [
            "AUC-ROC: nan\n"
          ]
        },
        {
          "output_type": "display_data",
          "data": {
            "text/plain": [
              "<Figure size 800x600 with 1 Axes>"
            ],
            "image/png": "[encoded data removed]"
          },
          "metadata": {}
        },
        {
          "output_type": "stream",
          "name": "stdout",
          "text": [
            "FPR at Desired Precision: 0.0\n",
            "Threshold at Desired Precision: 0.0005864737945116458\n"
          ]
        }
      ],
      "source": [
        "# Load the weights of the best model\n",
        "autoencoder.load_weights('best_model_weights_epoch_9.h5')\n",
        "\n",
        "# Generate reconstructed sequences for the test dataset\n",
        "reconstructed_sequences = autoencoder.predict(healthy_test_sequences)\n",
        "\n",
        "# Compute the reconstruction error (Mean Squared Error) for each sequence\n",
        "mse = np.mean(np.square(healthy_test_sequences - reconstructed_sequences), axis=(1, 2))\n",
        "\n",
        "# Create the true labels vector\n",
        "true_labels = np.concatenate([np.zeros(len(healthy_test_sequences)), np.ones(len(anomalous_test_sequences))])\n",
        "\n",
        "# Calculate the False Positive Rate (FPR) and True Positive Rate (TPR) at different threshold values\n",
        "fpr, tpr, thresholds = roc_curve(true_labels, mse)\n",
        "\n",
        "# Plot the ROC curve and compute the Area Under the Curve (AUC)\n",
        "plt.figure(figsize=(8, 6))\n",
        "plt.plot(fpr, tpr, label='ROC Curve')\n",
        "plt.plot([0, 1], [0, 1], 'r--')\n",
        "plt.xlabel('False Positive Rate')\n",
        "plt.ylabel('True Positive Rate')\n",
        "plt.title('Receiver Operating Characteristic (ROC) Curve')\n",
        "plt.legend()\n",
        "plt.show()\n",
        "\n",
        "auc_roc = auc(fpr, tpr)\n",
        "print('AUC-ROC:', auc_roc)\n",
        "\n",
        "# Calculate the Precision, Recall, and Threshold values for different precision levels\n",
        "precision, recall, thresholds = precision_recall_curve(true_labels, mse)\n",
        "\n",
        "# Plot the Precision-Recall curve\n",
        "plt.figure(figsize=(8, 6))\n",
        "plt.plot(recall, precision, label='Precision-Recall Curve')\n",
        "plt.xlabel('Recall')\n",
        "plt.ylabel('Precision')\n",
        "plt.title('Precision-Recall Curve')\n",
        "plt.legend()\n",
        "plt.show()\n",
        "\n",
        "# Compute the FPR and Threshold for a desired precision level (e.g., 0.8)\n",
        "desired_precision = 0.8\n",
        "desired_precision_idx = np.argmax(precision[:-1] >= desired_precision)\n",
        "desired_threshold = thresholds[desired_precision_idx]\n",
        "fpr_at_desired_precision = fpr[desired_precision_idx]\n",
        "print('FPR at Desired Precision:', fpr_at_desired_precision)\n",
        "print('Threshold at Desired Precision:', desired_threshold)\n",
        "\n",
        "# Detect anomalies using the threshold\n",
        "predicted_labels = mse >= desired_threshold\n"
      ]
    },
    {
      "cell_type": "markdown",
      "metadata": {
        "id": "u44LETukYwJo"
      },
      "source": [
        "# Subtask 2.10\n",
        "\n",
        "## Evaluate model performance\n",
        "\n",
        "#### TODO\n",
        " - Compute accuracy, recall, precision f1-score.\n",
        " - Explain the effect of selecting different values for the threshold on the performance of the model."
      ]
    },
    {
      "cell_type": "code",
      "execution_count": 104,
      "metadata": {
        "colab": {
          "base_uri": "https://localhost:8080/"
        },
        "id": "ayfWBdTuYwJo",
        "outputId": "502e25bc-1a57-44df-ffb4-751dad8eb81f"
      },
      "outputs": [
        {
          "output_type": "stream",
          "name": "stdout",
          "text": [
            "Accuracy: 0.0\n",
            "Recall: 0.0\n",
            "Precision: 0.0\n",
            "F1-score: 0.0\n"
          ]
        },
        {
          "output_type": "stream",
          "name": "stderr",
          "text": [
            "/usr/local/lib/python3.10/dist-packages/sklearn/metrics/_classification.py:1344: UndefinedMetricWarning: Recall is ill-defined and being set to 0.0 due to no true samples. Use `zero_division` parameter to control this behavior.\n",
            "  _warn_prf(average, modifier, msg_start, len(result))\n"
          ]
        }
      ],
      "source": [
        "####################\n",
        "## YOUR CODE HERE ##\n",
        "####################\n",
        "from sklearn.metrics import accuracy_score, recall_score, precision_score, f1_score\n",
        "\n",
        "# Compute accuracy\n",
        "accuracy = accuracy_score(true_labels, predicted_labels)\n",
        "\n",
        "# Compute recall\n",
        "recall = recall_score(true_labels, predicted_labels)\n",
        "\n",
        "# Compute precision\n",
        "precision = precision_score(true_labels, predicted_labels)\n",
        "\n",
        "# Compute F1-score\n",
        "f1 = f1_score(true_labels, predicted_labels)\n",
        "\n",
        "print('Accuracy:', accuracy)\n",
        "print('Recall:', recall)\n",
        "print('Precision:', precision)\n",
        "print('F1-score:', f1)\n"
      ]
    },
    {
      "cell_type": "code",
      "execution_count": null,
      "metadata": {
        "id": "R197J740YwJp"
      },
      "outputs": [],
      "source": [
        "####################\n",
        "## YOUR CODE HERE ##\n",
        "####################"
      ]
    },
    {
      "cell_type": "markdown",
      "metadata": {
        "id": "qNfQwsxRYwJp"
      },
      "source": [
        "<span style='color:red'>**Your answer:**</span>\n",
        "\n",
        "..."
      ]
    },
    {
      "cell_type": "markdown",
      "metadata": {
        "id": "Nrwrc-iQYwJp"
      },
      "source": [
        "## Visualize the detected anomalies\n",
        "\n",
        "#### TDOD\n",
        " - Plot `ENGINE_RPM` of one of the time series of the test dataset.\n",
        " - Visualize the healthy time steps by blue.\n",
        " - Visualize the true anomalous time steps by green.\n",
        " - Visualize the predicted anomalous time steps by red."
      ]
    },
    {
      "cell_type": "code",
      "execution_count": null,
      "metadata": {
        "id": "0IxUDH9iYwJp"
      },
      "outputs": [],
      "source": [
        "####################\n",
        "## YOUR CODE HERE ##\n",
        "####################\n",
        "\n"
      ]
    }
  ],
  "metadata": {
    "kernelspec": {
      "display_name": "Python 3",
      "name": "python3"
    },
    "language_info": {
      "codemirror_mode": {
        "name": "ipython",
        "version": 3
      },
      "file_extension": ".py",
      "mimetype": "text/x-python",
      "name": "python",
      "nbconvert_exporter": "python",
      "pygments_lexer": "ipython3",
      "version": "3.9.7"
    },
    "orig_nbformat": 4,
    "vscode": {
      "interpreter": {
        "hash": "062ad8061f6e7aca79bc9a27e986d47521568c0a72ae67729c623b905ab2cf31"
      }
    },
    "colab": {
      "provenance": [],
      "gpuType": "T4"
    },
    "accelerator": "GPU"
  },
  "nbformat": 4,
  "nbformat_minor": 0
}