{
  "cells": [
    {
      "cell_type": "markdown",
      "metadata": {
        "id": "gsqKM5DLlLRm"
      },
      "source": [
        "# Exercise Sheet 2 – MLP, Learning rate, Overfitting, and Hyper-parameters."
      ]
    },
    {
      "cell_type": "markdown",
      "metadata": {
        "id": "l0IaFAhU-jO7"
      },
      "source": [
        "### Deadline Tuesday, May 23, 2023 at 11:59 p.m"
      ]
    },
    {
      "cell_type": "markdown",
      "metadata": {
        "id": "eaoMWjbZdCLf"
      },
      "source": [
        "# IMPORTANT SUBMISSION INSTRUCTIONS\n",
        "\n",
        "- When you're done, download the notebook and rename it to exercise1_[name1].ipynb\n",
        "- Only submit the ipynb file, no other file is required.\n",
        "- The deadline is strict.\n",
        "- Minimal requirement for passing: solving all code cells.\n",
        "\n",
        "Implementation\n",
        "- Do not change the cells which are marked as \"Do not change\", similarly write your solution to the marked cells. Do not create additional cells. "
      ]
    },
    {
      "cell_type": "markdown",
      "metadata": {
        "id": "A8RW2QHHFQYe"
      },
      "source": [
        "# Introduction\n",
        "\n",
        "In this task you will implement an MLP model for virtual sensing using the flood dataset. \n",
        "The objectives are:\n",
        "- Implementing an MLP model via TensorFlow Functional API.\n",
        "- Getting more familiar with model fitting and overfitting.\n",
        "- Implementing early stopping.\n",
        "- Exploring hyperparameters and their influence.\n",
        "- Selecting model architecture."
      ]
    },
    {
      "cell_type": "markdown",
      "metadata": {
        "id": "Dhw-7EA-10Xm"
      },
      "source": [
        "## Tutorials\n",
        "\n",
        "Some python libraries are required to accomplish the tasks assigned in this homework. If you feel like you need to follow a tutorial before, feel free to do so:"
      ]
    },
    {
      "cell_type": "markdown",
      "metadata": {
        "id": "VMyEloGz__BZ"
      },
      "source": [
        "*   [Scikit-learn Tutorials](https://www.tensorflow.org/tutorials)\n",
        "*   [TensorFlow Tutorials](https://scikit-learn.org/stable/tutorial/index.html)\n",
        "*   [Matplotlib Tutorials](https://matplotlib.org/stable/tutorials/index.html)"
      ]
    },
    {
      "cell_type": "markdown",
      "metadata": {
        "id": "ActTWMg4XZ5v"
      },
      "source": [
        "## Imports"
      ]
    },
    {
      "cell_type": "code",
      "execution_count": 7,
      "metadata": {
        "id": "LArjND15dGNh"
      },
      "outputs": [],
      "source": [
        "import numpy as np\n",
        "import random\n",
        "import pandas as pd\n",
        "import tensorflow as tf\n",
        "from tensorflow import keras\n",
        "from tensorflow.keras import models, layers, optimizers, losses, callbacks\n",
        " \n",
        "import matplotlib.pyplot as plt\n",
        "import seaborn as sns\n",
        "%matplotlib inline\n",
        "sns.set(color_codes=True)\n",
        "SEED = 24\n",
        "random.seed(SEED)\n",
        "np.random.seed(SEED)\n",
        "tf.random.set_seed(SEED)"
      ]
    },
    {
      "cell_type": "markdown",
      "metadata": {
        "id": "gpqN-O0F_atv"
      },
      "source": [
        "## System checks\n"
      ]
    },
    {
      "cell_type": "code",
      "execution_count": 2,
      "metadata": {
        "colab": {
          "base_uri": "https://localhost:8080/"
        },
        "id": "b1r5yPHY_hsl",
        "outputId": "0f6f829e-af2d-4b34-f102-caf6c5a24b1f"
      },
      "outputs": [
        {
          "output_type": "stream",
          "name": "stdout",
          "text": [
            "[PhysicalDevice(name='/physical_device:GPU:0', device_type='GPU')]\n",
            "[PhysicalDevice(name='/physical_device:CPU:0', device_type='CPU')]\n"
          ]
        }
      ],
      "source": [
        "gpus = tf.config.list_physical_devices('GPU')\n",
        "cpus = tf.config.list_physical_devices('CPU')\n",
        "print(gpus)\n",
        "print(cpus)"
      ]
    },
    {
      "cell_type": "markdown",
      "metadata": {
        "id": "874xF2W2-jO9"
      },
      "source": [
        "Choose your device for computation. CPU or one of your CUDA devices"
      ]
    },
    {
      "cell_type": "code",
      "execution_count": 3,
      "metadata": {
        "id": "MMCbCpAFao6q"
      },
      "outputs": [],
      "source": [
        "tf.config.set_visible_devices(gpus, 'GPU')"
      ]
    },
    {
      "cell_type": "markdown",
      "metadata": {
        "id": "UfPb5sSg-jO9"
      },
      "source": [
        "# Subtask 2.1\n",
        "\n",
        "## Backpropagation – Chain Rule\n",
        "\n",
        "### Model\n",
        "Let us assume an MLP with one hidden layer containing one neuron with `sigmoid` function ($S(x) = 1 / (1 + e^{-x})$) as the activation function. The input and the output dimensions are equal to one. The activation function for the input and output layers is `linear`.\n",
        "The mapping $f: x \\to \\tilde{y}$ from the input $x$ to output $\\tilde{y}$ can be written as:\n",
        "\\begin{equation}\n",
        "\\tilde{y} = f(x) = w_2 S(w_1 x)\n",
        "\\end{equation}\n",
        "where $w_1$ and $w_2$ are the weights of the model. Note that we do not have bias for this example. Let us consider mean-squared error as the loss function. The loss $\\ell$ can be obtained as:\n",
        "\\begin{equation}\n",
        "\\ell = (y - \\tilde{y})^2 = (y - w_2 S(w_1 x))^2 \n",
        "\\end{equation}\n",
        "where $y$ denotes the reference label. Let's initialize the weights as $w_1 = 0.1$ and $w_2 = 0.1$.\n",
        "\n",
        "### Data\n",
        "\n",
        "Let's assume we have a data set containing three samples as: $x = [1.0, 2.0, 3.0]^{T}$ and $y = [1.0, 4.0, 9.0]^{T}$.\n",
        "\n",
        "#### TODO\n",
        " - Perform gradient descent by hand with a learning rate of 0.1. Train the model for 1 epoch with the batch size of 1.\n",
        " - Report the prediction $\\tilde{y}$, loss, gradients, and the updated weights at every iteration."
      ]
    },
    {
      "cell_type": "markdown",
      "metadata": {
        "id": "vAu1g0wj-jO9"
      },
      "source": [
        "<span style='color:red'>**Your answer:**</span>\n",
        "\n",
        "# ***Step 1: Initialize the parameters***\n",
        "We initialize the weights w1 and w2 to 0.1.\n",
        "\n",
        "# ***Step 2: Prepare the data***\n",
        "We have three data samples. For this example, we will use a batch size of 1, which means we will use one data sample at a time to train our model.\n",
        "\n",
        "# ***Step 3: Forward pass***\n",
        "For each input sample, we compute the predicted output using the formula \n",
        "**y~=f(x)=w2S(w1x)**, where ***S*** is the ***sigmoid activation function***.\n",
        "\n",
        "# ***Step 4: Compute the loss***\n",
        "We calculate the loss using the mean squared error (MSE) cost function: \n",
        "**ℓ=(y−y~)^2=(y−w2S(w1x))^2**\n",
        "\n",
        "# ***Step 5: Compute the gradients***\n",
        "We calculate the gradients of the cost function with respect to the weights w1 and w2. This can be done using the chain rule to calculate the partial derivatives of the cost function with respect to each weight.\n",
        "\n",
        "**∂ℓ/∂w2 = -2(y - y~)S(w1x)**\n",
        "\n",
        "**∂ℓ/∂w1 = -2(y - y~)w2S(w1x)(1 - S(w1x))x**\n",
        "\n",
        "# ***Step 6: Update the weights***\n",
        "We update the weights by subtracting the product of the learning rate and the gradient of each weight.\n",
        "\n",
        "w1 = w1 - learning_rate * dℓ/dw1\n",
        "\n",
        "w2 = w2 - learning_rate * dℓ/dw2\n",
        "\n",
        "## ***Here are the details of the calculations for each iteration:***\n",
        "\n",
        "Iteration 1:\n",
        "\n",
        "Input: x=1.0, y=1.0\n",
        "Forward pass: y~ = 0.5249 (with S(0.1*1.0)=0.52494)\n",
        "Compute the loss: ℓ = 0.2288 ((1.0 - 0.1 * 0.5249)**2)\n",
        "Compute the gradients: dℓ/dw2 = -0.9495 * 0.5249 = -0.4987 ; dℓ/dw1 = -0.9495 * 0.1 * 0.5249 * (1 - 0.5249) * 1.0 = -0.0259\n",
        "Update the weights: w1 = 0.1 - 0.1 * -0.0259 = 0.1025 ; w2 = 0.1 - 0.1 * -0.4987 = 0.1498\n",
        "Result: y~ = 0.0524 ; ℓ = 0.2288 ; dw1 = -0.0259\n",
        "\n",
        "**Iteration 2:**\n",
        "\n",
        "Input: x=2.0, y=4.0\n",
        "Forward pass: y~ = 0.1741 (with S(0.1025*2.0)=0.1741)\n",
        "Compute the loss: ℓ = 9.5342 ((4.0 - 0.1498 * 0.1741)**2)\n",
        "Compute the gradients: dℓ/dw2 = -4.8010 * 0.1741 = -0.8362 ; dℓ/dw1 = -4.8010 * 0.1498 * 0.1741 * (1 - 0.1741) * 2.0 = -0.2013\n",
        "Update the weights: w1 = 0.1025 - 0.1 * -0.2013 = 0.1227 ; w2 = 0.1498 - 0.1 * -0.8362 = 0.2335\n",
        "Result: y~ = 0.0348 ; ℓ = 9.5342 ; dw1 = -0.2013\n",
        "\n",
        "**Iteration 3:**\n",
        "\n",
        "Input: x=3.0, y=9.0\n",
        "Forward pass: y~ = 0.2759 (with S(0.1227*3.0)=0.2759)\n",
        "Compute the loss: ℓ = 56.8522 ((9.0 - 0.2335 * 0.2759)**2)\n",
        "Compute the gradients: dℓ/dw2 = -31.7967 * 0.2759 = -8.7811 ; dℓ/dw1 = -31.7967 * 0.2335 * 0.2759 * (1 - 0.2759) * 3.0 = -0.5664\n",
        "Update the weights: w1 = 0.1227 - 0.1 * -0.5664 = 0.1793 ; w2 = 0.2335 - 0.1 * -8.7811 = 0.3116\n",
        "Result: y~ = 0.0828 ; ℓ = 56.8522 ; dw1 = -0.5664"
      ]
    },
    {
      "cell_type": "markdown",
      "metadata": {
        "id": "q2EO5Nkt-jO9"
      },
      "source": [
        "#### TODO\n",
        "- Define two functions that compute the gradients of the loss with respect to $w_1$ and $w_2$ using analytical differentiation and chain rule.\n",
        "- Use the functions you defined and train the model again using gradient descent and the same learning rate.\n",
        "- Report the prediction $\\tilde{y}$, loss, gradients, and the updated weights at every iteration."
      ]
    },
    {
      "cell_type": "code",
      "execution_count": 4,
      "metadata": {
        "colab": {
          "base_uri": "https://localhost:8080/"
        },
        "id": "jxcSl38d-jO-",
        "outputId": "97d910a0-7bc2-4344-f21b-745091ab4fbb"
      },
      "outputs": [
        {
          "output_type": "stream",
          "name": "stdout",
          "text": [
            "Iteration 1: y_pred = [0.05249792 0.0549834  0.05744425], loss = 32.143406494054446, Gradients: grad_w2 = -5.202338233555351, grad_w1 = -0.5831629689853465, Updated weights: w2 = 0.15202338233555351, w1 = 0.10583162968985348\n"
          ]
        }
      ],
      "source": [
        "####################\n",
        "## YOUR CODE HERE ##\n",
        "####################\n",
        "\n",
        "def sigmoid(x):\n",
        "    # Sigmoid function\n",
        "    return 1 / (1 + np.exp(-x))\n",
        "\n",
        "  # Derivative of sigmoid function\n",
        "def dSigmoid(x):\n",
        "    return sigmoid(x) * (1 - sigmoid(x))\n",
        "\n",
        "# Gradient of loss with respect to w1\n",
        "def dL_dw1(x, y, w1, w2):    \n",
        "    return 2 * (w2 * dSigmoid(w1 * x) * x) * (w2 * sigmoid(w1 * x) - y)\n",
        "\n",
        "def dL_dw2(x, y, w1, w2):\n",
        "    # Gradient of loss with respect to w2\n",
        "    return 2 * sigmoid(w1 * x) * (w2 * sigmoid(w1 * x) - y)\n",
        "\n",
        "x = np.array([1.0, 2.0, 3.0])\n",
        "y = np.array([1.0, 4.0, 9.0])\n",
        "\n",
        "w1 = 0.1\n",
        "w2 = 0.1\n",
        "learning_rate = 0.01\n",
        "\n",
        "for i in range(1):\n",
        "    # Compute prediction\n",
        "    y_pred = w2 * sigmoid(w1 * x)\n",
        "    \n",
        "    # Compute loss\n",
        "    loss = np.mean((y - y_pred) ** 2)\n",
        "    \n",
        "    # Compute gradients\n",
        "    dw1 = np.mean(dL_dw1(x, y, w1, w2))\n",
        "    dw2 = np.mean(dL_dw2(x, y, w1, w2))\n",
        "    \n",
        "    # Update weights\n",
        "    w1 -= learning_rate * dw1\n",
        "    w2 -= learning_rate * dw2\n",
        "    \n",
        "     # Print the progress\n",
        "    print(f\"Iteration {i+1}: y_pred = {y_pred}, loss = {loss}, Gradients: grad_w2 = {dw2}, grad_w1 = {dw1}, Updated weights: w2 = {w2}, w1 = {w1}\")"
      ]
    },
    {
      "cell_type": "markdown",
      "metadata": {
        "id": "Q5S-9dUI-jO-"
      },
      "source": [
        "#### TODO\n",
        "- Use automatic differentiation (AD) (`tf.GradientTape`) to compute the gradients.\n",
        "- Train the model again using the same learning rate, epoch, and batch size.\n",
        "- Report the prediction $\\tilde{y}$, loss, gradients, and the updated weights at every iteration."
      ]
    },
    {
      "cell_type": "code",
      "execution_count": 5,
      "metadata": {
        "colab": {
          "base_uri": "https://localhost:8080/"
        },
        "id": "w2HLnQTw-jO-",
        "outputId": "c2a48514-4de0-44c0-f7c0-39d7ff40f0e8"
      },
      "outputs": [
        {
          "output_type": "stream",
          "name": "stdout",
          "text": [
            "Iteration 0: y_pred=[0.05249792 0.0549834  0.05744425], loss=32.14340591430664, Gradients: dw1=-0.5831630229949951, dw2=-5.202338218688965, Updated weights: w1=0.10583163052797318, w2=0.15202337503433228\n",
            "Iteration 1: y_pred=[0.08003016 0.08402622 0.08797801], loss=31.868444442749023, Gradients: dw1=-0.8801072239875793, dw2=-5.204163551330566, Updated weights: w1=0.11463270336389542, w2=0.2040650099515915\n",
            "Iteration 2: y_pred=[0.10787424 0.11367781 0.11940601], loss=31.58811378479004, Gradients: dw1=-1.17099130153656, dw2=-5.221938133239746, Updated weights: w1=0.12634260952472687, w2=0.2562843859195709\n",
            "Iteration 3: y_pred=[0.13622636 0.14424641 0.1521403 ], loss=31.299184799194336, Gradients: dw1=-1.4549551010131836, dw2=-5.254484176635742, Updated weights: w1=0.1408921629190445, w2=0.3088292181491852\n",
            "Iteration 4: y_pred=[0.16527456 0.1760276  0.186571  ], loss=30.998687744140625, Gradients: dw1=-1.7305948734283447, dw2=-5.300477981567383, Updated weights: w1=0.15819811820983887, w2=0.36183398962020874\n",
            "Iteration 5: y_pred=[0.1951976  0.20930132 0.22306003], loss=30.683929443359375, Gradients: dw1=-1.9959144592285156, dw2=-5.358402729034424, Updated weights: w1=0.1781572699546814, w2=0.41541802883148193\n",
            "Iteration 6: y_pred=[0.22616266 0.24432728 0.26193166], loss=30.352582931518555, Gradients: dw1=-2.2483389377593994, dw2=-5.426506996154785, Updated weights: w1=0.20064066350460052, w2=0.46968311071395874\n",
            "Iteration 7: y_pred=[0.2583222  0.28133804 0.30346033], loss=30.002779006958008, Gradients: dw1=-2.4847984313964844, dw2=-5.502784729003906, Updated weights: w1=0.22548864781856537, w2=0.5247109532356262\n",
            "Iteration 8: y_pred=[0.2918099  0.32053098 0.34785688], loss=29.633203506469727, Gradients: dw1=-2.7019081115722656, dw2=-5.584977626800537, Updated weights: w1=0.2525077164173126, w2=0.5805607438087463\n",
            "Iteration 9: y_pred=[0.32673588 0.36205932 0.3952549 ], loss=29.24317741394043, Gradients: dw1=-2.8962206840515137, dw2=-5.670607089996338, Updated weights: w1=0.2814699113368988, w2=0.6372668147087097\n",
            "Iteration 10: y_pred=[0.36318251 0.40602338 0.44570005], loss=28.832754135131836, Gradients: dw1=-3.064547300338745, dw2=-5.757056713104248, Updated weights: w1=0.3121153712272644, w2=0.6948373913764954\n",
            "Iteration 11: y_pred=[0.40120018 0.4524643  0.49914405], loss=28.4027099609375, Gradients: dw1=-3.204293966293335, dw2=-5.841677665710449, Updated weights: w1=0.3441583216190338, w2=0.7532541751861572\n",
            "Iteration 12: y_pred=[0.44080454 0.5013602  0.55544615], loss=27.954551696777344, Gradients: dw1=-3.313758373260498, dw2=-5.92192268371582, Updated weights: w1=0.37729591131210327, w2=0.8124734163284302\n",
            "Iteration 13: y_pred=[0.4819761 0.5526269 0.6143819], loss=27.490442276000977, Gradients: dw1=-3.3923373222351074, dw2=-5.995485305786133, Updated weights: w1=0.4112192988395691, w2=0.872428297996521\n",
            "Iteration 14: y_pred=[0.5246611 0.6061228 0.6756592], loss=27.01300048828125, Gradients: dw1=-3.4405906200408936, dw2=-6.0604143142700195, Updated weights: w1=0.4456252157688141, w2=0.9330324530601501\n",
            "Iteration 15: y_pred=[0.56877524 0.6616582  0.738939  ], loss=26.52520179748535, Gradients: dw1=-3.4601657390594482, dw2=-6.115208148956299, Updated weights: w1=0.48022687435150146, w2=0.9941845536231995\n",
            "Iteration 16: y_pred=[0.61420864 0.7190068  0.80385786], loss=26.030166625976562, Gradients: dw1=-3.453603506088257, dw2=-6.158847808837891, Updated weights: w1=0.5147628784179688, w2=1.0557730197906494\n",
            "Iteration 17: y_pred=[0.6608319 0.7779189 0.8700492], loss=25.530977249145508, Gradients: dw1=-3.424057722091675, dw2=-6.190792560577393, Updated weights: w1=0.5490034818649292, w2=1.1176809072494507\n",
            "Iteration 18: y_pred=[0.70850277 0.83813375 0.9371605 ], loss=25.03058433532715, Gradients: dw1=-3.375009536743164, dw2=-6.210936546325684, Updated weights: w1=0.582753598690033, w2=1.1797902584075928\n",
            "Iteration 19: y_pred=[0.7570723  0.89939183 1.0048667 ], loss=24.531646728515625, Gradients: dw1=-3.3099937438964844, dw2=-6.219534397125244, Updated weights: w1=0.6158535480499268, w2=1.241985559463501\n"
          ]
        }
      ],
      "source": [
        "####################\n",
        "## YOUR CODE HERE ##\n",
        "####################\n",
        "\n",
        "# Define the input data and labels\n",
        "x = tf.constant([1.0, 2.0, 3.0])\n",
        "y = tf.constant([1.0, 4.0, 9.0])\n",
        "\n",
        "# Initialize the weights\n",
        "w1 = tf.Variable(0.1)\n",
        "w2 = tf.Variable(0.1)\n",
        "\n",
        "# Set the learning rate\n",
        "learning_rate = 0.01\n",
        "\n",
        "# Train the model for 20 iterations\n",
        "for i in range(20):\n",
        "\n",
        "    # Use tf.GradientTape to record the operations for automatic differentiation\n",
        "    with tf.GradientTape() as tape:\n",
        "\n",
        "        # Compute the prediction using the current weights\n",
        "        y_pred = w2 * tf.math.sigmoid(w1 * x)\n",
        "\n",
        "        # Compute the loss using mean squared error\n",
        "        loss = tf.reduce_mean(tf.square(y - y_pred))\n",
        "\n",
        "    # Compute the gradients of the loss with respect to the weights\n",
        "    dw1, dw2 = tape.gradient(loss, [w1, w2])\n",
        "\n",
        "    # Update the weights using gradient descent\n",
        "    w1.assign_sub(learning_rate * dw1)\n",
        "    w2.assign_sub(learning_rate * dw2)\n",
        "\n",
        "    # Print the current prediction, loss, gradients, and weights\n",
        "    print(f'Iteration {i}: y_pred={y_pred.numpy()}, loss={loss.numpy()}, Gradients: dw1={dw1.numpy()}, dw2={dw2.numpy()}, Updated weights: w1={w1.numpy()}, w2={w2.numpy()}')"
      ]
    },
    {
      "cell_type": "markdown",
      "metadata": {
        "id": "jtD8XRPc-jO-"
      },
      "source": [
        "# Subtask 2.2\n",
        "\n",
        "In this task, we consider the data from **Margarethenklippe** as the input and train an MLP that gives the information about **Sennhuette** as the output. For each of the sensors, we have the water level, **W**, and the mass flow rate, **Q**, every 15 minutes.\n",
        "## Pre-processing \n",
        "\n",
        "#### TODO\n",
        " - Load the flood dataset (`Flood_Data.csv`) using *pandas* library.\n",
        " - Drop the first four columns of the DataFrame and columns containing NaNs.\n",
        " - Split the data into inputs and outputs.\n",
        " - Shuffle the data and get the NumPy arrays.\n",
        " - Split the data to 75% for training, 15% for validation, and 15% for testing.\n",
        " - Standardize inputs and outputs. \n",
        " "
      ]
    },
    {
      "cell_type": "code",
      "execution_count": 6,
      "metadata": {
        "colab": {
          "base_uri": "https://localhost:8080/",
          "height": 479
        },
        "id": "YHdmnDgU-jO-",
        "outputId": "7624ea13-9734-407f-9d41-2902bd5bcdf9"
      },
      "outputs": [
        {
          "output_type": "display_data",
          "data": {
            "text/plain": [
              "<IPython.core.display.HTML object>"
            ],
            "text/html": [
              "\n",
              "     <input type=\"file\" id=\"files-b6d5a39f-c5b8-4c67-b36b-72a4371285a8\" name=\"files[]\" multiple disabled\n",
              "        style=\"border:none\" />\n",
              "     <output id=\"result-b6d5a39f-c5b8-4c67-b36b-72a4371285a8\">\n",
              "      Upload widget is only available when the cell has been executed in the\n",
              "      current browser session. Please rerun this cell to enable.\n",
              "      </output>\n",
              "      <script>// Copyright 2017 Google LLC\n",
              "//\n",
              "// Licensed under the Apache License, Version 2.0 (the \"License\");\n",
              "// you may not use this file except in compliance with the License.\n",
              "// You may obtain a copy of the License at\n",
              "//\n",
              "//      http://www.apache.org/licenses/LICENSE-2.0\n",
              "//\n",
              "// Unless required by applicable law or agreed to in writing, software\n",
              "// distributed under the License is distributed on an \"AS IS\" BASIS,\n",
              "// WITHOUT WARRANTIES OR CONDITIONS OF ANY KIND, either express or implied.\n",
              "// See the License for the specific language governing permissions and\n",
              "// limitations under the License.\n",
              "\n",
              "/**\n",
              " * @fileoverview Helpers for google.colab Python module.\n",
              " */\n",
              "(function(scope) {\n",
              "function span(text, styleAttributes = {}) {\n",
              "  const element = document.createElement('span');\n",
              "  element.textContent = text;\n",
              "  for (const key of Object.keys(styleAttributes)) {\n",
              "    element.style[key] = styleAttributes[key];\n",
              "  }\n",
              "  return element;\n",
              "}\n",
              "\n",
              "// Max number of bytes which will be uploaded at a time.\n",
              "const MAX_PAYLOAD_SIZE = 100 * 1024;\n",
              "\n",
              "function _uploadFiles(inputId, outputId) {\n",
              "  const steps = uploadFilesStep(inputId, outputId);\n",
              "  const outputElement = document.getElementById(outputId);\n",
              "  // Cache steps on the outputElement to make it available for the next call\n",
              "  // to uploadFilesContinue from Python.\n",
              "  outputElement.steps = steps;\n",
              "\n",
              "  return _uploadFilesContinue(outputId);\n",
              "}\n",
              "\n",
              "// This is roughly an async generator (not supported in the browser yet),\n",
              "// where there are multiple asynchronous steps and the Python side is going\n",
              "// to poll for completion of each step.\n",
              "// This uses a Promise to block the python side on completion of each step,\n",
              "// then passes the result of the previous step as the input to the next step.\n",
              "function _uploadFilesContinue(outputId) {\n",
              "  const outputElement = document.getElementById(outputId);\n",
              "  const steps = outputElement.steps;\n",
              "\n",
              "  const next = steps.next(outputElement.lastPromiseValue);\n",
              "  return Promise.resolve(next.value.promise).then((value) => {\n",
              "    // Cache the last promise value to make it available to the next\n",
              "    // step of the generator.\n",
              "    outputElement.lastPromiseValue = value;\n",
              "    return next.value.response;\n",
              "  });\n",
              "}\n",
              "\n",
              "/**\n",
              " * Generator function which is called between each async step of the upload\n",
              " * process.\n",
              " * @param {string} inputId Element ID of the input file picker element.\n",
              " * @param {string} outputId Element ID of the output display.\n",
              " * @return {!Iterable<!Object>} Iterable of next steps.\n",
              " */\n",
              "function* uploadFilesStep(inputId, outputId) {\n",
              "  const inputElement = document.getElementById(inputId);\n",
              "  inputElement.disabled = false;\n",
              "\n",
              "  const outputElement = document.getElementById(outputId);\n",
              "  outputElement.innerHTML = '';\n",
              "\n",
              "  const pickedPromise = new Promise((resolve) => {\n",
              "    inputElement.addEventListener('change', (e) => {\n",
              "      resolve(e.target.files);\n",
              "    });\n",
              "  });\n",
              "\n",
              "  const cancel = document.createElement('button');\n",
              "  inputElement.parentElement.appendChild(cancel);\n",
              "  cancel.textContent = 'Cancel upload';\n",
              "  const cancelPromise = new Promise((resolve) => {\n",
              "    cancel.onclick = () => {\n",
              "      resolve(null);\n",
              "    };\n",
              "  });\n",
              "\n",
              "  // Wait for the user to pick the files.\n",
              "  const files = yield {\n",
              "    promise: Promise.race([pickedPromise, cancelPromise]),\n",
              "    response: {\n",
              "      action: 'starting',\n",
              "    }\n",
              "  };\n",
              "\n",
              "  cancel.remove();\n",
              "\n",
              "  // Disable the input element since further picks are not allowed.\n",
              "  inputElement.disabled = true;\n",
              "\n",
              "  if (!files) {\n",
              "    return {\n",
              "      response: {\n",
              "        action: 'complete',\n",
              "      }\n",
              "    };\n",
              "  }\n",
              "\n",
              "  for (const file of files) {\n",
              "    const li = document.createElement('li');\n",
              "    li.append(span(file.name, {fontWeight: 'bold'}));\n",
              "    li.append(span(\n",
              "        `(${file.type || 'n/a'}) - ${file.size} bytes, ` +\n",
              "        `last modified: ${\n",
              "            file.lastModifiedDate ? file.lastModifiedDate.toLocaleDateString() :\n",
              "                                    'n/a'} - `));\n",
              "    const percent = span('0% done');\n",
              "    li.appendChild(percent);\n",
              "\n",
              "    outputElement.appendChild(li);\n",
              "\n",
              "    const fileDataPromise = new Promise((resolve) => {\n",
              "      const reader = new FileReader();\n",
              "      reader.onload = (e) => {\n",
              "        resolve(e.target.result);\n",
              "      };\n",
              "      reader.readAsArrayBuffer(file);\n",
              "    });\n",
              "    // Wait for the data to be ready.\n",
              "    let fileData = yield {\n",
              "      promise: fileDataPromise,\n",
              "      response: {\n",
              "        action: 'continue',\n",
              "      }\n",
              "    };\n",
              "\n",
              "    // Use a chunked sending to avoid message size limits. See b/62115660.\n",
              "    let position = 0;\n",
              "    do {\n",
              "      const length = Math.min(fileData.byteLength - position, MAX_PAYLOAD_SIZE);\n",
              "      const chunk = new Uint8Array(fileData, position, length);\n",
              "      position += length;\n",
              "\n",
              "      const base64 = btoa(String.fromCharCode.apply(null, chunk));\n",
              "      yield {\n",
              "        response: {\n",
              "          action: 'append',\n",
              "          file: file.name,\n",
              "          data: base64,\n",
              "        },\n",
              "      };\n",
              "\n",
              "      let percentDone = fileData.byteLength === 0 ?\n",
              "          100 :\n",
              "          Math.round((position / fileData.byteLength) * 100);\n",
              "      percent.textContent = `${percentDone}% done`;\n",
              "\n",
              "    } while (position < fileData.byteLength);\n",
              "  }\n",
              "\n",
              "  // All done.\n",
              "  yield {\n",
              "    response: {\n",
              "      action: 'complete',\n",
              "    }\n",
              "  };\n",
              "}\n",
              "\n",
              "scope.google = scope.google || {};\n",
              "scope.google.colab = scope.google.colab || {};\n",
              "scope.google.colab._files = {\n",
              "  _uploadFiles,\n",
              "  _uploadFilesContinue,\n",
              "};\n",
              "})(self);\n",
              "</script> "
            ]
          },
          "metadata": {}
        },
        {
          "output_type": "stream",
          "name": "stdout",
          "text": [
            "Saving Flood_Data.csv to Flood_Data.csv\n"
          ]
        },
        {
          "output_type": "execute_result",
          "data": {
            "text/plain": [
              "         MargarethenklippeMin15W   MargarethenklippeMin15Q   SennhuetteMin15W  \\\n",
              "0                            7.3                  0.037909                4.4   \n",
              "1                            7.3                  0.037909                4.3   \n",
              "2                            7.2                  0.036720                4.4   \n",
              "3                            7.2                  0.036720                4.5   \n",
              "4                            7.2                  0.036720                4.4   \n",
              "...                          ...                       ...                ...   \n",
              "514171                       6.8                  0.039000                3.2   \n",
              "514172                       6.8                  0.039000                3.2   \n",
              "514173                       6.7                  0.037000                3.2   \n",
              "514174                       6.8                  0.039000                3.3   \n",
              "514175                       6.8                  0.039000                3.2   \n",
              "\n",
              "         SennhuetteMin15Q  \n",
              "0                0.031730  \n",
              "1                0.030458  \n",
              "2                0.031730  \n",
              "3                0.033025  \n",
              "4                0.031730  \n",
              "...                   ...  \n",
              "514171           0.019000  \n",
              "514172           0.019000  \n",
              "514173           0.019000  \n",
              "514174           0.019000  \n",
              "514175           0.019000  \n",
              "\n",
              "[514176 rows x 4 columns]"
            ],
            "text/html": [
              "\n",
              "  <div id=\"df-1a9c9bac-ad09-4286-8b0c-e68467c1b473\">\n",
              "    <div class=\"colab-df-container\">\n",
              "      <div>\n",
              "<style scoped>\n",
              "    .dataframe tbody tr th:only-of-type {\n",
              "        vertical-align: middle;\n",
              "    }\n",
              "\n",
              "    .dataframe tbody tr th {\n",
              "        vertical-align: top;\n",
              "    }\n",
              "\n",
              "    .dataframe thead th {\n",
              "        text-align: right;\n",
              "    }\n",
              "</style>\n",
              "<table border=\"1\" class=\"dataframe\">\n",
              "  <thead>\n",
              "    <tr style=\"text-align: right;\">\n",
              "      <th></th>\n",
              "      <th>MargarethenklippeMin15W</th>\n",
              "      <th>MargarethenklippeMin15Q</th>\n",
              "      <th>SennhuetteMin15W</th>\n",
              "      <th>SennhuetteMin15Q</th>\n",
              "    </tr>\n",
              "  </thead>\n",
              "  <tbody>\n",
              "    <tr>\n",
              "      <th>0</th>\n",
              "      <td>7.3</td>\n",
              "      <td>0.037909</td>\n",
              "      <td>4.4</td>\n",
              "      <td>0.031730</td>\n",
              "    </tr>\n",
              "    <tr>\n",
              "      <th>1</th>\n",
              "      <td>7.3</td>\n",
              "      <td>0.037909</td>\n",
              "      <td>4.3</td>\n",
              "      <td>0.030458</td>\n",
              "    </tr>\n",
              "    <tr>\n",
              "      <th>2</th>\n",
              "      <td>7.2</td>\n",
              "      <td>0.036720</td>\n",
              "      <td>4.4</td>\n",
              "      <td>0.031730</td>\n",
              "    </tr>\n",
              "    <tr>\n",
              "      <th>3</th>\n",
              "      <td>7.2</td>\n",
              "      <td>0.036720</td>\n",
              "      <td>4.5</td>\n",
              "      <td>0.033025</td>\n",
              "    </tr>\n",
              "    <tr>\n",
              "      <th>4</th>\n",
              "      <td>7.2</td>\n",
              "      <td>0.036720</td>\n",
              "      <td>4.4</td>\n",
              "      <td>0.031730</td>\n",
              "    </tr>\n",
              "    <tr>\n",
              "      <th>...</th>\n",
              "      <td>...</td>\n",
              "      <td>...</td>\n",
              "      <td>...</td>\n",
              "      <td>...</td>\n",
              "    </tr>\n",
              "    <tr>\n",
              "      <th>514171</th>\n",
              "      <td>6.8</td>\n",
              "      <td>0.039000</td>\n",
              "      <td>3.2</td>\n",
              "      <td>0.019000</td>\n",
              "    </tr>\n",
              "    <tr>\n",
              "      <th>514172</th>\n",
              "      <td>6.8</td>\n",
              "      <td>0.039000</td>\n",
              "      <td>3.2</td>\n",
              "      <td>0.019000</td>\n",
              "    </tr>\n",
              "    <tr>\n",
              "      <th>514173</th>\n",
              "      <td>6.7</td>\n",
              "      <td>0.037000</td>\n",
              "      <td>3.2</td>\n",
              "      <td>0.019000</td>\n",
              "    </tr>\n",
              "    <tr>\n",
              "      <th>514174</th>\n",
              "      <td>6.8</td>\n",
              "      <td>0.039000</td>\n",
              "      <td>3.3</td>\n",
              "      <td>0.019000</td>\n",
              "    </tr>\n",
              "    <tr>\n",
              "      <th>514175</th>\n",
              "      <td>6.8</td>\n",
              "      <td>0.039000</td>\n",
              "      <td>3.2</td>\n",
              "      <td>0.019000</td>\n",
              "    </tr>\n",
              "  </tbody>\n",
              "</table>\n",
              "<p>514176 rows × 4 columns</p>\n",
              "</div>\n",
              "      <button class=\"colab-df-convert\" onclick=\"convertToInteractive('df-1a9c9bac-ad09-4286-8b0c-e68467c1b473')\"\n",
              "              title=\"Convert this dataframe to an interactive table.\"\n",
              "              style=\"display:none;\">\n",
              "        \n",
              "  <svg xmlns=\"http://www.w3.org/2000/svg\" height=\"24px\"viewBox=\"0 0 24 24\"\n",
              "       width=\"24px\">\n",
              "    <path d=\"M0 0h24v24H0V0z\" fill=\"none\"/>\n",
              "    <path d=\"M18.56 5.44l.94 2.06.94-2.06 2.06-.94-2.06-.94-.94-2.06-.94 2.06-2.06.94zm-11 1L8.5 8.5l.94-2.06 2.06-.94-2.06-.94L8.5 2.5l-.94 2.06-2.06.94zm10 10l.94 2.06.94-2.06 2.06-.94-2.06-.94-.94-2.06-.94 2.06-2.06.94z\"/><path d=\"M17.41 7.96l-1.37-1.37c-.4-.4-.92-.59-1.43-.59-.52 0-1.04.2-1.43.59L10.3 9.45l-7.72 7.72c-.78.78-.78 2.05 0 2.83L4 21.41c.39.39.9.59 1.41.59.51 0 1.02-.2 1.41-.59l7.78-7.78 2.81-2.81c.8-.78.8-2.07 0-2.86zM5.41 20L4 18.59l7.72-7.72 1.47 1.35L5.41 20z\"/>\n",
              "  </svg>\n",
              "      </button>\n",
              "      \n",
              "  <style>\n",
              "    .colab-df-container {\n",
              "      display:flex;\n",
              "      flex-wrap:wrap;\n",
              "      gap: 12px;\n",
              "    }\n",
              "\n",
              "    .colab-df-convert {\n",
              "      background-color: #E8F0FE;\n",
              "      border: none;\n",
              "      border-radius: 50%;\n",
              "      cursor: pointer;\n",
              "      display: none;\n",
              "      fill: #1967D2;\n",
              "      height: 32px;\n",
              "      padding: 0 0 0 0;\n",
              "      width: 32px;\n",
              "    }\n",
              "\n",
              "    .colab-df-convert:hover {\n",
              "      background-color: #E2EBFA;\n",
              "      box-shadow: 0px 1px 2px rgba(60, 64, 67, 0.3), 0px 1px 3px 1px rgba(60, 64, 67, 0.15);\n",
              "      fill: #174EA6;\n",
              "    }\n",
              "\n",
              "    [theme=dark] .colab-df-convert {\n",
              "      background-color: #3B4455;\n",
              "      fill: #D2E3FC;\n",
              "    }\n",
              "\n",
              "    [theme=dark] .colab-df-convert:hover {\n",
              "      background-color: #434B5C;\n",
              "      box-shadow: 0px 1px 3px 1px rgba(0, 0, 0, 0.15);\n",
              "      filter: drop-shadow(0px 1px 2px rgba(0, 0, 0, 0.3));\n",
              "      fill: #FFFFFF;\n",
              "    }\n",
              "  </style>\n",
              "\n",
              "      <script>\n",
              "        const buttonEl =\n",
              "          document.querySelector('#df-1a9c9bac-ad09-4286-8b0c-e68467c1b473 button.colab-df-convert');\n",
              "        buttonEl.style.display =\n",
              "          google.colab.kernel.accessAllowed ? 'block' : 'none';\n",
              "\n",
              "        async function convertToInteractive(key) {\n",
              "          const element = document.querySelector('#df-1a9c9bac-ad09-4286-8b0c-e68467c1b473');\n",
              "          const dataTable =\n",
              "            await google.colab.kernel.invokeFunction('convertToInteractive',\n",
              "                                                     [key], {});\n",
              "          if (!dataTable) return;\n",
              "\n",
              "          const docLinkHtml = 'Like what you see? Visit the ' +\n",
              "            '<a target=\"_blank\" href=https://colab.research.google.com/notebooks/data_table.ipynb>data table notebook</a>'\n",
              "            + ' to learn more about interactive tables.';\n",
              "          element.innerHTML = '';\n",
              "          dataTable['output_type'] = 'display_data';\n",
              "          await google.colab.output.renderOutput(dataTable, element);\n",
              "          const docLink = document.createElement('div');\n",
              "          docLink.innerHTML = docLinkHtml;\n",
              "          element.appendChild(docLink);\n",
              "        }\n",
              "      </script>\n",
              "    </div>\n",
              "  </div>\n",
              "  "
            ]
          },
          "metadata": {},
          "execution_count": 6
        }
      ],
      "source": [
        "# TODO load the flood dataset using pandas\n",
        "\n",
        "#import the dataset\n",
        "from google.colab import files\n",
        "uploaded=files.upload()\n",
        "# Load the dataset\n",
        "df = pd.read_csv('Flood_Data.csv', delimiter=';')\n",
        "\n",
        "# Drop the first four columns and columns containing NaNs\n",
        "df = df.drop(['Datum','Zeit',' GranetalsperreMin15Niederschlag',' HahnenkleeMin15Niederschlag'], axis=1).dropna(axis=1)\n",
        "\n",
        "\n",
        "df"
      ]
    },
    {
      "cell_type": "code",
      "execution_count": 8,
      "metadata": {
        "id": "6l5iFOm7-jO-"
      },
      "outputs": [],
      "source": [
        "# TODO split the data into inputs X and outputs y\n",
        "X = df.iloc[:, :-2].values\n",
        "y = df.iloc[:, -2:].values\n",
        "N_samples = X.shape[0] # number of samples"
      ]
    },
    {
      "cell_type": "code",
      "execution_count": 9,
      "metadata": {
        "id": "4WeJgwne-jO-"
      },
      "outputs": [],
      "source": [
        "# TODO shuffle the data and get the NumPy arrays:\n",
        "from sklearn.utils import shuffle\n",
        "from sklearn.model_selection import train_test_split\n",
        "X, y = shuffle(X, y)\n",
        "\n",
        "# TODO split the data to train, validation, and test:\n",
        "####################\n",
        "## YOUR CODE HERE ##\n",
        "####################\n",
        "X_train, X_test, y_train, y_test = train_test_split(X, y, test_size=0.3)\n",
        "X_val, X_test, y_val, y_test = train_test_split(X_test, y_test, test_size=0.5)"
      ]
    },
    {
      "cell_type": "markdown",
      "metadata": {
        "id": "imL_hNJr-jO_"
      },
      "source": [
        "Let us define a class for standardizing the data. We will implement a function that applies the scaling (`apply`) and a function that maps the scaled data back into the original scale (`apply_reverse`). "
      ]
    },
    {
      "cell_type": "code",
      "execution_count": 10,
      "metadata": {
        "id": "uqc80JoI-jO_"
      },
      "outputs": [],
      "source": [
        "# TODO create a class for standardizing the data.\n",
        "\n",
        "from sklearn.preprocessing import StandardScaler\n",
        "\n",
        "class DataStandardizer:\n",
        "    def __init__(self):\n",
        "        self.scaler = StandardScaler()\n",
        "\n",
        "    def fit(self, X):\n",
        "        self.scaler.fit(X)\n",
        "\n",
        "    def transform(self, X):\n",
        "        return self.scaler.transform(X)\n",
        "\n",
        "    def fit_transform(self, X):\n",
        "        return self.scaler.fit_transform(X)"
      ]
    },
    {
      "cell_type": "code",
      "execution_count": 11,
      "metadata": {
        "id": "EahduIOk-jO_"
      },
      "outputs": [],
      "source": [
        "# TODO standardize the data using the class you defined in the cell above.\n",
        "# Create an instance of the DataStandardizer class\n",
        "standardizer = DataStandardizer()\n",
        "\n",
        "# Fit and transform the training data\n",
        "X_train_std = standardizer.fit_transform(X_train)\n",
        "\n",
        "# Transform the validation and testing data using the fitted scaler\n",
        "X_val_std = standardizer.transform(X_val)\n",
        "X_test_std = standardizer.transform(X_test)\n"
      ]
    },
    {
      "cell_type": "markdown",
      "metadata": {
        "id": "ukaO3Hae-jO_"
      },
      "source": [
        "# Subtask 2.3\n",
        "\n",
        "## Implementing an MLP using TensorFlow Functional API.\n",
        "\n",
        "#### TODO\n",
        "\n",
        "- Implement an MLP using TensorFlow Functional API. \n",
        "- Print the model architecture using `model.summary()`."
      ]
    },
    {
      "cell_type": "code",
      "execution_count": 12,
      "metadata": {
        "id": "CJGV987V-jO_"
      },
      "outputs": [],
      "source": [
        "# TODO implement the model \n",
        "from tensorflow import keras\n",
        "def MLP(N_hidden_layers, N_neurons, activation):\n",
        "    input_layer = keras.Input(shape=(X_train_std.shape[1],))\n",
        "    x = input_layer\n",
        "    for i in range(N_hidden_layers):\n",
        "        x = layers.Dense(N_neurons, activation=activation)(x)\n",
        "    output_layer = layers.Dense(y_train.shape[1], activation='linear')(x)\n",
        "\n",
        "    model = models.Model(input_layer, output_layer)\n",
        "    return model\n",
        "\n",
        "####################\n",
        "## YOUR CODE HERE ##\n",
        "####################\n",
        "# Create an MLP with 2 hidden layers, 10 neurons per layer, and sigmoid activation function\n",
        "model = MLP(N_hidden_layers=2, N_neurons=10, activation='sigmoid')\n",
        "\n",
        "\n"
      ]
    },
    {
      "cell_type": "code",
      "execution_count": 13,
      "metadata": {
        "colab": {
          "base_uri": "https://localhost:8080/"
        },
        "id": "DlRxutkq-jO_",
        "outputId": "faa1665d-d639-4fce-e212-1e390850d072"
      },
      "outputs": [
        {
          "output_type": "stream",
          "name": "stdout",
          "text": [
            "Model: \"model\"\n",
            "_________________________________________________________________\n",
            " Layer (type)                Output Shape              Param #   \n",
            "=================================================================\n",
            " input_1 (InputLayer)        [(None, 2)]               0         \n",
            "                                                                 \n",
            " dense (Dense)               (None, 10)                30        \n",
            "                                                                 \n",
            " dense_1 (Dense)             (None, 10)                110       \n",
            "                                                                 \n",
            " dense_2 (Dense)             (None, 2)                 22        \n",
            "                                                                 \n",
            "=================================================================\n",
            "Total params: 162\n",
            "Trainable params: 162\n",
            "Non-trainable params: 0\n",
            "_________________________________________________________________\n"
          ]
        }
      ],
      "source": [
        "# TODO print the model architecture\n",
        "model.summary()"
      ]
    },
    {
      "cell_type": "markdown",
      "metadata": {
        "id": "f6_mppWz-jO_"
      },
      "source": [
        "# Subtask 2.4\n",
        "\n",
        "## Optimizer, loss function and training\n",
        "\n",
        "#### TODO\n",
        "\n",
        "- Define the optimizer and the loss function using `tf.keras.optimizers` and `tf.keras.losses`, respectively. \n",
        "    - Use stochastic gradient descent (SGD) with a learning rate of 1.0 as the optimizer.\n",
        "    - Use mean-squared error as the loss function.\n",
        "- Compile the model using the optimizer and the loss.\n",
        "- Train the model and get the history of training and validation losses.\n",
        "    - Train the model for 10 epochs.\n",
        "    - Use a batch size of 512.\n",
        "- Plot the learning curves."
      ]
    },
    {
      "cell_type": "code",
      "execution_count": 14,
      "metadata": {
        "id": "NLBh8NeN-jO_"
      },
      "outputs": [],
      "source": [
        "# TODO define the optimizer and the loss function\n",
        "# Define the optimizer\n",
        "optimizer = keras.optimizers.SGD(learning_rate=1.0)\n",
        "\n",
        "# Define the loss function\n",
        "loss_fn = keras.losses.mean_squared_error\n",
        "# TODO compile the model\n",
        "model.compile(optimizer=optimizer, loss=loss_fn)"
      ]
    },
    {
      "cell_type": "code",
      "execution_count": null,
      "metadata": {
        "id": "CNYcQl3B-jPA",
        "outputId": "8c40614c-5c3c-4953-eb89-34d63cfc5a73"
      },
      "outputs": [
        {
          "name": "stdout",
          "output_type": "stream",
          "text": [
            "Epoch 1/10\n",
            "703/703 [==============================] - 1s 1ms/step - loss: 1.2329 - val_loss: 1.0061\n",
            "Epoch 2/10\n",
            "703/703 [==============================] - 1s 1ms/step - loss: 1.0021 - val_loss: 1.0058\n",
            "Epoch 3/10\n",
            "703/703 [==============================] - 1s 1ms/step - loss: 1.0019 - val_loss: 1.0062\n",
            "Epoch 4/10\n",
            "703/703 [==============================] - 1s 1ms/step - loss: 1.0020 - val_loss: 1.0077\n",
            "Epoch 5/10\n",
            "703/703 [==============================] - 1s 1ms/step - loss: 1.0019 - val_loss: 1.0058\n",
            "Epoch 6/10\n",
            "703/703 [==============================] - 1s 1ms/step - loss: 1.0020 - val_loss: 1.0057\n",
            "Epoch 7/10\n",
            "703/703 [==============================] - 1s 1ms/step - loss: 1.0020 - val_loss: 1.0075\n",
            "Epoch 8/10\n",
            "703/703 [==============================] - 1s 1ms/step - loss: 1.0020 - val_loss: 1.0070\n",
            "Epoch 9/10\n",
            "703/703 [==============================] - 1s 1ms/step - loss: 1.0019 - val_loss: 1.0066\n",
            "Epoch 10/10\n",
            "703/703 [==============================] - 1s 1ms/step - loss: 1.0019 - val_loss: 1.0061\n"
          ]
        }
      ],
      "source": [
        "# TODO train the model \n",
        "history = model.fit(X_train_std, y_train, epochs=10, batch_size=512, validation_data=(X_val_std, y_val))\n",
        "for i, loss in enumerate(history.history['loss']):\n",
        "    val_loss = history.history['val_loss'][i]\n",
        "    print(f\"Epoch {i+1}/{len(history.history['loss'])}\")\n",
        "    print(f\"Training Loss: {loss:.4f} \\t Validation Loss: {val_loss:.4f}\")"
      ]
    },
    {
      "cell_type": "code",
      "execution_count": null,
      "metadata": {
        "id": "hYBO5cRi-jPA",
        "outputId": "582c91c2-479a-405f-f540-022f6589aaf8"
      },
      "outputs": [
        {
          "data": {
            "image/png": "[encoded data removed]",
            "text/plain": [
              "<Figure size 500x400 with 1 Axes>"
            ]
          },
          "metadata": {},
          "output_type": "display_data"
        }
      ],
      "source": [
        "\n",
        "def plot_learning_curves(hist):\n",
        "    epochs = np.arange(0, len(hist.history['loss'])) + 1\n",
        "    sns.set(style='ticks')\n",
        "    fig, ax = plt.subplots(1, 1, figsize = (5, 4))\n",
        "    ax.plot(epochs, hist.history['loss'], label = 'Training loss', marker = 'o', ls = '--')\n",
        "    ax.plot(epochs, hist.history['val_loss'], label = 'Validation loss', marker = 'o', ls = '--')\n",
        "\n",
        "    ax.set_xlabel('Epoch')\n",
        "    ax.set_ylabel('Loss')\n",
        "    ax.set_title('Learning curves')\n",
        "    ax.legend()\n",
        "    sns.despine(trim=True, offset=5)\n",
        "\n",
        "# TODO Use the function above to plot the learning curves\n",
        "plot_learning_curves(history)"
      ]
    },
    {
      "cell_type": "markdown",
      "metadata": {
        "id": "NXeSVIb1-jPA"
      },
      "source": [
        "**TODO Your answer here**\n",
        "\n",
        "Does the model learn properly? Why?\n",
        "\n",
        "**TODO Your answer here**"
      ]
    },
    {
      "cell_type": "markdown",
      "metadata": {
        "id": "gu0K7aWc-jPA"
      },
      "source": [
        "<span style='color:red'>**Your answer:**</span>\n",
        "\n",
        "Based on the learning curves, it appears that the model did not learn properly as both training and validation losses do not decrease significantly over the 10 epochs of training. This could indicate that the model is underfitting, meaning it is not complex enough to capture the patterns in the data, or that there is a problem with the optimization process, such as an inappropriate learning rate.\n",
        "\n"
      ]
    },
    {
      "cell_type": "markdown",
      "metadata": {
        "id": "vFX7xzfC-jPA"
      },
      "source": [
        "# Subtask 2.5\n",
        "\n",
        "## Learning rate\n",
        "\n",
        "#### TODO\n",
        "- Decrease the learning rate logarithmically, i.e. by a factor of 10, until your model starts to train.\n",
        "    - Train the model for 10 epochs.\n",
        "    - Use a batch size of 512.\n",
        "- Plot the training curves of the loss and the accuracies as in Subtask 1.3. Use the function defined above.\n"
      ]
    },
    {
      "cell_type": "code",
      "execution_count": null,
      "metadata": {
        "id": "qFsNIgi2-jPA",
        "outputId": "1eaff260-6059-4932-e0bc-945d07d9bf95"
      },
      "outputs": [
        {
          "name": "stdout",
          "output_type": "stream",
          "text": [
            "Epoch 1/10\n",
            "703/703 [==============================] - 1s 1ms/step - loss: 0.0907 - val_loss: 0.0615\n",
            "Epoch 2/10\n",
            "703/703 [==============================] - 1s 1ms/step - loss: 0.0594 - val_loss: 0.0534\n",
            "Epoch 3/10\n",
            "703/703 [==============================] - 1s 1ms/step - loss: 0.0648 - val_loss: 0.1365\n",
            "Epoch 4/10\n",
            "703/703 [==============================] - 1s 1ms/step - loss: 0.0697 - val_loss: 0.0546\n",
            "Epoch 5/10\n",
            "703/703 [==============================] - 1s 1ms/step - loss: 0.0624 - val_loss: 0.0562\n",
            "Epoch 6/10\n",
            "703/703 [==============================] - 1s 1ms/step - loss: 0.0842 - val_loss: 0.0553\n",
            "Epoch 7/10\n",
            "703/703 [==============================] - 1s 1ms/step - loss: 0.0587 - val_loss: 0.0525\n",
            "Epoch 8/10\n",
            "703/703 [==============================] - 1s 1ms/step - loss: 0.0583 - val_loss: 0.0529\n",
            "Epoch 9/10\n",
            "703/703 [==============================] - 1s 1ms/step - loss: 0.0580 - val_loss: 0.0555\n",
            "Epoch 10/10\n",
            "703/703 [==============================] - 1s 1ms/step - loss: 0.0634 - val_loss: 0.0534\n"
          ]
        },
        {
          "data": {
            "image/png": "[encoded data removed]",
            "text/plain": [
              "<Figure size 500x400 with 1 Axes>"
            ]
          },
          "metadata": {},
          "output_type": "display_data"
        }
      ],
      "source": [
        "# learning rate = 0.1\n",
        "# Define the optimizer and the loss function\n",
        "optimizer = tf.keras.optimizers.SGD(learning_rate=0.1)\n",
        "loss = tf.keras.losses.MeanSquaredError()\n",
        "\n",
        "# Compile the model using the optimizer and the loss\n",
        "model.compile(optimizer=optimizer, loss=loss)\n",
        "\n",
        "# Train the model and get the history of training and validation losses\n",
        "history = model.fit(X_train_std, y_train, epochs=10, batch_size=512, validation_data=(X_val_std, y_val))\n",
        "\n",
        "# Plot the learning curves\n",
        "plot_learning_curves(history)"
      ]
    },
    {
      "cell_type": "code",
      "execution_count": null,
      "metadata": {
        "id": "66OFj27W-jPA",
        "outputId": "c10354fb-c313-418a-e774-f3afc1e76968"
      },
      "outputs": [
        {
          "name": "stdout",
          "output_type": "stream",
          "text": [
            "Epoch 1/10\n",
            "703/703 [==============================] - 1s 1ms/step - loss: 0.1216 - val_loss: 0.0811\n",
            "Epoch 2/10\n",
            "703/703 [==============================] - 1s 1ms/step - loss: 0.0610 - val_loss: 0.0593\n",
            "Epoch 3/10\n",
            "703/703 [==============================] - 1s 1ms/step - loss: 0.0515 - val_loss: 0.0557\n",
            "Epoch 4/10\n",
            "703/703 [==============================] - 1s 1ms/step - loss: 0.0502 - val_loss: 0.0555\n",
            "Epoch 5/10\n",
            "703/703 [==============================] - 1s 1ms/step - loss: 0.0498 - val_loss: 0.0547\n",
            "Epoch 6/10\n",
            "703/703 [==============================] - 1s 1ms/step - loss: 0.0487 - val_loss: 0.0552\n",
            "Epoch 7/10\n",
            "703/703 [==============================] - 1s 1ms/step - loss: 0.0496 - val_loss: 0.0528\n",
            "Epoch 8/10\n",
            "703/703 [==============================] - 1s 1ms/step - loss: 0.0493 - val_loss: 0.0528\n",
            "Epoch 9/10\n",
            "703/703 [==============================] - 1s 1ms/step - loss: 0.0494 - val_loss: 0.0539\n",
            "Epoch 10/10\n",
            "703/703 [==============================] - 1s 1ms/step - loss: 0.0496 - val_loss: 0.0537\n"
          ]
        },
        {
          "data": {
            "image/png": "[encoded data removed]",
            "text/plain": [
              "<Figure size 500x400 with 1 Axes>"
            ]
          },
          "metadata": {},
          "output_type": "display_data"
        }
      ],
      "source": [
        "# learning rate = 0.01\n",
        "####################\n",
        "## YOUR CODE HERE ##\n",
        "####################\n",
        "# Define the optimizer and the loss function\n",
        "optimizer = tf.keras.optimizers.SGD(learning_rate=0.01)\n",
        "loss = tf.keras.losses.MeanSquaredError()\n",
        "\n",
        "# Compile the model using the optimizer and the loss\n",
        "model.compile(optimizer=optimizer, loss=loss)\n",
        "\n",
        "# Train the model and get the history of training and validation losses\n",
        "history = model.fit(X_train_std, y_train, epochs=10, batch_size=512, validation_data=(X_val_std, y_val))\n",
        "\n",
        "# Plot the learning curves\n",
        "plot_learning_curves(history)"
      ]
    },
    {
      "cell_type": "code",
      "execution_count": null,
      "metadata": {
        "id": "kOFJ_XsN-jPA",
        "outputId": "e05e9494-6659-4e6e-980e-758c9ea9d4fc"
      },
      "outputs": [
        {
          "name": "stdout",
          "output_type": "stream",
          "text": [
            "Epoch 1/10\n",
            "703/703 [==============================] - 1s 1ms/step - loss: 0.2021 - val_loss: 0.1167\n",
            "Epoch 2/10\n",
            "703/703 [==============================] - 1s 1ms/step - loss: 0.1008 - val_loss: 0.0974\n",
            "Epoch 3/10\n",
            "703/703 [==============================] - 1s 1ms/step - loss: 0.0886 - val_loss: 0.0904\n",
            "Epoch 4/10\n",
            "703/703 [==============================] - 1s 1ms/step - loss: 0.0818 - val_loss: 0.0858\n",
            "Epoch 5/10\n",
            "703/703 [==============================] - 1s 1ms/step - loss: 0.0768 - val_loss: 0.0805\n",
            "Epoch 6/10\n",
            "703/703 [==============================] - 1s 1ms/step - loss: 0.0724 - val_loss: 0.0771\n",
            "Epoch 7/10\n",
            "703/703 [==============================] - 1s 1ms/step - loss: 0.0689 - val_loss: 0.0731\n",
            "Epoch 8/10\n",
            "703/703 [==============================] - 1s 1ms/step - loss: 0.0656 - val_loss: 0.0701\n",
            "Epoch 9/10\n",
            "703/703 [==============================] - 1s 1ms/step - loss: 0.0629 - val_loss: 0.0681\n",
            "Epoch 10/10\n",
            "703/703 [==============================] - 1s 1ms/step - loss: 0.0607 - val_loss: 0.0658\n"
          ]
        },
        {
          "data": {
            "image/png": "[encoded data removed]",
            "text/plain": [
              "<Figure size 500x400 with 1 Axes>"
            ]
          },
          "metadata": {},
          "output_type": "display_data"
        }
      ],
      "source": [
        "# learning rate = 0.001\n",
        "####################\n",
        "## YOUR CODE HERE ##\n",
        "####################\n",
        "#define the optimizer and the loss function\n",
        "optimizer = tf.keras.optimizers.SGD(learning_rate=0.001)\n",
        "loss_fn = tf.keras.losses.MeanSquaredError()\n",
        "\n",
        "#compile the model\n",
        "model.compile(optimizer=optimizer, loss=loss_fn)\n",
        "\n",
        "#train the model\n",
        "history_lr_0_001 = model.fit(X_train_std, y_train,\n",
        "epochs=10, batch_size=512,\n",
        "validation_data=(X_val_std, y_val))\n",
        "\n",
        "#plot the learning curves\n",
        "plot_learning_curves(history_lr_0_001)"
      ]
    },
    {
      "cell_type": "code",
      "execution_count": null,
      "metadata": {
        "id": "c653FKNW-jPA",
        "outputId": "48b0205e-6025-4d45-b558-b9c58d2de564"
      },
      "outputs": [
        {
          "name": "stdout",
          "output_type": "stream",
          "text": [
            "Epoch 1/10\n",
            "703/703 [==============================] - 1s 1ms/step - loss: 1.3045 - val_loss: 1.1098\n",
            "Epoch 2/10\n",
            "703/703 [==============================] - 1s 1ms/step - loss: 0.9754 - val_loss: 0.8869\n",
            "Epoch 3/10\n",
            "703/703 [==============================] - 1s 1ms/step - loss: 0.8226 - val_loss: 0.7853\n",
            "Epoch 4/10\n",
            "703/703 [==============================] - 1s 1ms/step - loss: 0.7313 - val_loss: 0.7000\n",
            "Epoch 5/10\n",
            "703/703 [==============================] - 1s 1ms/step - loss: 0.6459 - val_loss: 0.6162\n",
            "Epoch 6/10\n",
            "703/703 [==============================] - 1s 1ms/step - loss: 0.5613 - val_loss: 0.5332\n",
            "Epoch 7/10\n",
            "703/703 [==============================] - 1s 1ms/step - loss: 0.4782 - val_loss: 0.4521\n",
            "Epoch 8/10\n",
            "703/703 [==============================] - 1s 1ms/step - loss: 0.3986 - val_loss: 0.3760\n",
            "Epoch 9/10\n",
            "703/703 [==============================] - 1s 1ms/step - loss: 0.3261 - val_loss: 0.3082\n",
            "Epoch 10/10\n",
            "703/703 [==============================] - 1s 1ms/step - loss: 0.2637 - val_loss: 0.2512\n"
          ]
        },
        {
          "data": {
            "image/png": "[encoded data removed]",
            "text/plain": [
              "<Figure size 500x400 with 1 Axes>"
            ]
          },
          "metadata": {},
          "output_type": "display_data"
        }
      ],
      "source": [
        "# learning rate = 1e-4\n",
        "####################\n",
        "## YOUR CODE HERE ##\n",
        "####################\n",
        "# TODO Define the optimizer with a learning rate of 1e-4\n",
        "optimizer = keras.optimizers.SGD(lr=1e-4)\n",
        "\n",
        "# TODO Compile the model using the optimizer and the loss\n",
        "model.compile(optimizer=optimizer, loss='mean_squared_error')\n",
        "\n",
        "# TODO Train the model and get the history of training and validation losses\n",
        "history_lr4 = model.fit(X_train_std, y_train, epochs=10, batch_size=512, validation_data=(X_val_std, y_val))\n",
        "\n",
        "# TODO Plot the learning curves using the function defined earlier\n",
        "plot_learning_curves(history_lr4)"
      ]
    },
    {
      "cell_type": "markdown",
      "metadata": {
        "id": "KxmRWP-y-jPE"
      },
      "source": [
        "## Model selection\n",
        "\n",
        "Is it the lowest validation loss that one can achieve? Probably not. So here are your TODOs:\n",
        "\n",
        "#### TODO:\n",
        "- Train the model for 100 epochs and plot the learning curves. Use learning rate of 0.01.\n",
        "\n",
        "#### TODO from now on, for all subsequent tasks:\n",
        "- Print the overall best validation loss and the epoch at which it occurred of.\n"
      ]
    },
    {
      "cell_type": "code",
      "execution_count": null,
      "metadata": {
        "id": "YntDjUpZ-jPF",
        "outputId": "48e0de7f-0ed7-48e0-aac0-f4ebcee25501"
      },
      "outputs": [
        {
          "name": "stdout",
          "output_type": "stream",
          "text": [
            "Epoch 1/100\n",
            "703/703 [==============================] - 1s 1ms/step - loss: 0.1133 - val_loss: 0.0659\n",
            "Epoch 2/100\n",
            "703/703 [==============================] - 1s 1ms/step - loss: 0.0553 - val_loss: 0.0562\n",
            "Epoch 3/100\n",
            "703/703 [==============================] - 1s 1ms/step - loss: 0.0513 - val_loss: 0.0554\n",
            "Epoch 4/100\n",
            "703/703 [==============================] - 1s 1ms/step - loss: 0.0509 - val_loss: 0.0556\n",
            "Epoch 5/100\n",
            "703/703 [==============================] - 1s 1ms/step - loss: 0.0505 - val_loss: 0.0549\n",
            "Epoch 6/100\n",
            "703/703 [==============================] - 1s 1ms/step - loss: 0.0494 - val_loss: 0.0553\n",
            "Epoch 7/100\n",
            "703/703 [==============================] - 1s 1ms/step - loss: 0.0503 - val_loss: 0.0533\n",
            "Epoch 8/100\n",
            "703/703 [==============================] - 1s 1ms/step - loss: 0.0499 - val_loss: 0.0534\n",
            "Epoch 9/100\n",
            "703/703 [==============================] - 1s 1ms/step - loss: 0.0501 - val_loss: 0.0541\n",
            "Epoch 10/100\n",
            "703/703 [==============================] - 1s 1ms/step - loss: 0.0502 - val_loss: 0.0542\n",
            "Epoch 11/100\n",
            "703/703 [==============================] - 1s 1ms/step - loss: 0.0495 - val_loss: 0.0549\n",
            "Epoch 12/100\n",
            "703/703 [==============================] - 1s 1ms/step - loss: 0.0502 - val_loss: 0.0555\n",
            "Epoch 13/100\n",
            "703/703 [==============================] - 1s 1ms/step - loss: 0.0494 - val_loss: 0.0533\n",
            "Epoch 14/100\n",
            "703/703 [==============================] - 1s 1ms/step - loss: 0.0500 - val_loss: 0.0529\n",
            "Epoch 15/100\n",
            "703/703 [==============================] - 1s 1ms/step - loss: 0.0494 - val_loss: 0.0536\n",
            "Epoch 16/100\n",
            "703/703 [==============================] - 1s 1ms/step - loss: 0.0498 - val_loss: 0.0552\n",
            "Epoch 17/100\n",
            "703/703 [==============================] - 1s 1ms/step - loss: 0.0497 - val_loss: 0.0554\n",
            "Epoch 18/100\n",
            "703/703 [==============================] - 1s 1ms/step - loss: 0.0498 - val_loss: 0.0536\n",
            "Epoch 19/100\n",
            "703/703 [==============================] - 1s 1ms/step - loss: 0.0500 - val_loss: 0.0561\n",
            "Epoch 20/100\n",
            "703/703 [==============================] - 1s 1ms/step - loss: 0.0495 - val_loss: 0.0578\n",
            "Epoch 21/100\n",
            "703/703 [==============================] - 1s 1ms/step - loss: 0.0498 - val_loss: 0.0576\n",
            "Epoch 22/100\n",
            "703/703 [==============================] - 1s 1ms/step - loss: 0.0496 - val_loss: 0.0544\n",
            "Epoch 23/100\n",
            "703/703 [==============================] - 1s 1ms/step - loss: 0.0499 - val_loss: 0.0546\n",
            "Epoch 24/100\n",
            "703/703 [==============================] - 1s 1ms/step - loss: 0.0498 - val_loss: 0.0539\n",
            "Epoch 25/100\n",
            "703/703 [==============================] - 1s 1ms/step - loss: 0.0491 - val_loss: 0.0569\n",
            "Epoch 26/100\n",
            "703/703 [==============================] - 1s 1ms/step - loss: 0.0497 - val_loss: 0.0554\n",
            "Epoch 27/100\n",
            "703/703 [==============================] - 1s 1ms/step - loss: 0.0494 - val_loss: 0.0546\n",
            "Epoch 28/100\n",
            "703/703 [==============================] - 1s 1ms/step - loss: 0.0495 - val_loss: 0.0562\n",
            "Epoch 29/100\n",
            "703/703 [==============================] - 1s 1ms/step - loss: 0.0497 - val_loss: 0.0556\n",
            "Epoch 30/100\n",
            "703/703 [==============================] - 1s 1ms/step - loss: 0.0499 - val_loss: 0.0546\n",
            "Epoch 31/100\n",
            "703/703 [==============================] - 1s 1ms/step - loss: 0.0497 - val_loss: 0.0544\n",
            "Epoch 32/100\n",
            "703/703 [==============================] - 1s 1ms/step - loss: 0.0495 - val_loss: 0.0550\n",
            "Epoch 33/100\n",
            "703/703 [==============================] - 1s 1ms/step - loss: 0.0491 - val_loss: 0.0546\n",
            "Epoch 34/100\n",
            "703/703 [==============================] - 1s 1ms/step - loss: 0.0497 - val_loss: 0.0541\n",
            "Epoch 35/100\n",
            "703/703 [==============================] - 1s 1ms/step - loss: 0.0494 - val_loss: 0.0567\n",
            "Epoch 36/100\n",
            "703/703 [==============================] - 1s 1ms/step - loss: 0.0493 - val_loss: 0.0530\n",
            "Epoch 37/100\n",
            "703/703 [==============================] - 1s 1ms/step - loss: 0.0501 - val_loss: 0.0527\n",
            "Epoch 38/100\n",
            "703/703 [==============================] - 1s 1ms/step - loss: 0.0495 - val_loss: 0.0532\n",
            "Epoch 39/100\n",
            "703/703 [==============================] - 1s 1ms/step - loss: 0.0492 - val_loss: 0.0569\n",
            "Epoch 40/100\n",
            "703/703 [==============================] - 1s 1ms/step - loss: 0.0492 - val_loss: 0.0559\n",
            "Epoch 41/100\n",
            "703/703 [==============================] - 1s 1ms/step - loss: 0.0493 - val_loss: 0.0553\n",
            "Epoch 42/100\n",
            "703/703 [==============================] - 1s 1ms/step - loss: 0.0492 - val_loss: 0.0536\n",
            "Epoch 43/100\n",
            "703/703 [==============================] - 1s 1ms/step - loss: 0.0496 - val_loss: 0.0557\n",
            "Epoch 44/100\n",
            "703/703 [==============================] - 1s 1ms/step - loss: 0.0495 - val_loss: 0.0544\n",
            "Epoch 45/100\n",
            "703/703 [==============================] - 1s 1ms/step - loss: 0.0494 - val_loss: 0.0549\n",
            "Epoch 46/100\n",
            "703/703 [==============================] - 1s 1ms/step - loss: 0.0494 - val_loss: 0.0536\n",
            "Epoch 47/100\n",
            "703/703 [==============================] - 1s 1ms/step - loss: 0.0494 - val_loss: 0.0560\n",
            "Epoch 48/100\n",
            "703/703 [==============================] - 1s 1ms/step - loss: 0.0496 - val_loss: 0.0544\n",
            "Epoch 49/100\n",
            "703/703 [==============================] - 1s 1ms/step - loss: 0.0497 - val_loss: 0.0545\n",
            "Epoch 50/100\n",
            "703/703 [==============================] - 1s 1ms/step - loss: 0.0491 - val_loss: 0.0542\n",
            "Epoch 51/100\n",
            "703/703 [==============================] - 1s 1ms/step - loss: 0.0495 - val_loss: 0.0539\n",
            "Epoch 52/100\n",
            "703/703 [==============================] - 1s 1ms/step - loss: 0.0494 - val_loss: 0.0529\n",
            "Epoch 53/100\n",
            "703/703 [==============================] - 1s 1ms/step - loss: 0.0495 - val_loss: 0.0531\n",
            "Epoch 54/100\n",
            "703/703 [==============================] - 1s 1ms/step - loss: 0.0493 - val_loss: 0.0577\n",
            "Epoch 55/100\n",
            "703/703 [==============================] - 1s 1ms/step - loss: 0.0493 - val_loss: 0.0527\n",
            "Epoch 56/100\n",
            "703/703 [==============================] - 1s 1ms/step - loss: 0.0493 - val_loss: 0.0552\n",
            "Epoch 57/100\n",
            "703/703 [==============================] - 1s 1ms/step - loss: 0.0495 - val_loss: 0.0544\n",
            "Epoch 58/100\n",
            "703/703 [==============================] - 1s 1ms/step - loss: 0.0492 - val_loss: 0.0530\n",
            "Epoch 59/100\n",
            "703/703 [==============================] - 1s 1ms/step - loss: 0.0494 - val_loss: 0.0530\n",
            "Epoch 60/100\n",
            "703/703 [==============================] - 1s 1ms/step - loss: 0.0493 - val_loss: 0.0537\n",
            "Epoch 61/100\n",
            "703/703 [==============================] - 1s 1ms/step - loss: 0.0487 - val_loss: 0.0571\n",
            "Epoch 62/100\n",
            "703/703 [==============================] - 1s 1ms/step - loss: 0.0493 - val_loss: 0.0538\n",
            "Epoch 63/100\n",
            "703/703 [==============================] - 1s 1ms/step - loss: 0.0492 - val_loss: 0.0554\n",
            "Epoch 64/100\n",
            "703/703 [==============================] - 1s 1ms/step - loss: 0.0495 - val_loss: 0.0536\n",
            "Epoch 65/100\n",
            "703/703 [==============================] - 1s 1ms/step - loss: 0.0490 - val_loss: 0.0540\n",
            "Epoch 66/100\n",
            "703/703 [==============================] - 1s 1ms/step - loss: 0.0492 - val_loss: 0.0572\n",
            "Epoch 67/100\n",
            "703/703 [==============================] - 1s 1ms/step - loss: 0.0491 - val_loss: 0.0544\n",
            "Epoch 68/100\n",
            "703/703 [==============================] - 1s 1ms/step - loss: 0.0494 - val_loss: 0.0549\n",
            "Epoch 69/100\n",
            "703/703 [==============================] - 1s 1ms/step - loss: 0.0498 - val_loss: 0.0530\n",
            "Epoch 70/100\n",
            "703/703 [==============================] - 1s 1ms/step - loss: 0.0495 - val_loss: 0.0528\n",
            "Epoch 71/100\n",
            "703/703 [==============================] - 1s 1ms/step - loss: 0.0490 - val_loss: 0.0544\n",
            "Epoch 72/100\n",
            "703/703 [==============================] - 1s 1ms/step - loss: 0.0494 - val_loss: 0.0542\n",
            "Epoch 73/100\n",
            "703/703 [==============================] - 1s 1ms/step - loss: 0.0491 - val_loss: 0.0547\n",
            "Epoch 74/100\n",
            "703/703 [==============================] - 1s 1ms/step - loss: 0.0491 - val_loss: 0.0547\n",
            "Epoch 75/100\n",
            "703/703 [==============================] - 1s 1ms/step - loss: 0.0492 - val_loss: 0.0531\n",
            "Epoch 76/100\n",
            "703/703 [==============================] - 1s 1ms/step - loss: 0.0489 - val_loss: 0.0527\n",
            "Epoch 77/100\n",
            "703/703 [==============================] - 1s 1ms/step - loss: 0.0489 - val_loss: 0.0543\n",
            "Epoch 78/100\n",
            "703/703 [==============================] - 1s 1ms/step - loss: 0.0494 - val_loss: 0.0530\n",
            "Epoch 79/100\n",
            "703/703 [==============================] - 1s 1ms/step - loss: 0.0492 - val_loss: 0.0531\n",
            "Epoch 80/100\n",
            "703/703 [==============================] - 1s 1ms/step - loss: 0.0493 - val_loss: 0.0532\n",
            "Epoch 81/100\n",
            "703/703 [==============================] - 1s 1ms/step - loss: 0.0493 - val_loss: 0.0541\n",
            "Epoch 82/100\n",
            "703/703 [==============================] - 1s 1ms/step - loss: 0.0494 - val_loss: 0.0561\n",
            "Epoch 83/100\n",
            "703/703 [==============================] - 1s 1ms/step - loss: 0.0490 - val_loss: 0.0536\n",
            "Epoch 84/100\n",
            "703/703 [==============================] - 1s 1ms/step - loss: 0.0492 - val_loss: 0.0529\n",
            "Epoch 85/100\n",
            "703/703 [==============================] - 1s 1ms/step - loss: 0.0490 - val_loss: 0.0549\n",
            "Epoch 86/100\n",
            "703/703 [==============================] - 1s 1ms/step - loss: 0.0490 - val_loss: 0.0546\n",
            "Epoch 87/100\n",
            "703/703 [==============================] - 1s 1ms/step - loss: 0.0490 - val_loss: 0.0527\n",
            "Epoch 88/100\n",
            "703/703 [==============================] - 1s 1ms/step - loss: 0.0491 - val_loss: 0.0527\n",
            "Epoch 89/100\n",
            "703/703 [==============================] - 1s 1ms/step - loss: 0.0491 - val_loss: 0.0532\n",
            "Epoch 90/100\n",
            "703/703 [==============================] - 1s 1ms/step - loss: 0.0490 - val_loss: 0.0538\n",
            "Epoch 91/100\n",
            "703/703 [==============================] - 1s 1ms/step - loss: 0.0493 - val_loss: 0.0540\n",
            "Epoch 92/100\n",
            "703/703 [==============================] - 1s 1ms/step - loss: 0.0494 - val_loss: 0.0530\n",
            "Epoch 93/100\n",
            "703/703 [==============================] - 1s 1ms/step - loss: 0.0493 - val_loss: 0.0549\n",
            "Epoch 94/100\n",
            "703/703 [==============================] - 1s 1ms/step - loss: 0.0493 - val_loss: 0.0535\n",
            "Epoch 95/100\n",
            "703/703 [==============================] - 1s 1ms/step - loss: 0.0490 - val_loss: 0.0530\n",
            "Epoch 96/100\n",
            "703/703 [==============================] - 1s 1ms/step - loss: 0.0489 - val_loss: 0.0533\n",
            "Epoch 97/100\n",
            "703/703 [==============================] - 1s 1ms/step - loss: 0.0485 - val_loss: 0.0547\n",
            "Epoch 98/100\n",
            "703/703 [==============================] - 1s 1ms/step - loss: 0.0488 - val_loss: 0.0536\n",
            "Epoch 99/100\n",
            "703/703 [==============================] - 1s 1ms/step - loss: 0.0488 - val_loss: 0.0545\n",
            "Epoch 100/100\n",
            "703/703 [==============================] - 1s 1ms/step - loss: 0.0486 - val_loss: 0.0534\n",
            "87 0.052674513310194016\n"
          ]
        },
        {
          "data": {
            "image/png": "[encoded data removed]",
            "text/plain": [
              "<Figure size 500x400 with 1 Axes>"
            ]
          },
          "metadata": {},
          "output_type": "display_data"
        }
      ],
      "source": [
        "####################\n",
        "## YOUR CODE HERE ##\n",
        "####################\n",
        "# train the model for 100 epochs with learning rate of 0.01\n",
        "optimizer = tf.keras.optimizers.SGD(learning_rate=0.01)\n",
        "model.compile(optimizer=optimizer, loss='mse')\n",
        "\n",
        "history = model.fit(X_train, y_train, batch_size=512, epochs=100, validation_data=(X_val, y_val))\n",
        "\n",
        "# plot the learning curves\n",
        "plot_learning_curves(history)\n",
        "\n",
        "# print the best validation loss and the epoch at which it occurred\n",
        "best_val_loss = np.min(history.history['val_loss'])\n",
        "best_val_loss_epoch = np.argmin(history.history['val_loss']) + 1\n",
        "print(\"Best validation loss:\", best_val_loss)\n",
        "print(\"Epoch of best validation loss:\", best_val_loss_epoch)\n"
      ]
    },
    {
      "cell_type": "markdown",
      "metadata": {
        "id": "j5yaWKgM-jPF"
      },
      "source": [
        "**TODO Your answer here**\n",
        "\n",
        "Answer the following questions in written form:\n",
        "\n",
        "1. Does the training loss decrease after each epoch? Why does it? // Why does it not?\n",
        "1. Does the validation loss decrease after each epoch? Why does it? // Why does it not? (For your answer to be sufficient, you should describe fluctuations and discuss the overall minimum of the curve.)\n",
        "1. At which epoch was your model best? I.e. if you had saved your model after each training epoch, which one would you use to make predictions to unseen samples (e.g. from the test set)? Why? (For your answer to be sufficient: Also discuss what this means in terms of overfitting)\n",
        "\n",
        "**TODO Your answer here**\n"
      ]
    },
    {
      "cell_type": "markdown",
      "metadata": {
        "id": "F7YAQV8s-jPF"
      },
      "source": [
        "<span style='color:red'>**Your answer:**</span>\n",
        "\n",
        "1. Does the training loss decrease after each epoch? Why does it? // Why does it not?\n",
        "Answer: In general, the training loss should decrease after each epoch if the model is learning properly. This is because during the training process, the model is trying to minimize the difference between its predicted output and the actual output. Thus, the model adjusts its weights and biases based on the gradient of the loss function with respect to the model parameters. If the learning rate is appropriately set, this should lead to a decrease in the loss over time. However, there can be cases where the loss does not decrease after each epoch.\n",
        "\n",
        "2. Does the validation loss decrease after each epoch? Why does it? // Why does it not? (For your answer to be sufficient, you should describe fluctuations and discuss the overall minimum of the curve.)\n",
        "\n",
        "Ideally, the validation loss should decrease after each epoch as the model learns to generalize better to unseen data. However, there may be fluctuations due to random variations in the data or the validation set being too small. Additionally, there may be cases where the validation loss does not decrease after a certain number of epochs, indicating that the model is starting to overfit to the training data. \n",
        "\n",
        "3. At which epoch was your model best? I.e. if you had saved your model after each training epoch, which one would you use to make predictions to unseen samples (e.g. from the test set)? Why? (For your answer to be sufficient: Also discuss what this means in terms of overfitting)\n",
        "\n",
        "In the case of the 100-epoch training with a learning rate of 0.01, the best validation loss was achieved at epoch 87, where the validation loss reached a value of 0.0527. This epoch would be the one to use to make predictions on unseen data, as it represents the best generalization performance of the model on the validation set."
      ]
    },
    {
      "cell_type": "markdown",
      "metadata": {
        "id": "N1CabBri-jPF"
      },
      "source": [
        "# Subtask 2.6\n",
        "## Save and restore model checkpoints\n",
        "\n",
        "Training that model for 100 epochs took quite a bit of time, right? Wouldn't it be a pity if it would get deleted out of memory, e.g. because your Colab session terminates (this can even happen automatically)? We would have to train it again to make predictions! To prevent this, we would like to save a check-point of the already optimized model's weights to disk. Then, we could just load our model weights at any time and use our model again without retraining. As you will see in a bit, this will be very handy for early stopping, too!\n",
        "\n",
        "#### TODO\n",
        "- Save a checkpoint of the `model` trained above (i.e. the model's parameters) to disk.\n",
        "- Initialize a new model, `model2` with the same architecture as used for the `model` you stored. Do *not* train `model2`.\n",
        "- Evaluate `model2` on the validation dataset.\n",
        "- Now, overwrite the initialized, untrained weights of `model2` with the weights you saved into the checkpoint of `model`.\n",
        "- Evaluate `model2`'s validation loss again. It should be of the exact same value as `model`'s validation loss.\n"
      ]
    },
    {
      "cell_type": "markdown",
      "metadata": {
        "id": "TzjhwI5F-jPF"
      },
      "source": [
        "*Hints:*\n",
        " - Read https://www.tensorflow.org/tutorials/keras/save_and_load\n",
        " - Use `model.save_weights`"
      ]
    },
    {
      "cell_type": "code",
      "execution_count": null,
      "metadata": {
        "id": "SKoCQorI-jPF",
        "outputId": "cf9e7ffd-c4cc-4e30-814f-6bdee18becf5"
      },
      "outputs": [
        {
          "name": "stdout",
          "output_type": "stream",
          "text": [
            "2411/2411 [==============================] - 2s 643us/step - loss: 1.2292\n",
            "2411/2411 [==============================] - 2s 631us/step - loss: 0.0534\n",
            "2411/2411 [==============================] - 2s 615us/step - loss: 0.0534\n"
          ]
        },
        {
          "data": {
            "text/plain": [
              "0.05335023254156113"
            ]
          },
          "execution_count": 51,
          "metadata": {},
          "output_type": "execute_result"
        }
      ],
      "source": [
        "from tensorflow.keras.models import Sequential\n",
        "from sklearn.metrics import mean_squared_error\n",
        "#Save a checkpoint of the model trained above (i.e. the model's parameters) to disk\n",
        "model.save_weights('model_checkpoint')\n",
        "\n",
        "# Initialize a new model with the same architecture as used for the model you stored\n",
        "model2 = MLP(2, 10, 'sigmoid')\n",
        "model2.compile(optimizer=optimizer, loss=loss_fn)\n",
        "# Evaluate model2 on the validation dataset\n",
        "model2.evaluate(X_val, y_val)\n",
        "\n",
        "# Overwrite the initialized, untrained weights of model2 with the weights from the checkpoint\n",
        "model2.load_weights('model_checkpoint')\n",
        "\n",
        "# Evaluate model2's validation loss again\n",
        "model2.evaluate(X_val, y_val)"
      ]
    },
    {
      "cell_type": "markdown",
      "metadata": {
        "id": "Kt54H0AI-jPF"
      },
      "source": [
        "# Subtask 2.7\n",
        "## Early stopping\n",
        "So the model you ended up with after 100 epochs was not the best one. That has two implications for us: (1) We would not have had to train for that many epochs and could have saved some computing time. (2) We do not have the best model to apply our model to make actual predictions for unseen samples. If we would constantly assess our model's validation performance during training, we could stop optimization as soon as our model's performance does not increase anymore. This is called *early stopping*.\n",
        "\n",
        "### TODO\n",
        "- Implement Early Stopping using `tf.keras.callbacks.EarlyStopping`. Use patience = 5, which means that if the validation loss is not improved after 5 epochs, the training process should be stopped.\n",
        "- Save the model checkpoint after each epoch if the validation loss is improved. Use `tf.keras.callbacks.ModelCheckpoint`.\n",
        "- Train the model for 100 epochs with a learning rate of 0.01.\n",
        "- Load the model checkpoint.\n",
        "- Evaluate the model on the validation data."
      ]
    },
    {
      "cell_type": "code",
      "execution_count": null,
      "metadata": {
        "id": "NGeIXEkc-jPG",
        "outputId": "bbf1b027-b7e3-4511-a291-c9844eb40ca2"
      },
      "outputs": [
        {
          "name": "stdout",
          "output_type": "stream",
          "text": [
            "Epoch 1/100\n",
            "702/703 [============================>.] - ETA: 0s - loss: 0.1181\n",
            "Epoch 1: val_loss improved from inf to 0.07327, saving model to checkpoint.ckpt\n",
            "703/703 [==============================] - 1s 1ms/step - loss: 0.1179 - val_loss: 0.0733\n",
            "Epoch 2/100\n",
            "685/703 [============================>.] - ETA: 0s - loss: 0.0593\n",
            "Epoch 2: val_loss improved from 0.07327 to 0.05930, saving model to checkpoint.ckpt\n",
            "703/703 [==============================] - 1s 1ms/step - loss: 0.0590 - val_loss: 0.0593\n",
            "Epoch 3/100\n",
            "662/703 [===========================>..] - ETA: 0s - loss: 0.0516\n",
            "Epoch 3: val_loss improved from 0.05930 to 0.05658, saving model to checkpoint.ckpt\n",
            "703/703 [==============================] - 1s 1ms/step - loss: 0.0524 - val_loss: 0.0566\n",
            "Epoch 4/100\n",
            "664/703 [===========================>..] - ETA: 0s - loss: 0.0515\n",
            "Epoch 4: val_loss improved from 0.05658 to 0.05550, saving model to checkpoint.ckpt\n",
            "703/703 [==============================] - 1s 1ms/step - loss: 0.0512 - val_loss: 0.0555\n",
            "Epoch 5/100\n",
            "656/703 [==========================>...] - ETA: 0s - loss: 0.0508\n",
            "Epoch 5: val_loss improved from 0.05550 to 0.05507, saving model to checkpoint.ckpt\n",
            "703/703 [==============================] - 1s 1ms/step - loss: 0.0503 - val_loss: 0.0551\n",
            "Epoch 6/100\n",
            "669/703 [===========================>..] - ETA: 0s - loss: 0.0493\n",
            "Epoch 6: val_loss improved from 0.05507 to 0.05504, saving model to checkpoint.ckpt\n",
            "703/703 [==============================] - 1s 1ms/step - loss: 0.0489 - val_loss: 0.0550\n",
            "Epoch 7/100\n",
            "659/703 [===========================>..] - ETA: 0s - loss: 0.0503\n",
            "Epoch 7: val_loss improved from 0.05504 to 0.05292, saving model to checkpoint.ckpt\n",
            "703/703 [==============================] - 1s 1ms/step - loss: 0.0500 - val_loss: 0.0529\n",
            "Epoch 8/100\n",
            "667/703 [===========================>..] - ETA: 0s - loss: 0.0499\n",
            "Epoch 8: val_loss did not improve from 0.05292\n",
            "703/703 [==============================] - 1s 1ms/step - loss: 0.0495 - val_loss: 0.0531\n",
            "Epoch 9/100\n",
            "698/703 [============================>.] - ETA: 0s - loss: 0.0497\n",
            "Epoch 9: val_loss did not improve from 0.05292\n",
            "703/703 [==============================] - 1s 1ms/step - loss: 0.0497 - val_loss: 0.0535\n",
            "Epoch 10/100\n",
            "670/703 [===========================>..] - ETA: 0s - loss: 0.0500\n",
            "Epoch 10: val_loss did not improve from 0.05292\n",
            "703/703 [==============================] - 1s 1ms/step - loss: 0.0498 - val_loss: 0.0539\n",
            "Epoch 11/100\n",
            "655/703 [==========================>...] - ETA: 0s - loss: 0.0493\n",
            "Epoch 11: val_loss did not improve from 0.05292\n",
            "703/703 [==============================] - 1s 1ms/step - loss: 0.0490 - val_loss: 0.0541\n",
            "Epoch 12/100\n",
            "670/703 [===========================>..] - ETA: 0s - loss: 0.0498\n",
            "Epoch 12: val_loss did not improve from 0.05292\n",
            "703/703 [==============================] - 1s 1ms/step - loss: 0.0498 - val_loss: 0.0547\n",
            "7 0.05292487144470215\n"
          ]
        },
        {
          "data": {
            "image/png": "[encoded data removed]",
            "text/plain": [
              "<Figure size 500x400 with 1 Axes>"
            ]
          },
          "metadata": {},
          "output_type": "display_data"
        }
      ],
      "source": [
        "# Define early stopping and model checkpoint callbacks\n",
        "early_stop = tf.keras.callbacks.EarlyStopping(monitor='val_loss', patience=5)\n",
        "model_checkpoint = tf.keras.callbacks.ModelCheckpoint('best_model.h5', monitor='val_loss', save_best_only=True)\n",
        "\n",
        "# Train the model with early stopping and model checkpoint callbacks\n",
        "history= model.fit(X_train, y_train, validation_data=(X_val, y_val), batch_size=512, epochs=100, callbacks=[early_stop, model_checkpoint], verbose=1)\n",
        "\n",
        "# Load the best model from the checkpoint\n",
        "model.load_weights('best_model.h5')\n",
        "\n",
        "# Evaluate the model on the validation data\n",
        "val_loss = model.evaluate(X_val, y_val)\n",
        "print(\"Best Validation Loss:\", val_loss)\n",
        "\n",
        "plot_learning_curves(history)\n",
        "\n"
      ]
    },
    {
      "cell_type": "code",
      "execution_count": null,
      "metadata": {
        "id": "yprSHlzh-jPG",
        "outputId": "2e116c35-a042-4d96-accc-d01e7e337e8a"
      },
      "outputs": [
        {
          "name": "stdout",
          "output_type": "stream",
          "text": [
            "2411/2411 [==============================] - 2s 626us/step - loss: 0.0529\n"
          ]
        },
        {
          "data": {
            "text/plain": [
              "0.05292491242289543"
            ]
          },
          "execution_count": 58,
          "metadata": {},
          "output_type": "execute_result"
        }
      ],
      "source": [
        "\n",
        "\n",
        "# Load the best model checkpoint\n",
        "model.load_weights('model_checkpoint')\n",
        "\n",
        "# Evaluate the model on the validation data\n",
        "model.evaluate(X_val, y_val)\n"
      ]
    },
    {
      "cell_type": "markdown",
      "metadata": {
        "id": "QCQH6ZYS-jPG"
      },
      "source": [
        "#### TODO\n",
        "- Compare the training you just did with the one of the same model trained for 100 epochs. Did you reach best model performance? If so: why? If not: why not?\n",
        "- What is the purpose of `patience`, and why do we need that?\n",
        "- Do the same training as in the previous cell, starting training from scratch, but try different values for `patience` now. Did you end up with a model resulting in the best validation accuracy you have seen so far, but without training the full 100 epochs?"
      ]
    },
    {
      "cell_type": "code",
      "execution_count": null,
      "metadata": {
        "id": "fMQ0jphJ-jPG",
        "outputId": "52290314-c7da-4561-b9d8-b5acc40d5c98"
      },
      "outputs": [
        {
          "name": "stdout",
          "output_type": "stream",
          "text": [
            "Epoch 1/100\n",
            "672/703 [===========================>..] - ETA: 0s - loss: 0.1244\n",
            "Epoch 1: val_loss improved from inf to 0.08108, saving model to checkpoint.ckpt\n",
            "703/703 [==============================] - 1s 1ms/step - loss: 0.1216 - val_loss: 0.0811\n",
            "Epoch 2/100\n",
            "690/703 [============================>.] - ETA: 0s - loss: 0.0613\n",
            "Epoch 2: val_loss improved from 0.08108 to 0.05932, saving model to checkpoint.ckpt\n",
            "703/703 [==============================] - 1s 1ms/step - loss: 0.0610 - val_loss: 0.0593\n",
            "Epoch 3/100\n",
            "689/703 [============================>.] - ETA: 0s - loss: 0.0504\n",
            "Epoch 3: val_loss improved from 0.05932 to 0.05572, saving model to checkpoint.ckpt\n",
            "703/703 [==============================] - 1s 1ms/step - loss: 0.0515 - val_loss: 0.0557\n",
            "Epoch 4/100\n",
            "679/703 [===========================>..] - ETA: 0s - loss: 0.0504\n",
            "Epoch 4: val_loss improved from 0.05572 to 0.05549, saving model to checkpoint.ckpt\n",
            "703/703 [==============================] - 1s 1ms/step - loss: 0.0502 - val_loss: 0.0555\n",
            "Epoch 5/100\n",
            "686/703 [============================>.] - ETA: 0s - loss: 0.0499\n",
            "Epoch 5: val_loss improved from 0.05549 to 0.05470, saving model to checkpoint.ckpt\n",
            "703/703 [==============================] - 1s 1ms/step - loss: 0.0498 - val_loss: 0.0547\n",
            "Epoch 6/100\n",
            "656/703 [==========================>...] - ETA: 0s - loss: 0.0492\n",
            "Epoch 6: val_loss did not improve from 0.05470\n",
            "703/703 [==============================] - 1s 1ms/step - loss: 0.0487 - val_loss: 0.0552\n",
            "Epoch 7/100\n",
            "666/703 [===========================>..] - ETA: 0s - loss: 0.0498\n",
            "Epoch 7: val_loss improved from 0.05470 to 0.05275, saving model to checkpoint.ckpt\n",
            "703/703 [==============================] - 1s 1ms/step - loss: 0.0496 - val_loss: 0.0528\n",
            "Epoch 8/100\n",
            "680/703 [============================>.] - ETA: 0s - loss: 0.0496\n",
            "Epoch 8: val_loss did not improve from 0.05275\n",
            "703/703 [==============================] - 1s 1ms/step - loss: 0.0493 - val_loss: 0.0528\n",
            "Epoch 9/100\n",
            "698/703 [============================>.] - ETA: 0s - loss: 0.0495\n",
            "Epoch 9: val_loss did not improve from 0.05275\n",
            "703/703 [==============================] - 1s 1ms/step - loss: 0.0494 - val_loss: 0.0539\n",
            "Epoch 10/100\n",
            "668/703 [===========================>..] - ETA: 0s - loss: 0.0497\n",
            "Epoch 10: val_loss did not improve from 0.05275\n",
            "703/703 [==============================] - 1s 1ms/step - loss: 0.0496 - val_loss: 0.0537\n",
            "Epoch 11/100\n",
            "661/703 [===========================>..] - ETA: 0s - loss: 0.0492\n",
            "Epoch 11: val_loss did not improve from 0.05275\n",
            "703/703 [==============================] - 1s 1ms/step - loss: 0.0489 - val_loss: 0.0546\n",
            "Epoch 12/100\n",
            "693/703 [============================>.] - ETA: 0s - loss: 0.0496\n",
            "Epoch 12: val_loss did not improve from 0.05275\n",
            "703/703 [==============================] - 1s 1ms/step - loss: 0.0495 - val_loss: 0.0553\n",
            "Epoch 13/100\n",
            "664/703 [===========================>..] - ETA: 0s - loss: 0.0488\n",
            "Epoch 13: val_loss improved from 0.05275 to 0.05262, saving model to checkpoint.ckpt\n",
            "703/703 [==============================] - 1s 1ms/step - loss: 0.0487 - val_loss: 0.0526\n",
            "Epoch 14/100\n",
            "663/703 [===========================>..] - ETA: 0s - loss: 0.0481\n",
            "Epoch 14: val_loss improved from 0.05262 to 0.05240, saving model to checkpoint.ckpt\n",
            "703/703 [==============================] - 1s 1ms/step - loss: 0.0494 - val_loss: 0.0524\n",
            "Epoch 15/100\n",
            "684/703 [============================>.] - ETA: 0s - loss: 0.0490\n",
            "Epoch 15: val_loss did not improve from 0.05240\n",
            "703/703 [==============================] - 1s 1ms/step - loss: 0.0488 - val_loss: 0.0530\n",
            "Epoch 16/100\n",
            "671/703 [===========================>..] - ETA: 0s - loss: 0.0494\n",
            "Epoch 16: val_loss did not improve from 0.05240\n",
            "703/703 [==============================] - 1s 1ms/step - loss: 0.0493 - val_loss: 0.0547\n",
            "Epoch 17/100\n",
            "688/703 [============================>.] - ETA: 0s - loss: 0.0493\n",
            "Epoch 17: val_loss did not improve from 0.05240\n",
            "703/703 [==============================] - 1s 1ms/step - loss: 0.0491 - val_loss: 0.0550\n",
            "Epoch 18/100\n",
            "695/703 [============================>.] - ETA: 0s - loss: 0.0492\n",
            "Epoch 18: val_loss did not improve from 0.05240\n",
            "703/703 [==============================] - 1s 1ms/step - loss: 0.0492 - val_loss: 0.0530\n",
            "Epoch 19/100\n",
            "677/703 [===========================>..] - ETA: 0s - loss: 0.0490\n",
            "Epoch 19: val_loss did not improve from 0.05240\n",
            "703/703 [==============================] - 1s 1ms/step - loss: 0.0493 - val_loss: 0.0546\n",
            "Epoch 20/100\n",
            "658/703 [===========================>..] - ETA: 0s - loss: 0.0494\n",
            "Epoch 20: val_loss did not improve from 0.05240\n",
            "703/703 [==============================] - 1s 1ms/step - loss: 0.0489 - val_loss: 0.0570\n",
            "Epoch 21/100\n",
            "669/703 [===========================>..] - ETA: 0s - loss: 0.0494\n",
            "Epoch 21: val_loss did not improve from 0.05240\n",
            "703/703 [==============================] - 1s 1ms/step - loss: 0.0492 - val_loss: 0.0569\n",
            "Epoch 22/100\n",
            "660/703 [===========================>..] - ETA: 0s - loss: 0.0492\n",
            "Epoch 22: val_loss did not improve from 0.05240\n",
            "703/703 [==============================] - 1s 1ms/step - loss: 0.0490 - val_loss: 0.0539\n",
            "Epoch 23/100\n",
            "697/703 [============================>.] - ETA: 0s - loss: 0.0494\n",
            "Epoch 23: val_loss did not improve from 0.05240\n",
            "703/703 [==============================] - 1s 1ms/step - loss: 0.0493 - val_loss: 0.0544\n",
            "Epoch 24/100\n",
            "660/703 [===========================>..] - ETA: 0s - loss: 0.0497\n",
            "Epoch 24: val_loss did not improve from 0.05240\n",
            "703/703 [==============================] - 1s 1ms/step - loss: 0.0492 - val_loss: 0.0533\n",
            "14 0.0523969866335392\n"
          ]
        },
        {
          "data": {
            "image/png": "[encoded data removed]",
            "text/plain": [
              "<Figure size 500x400 with 1 Axes>"
            ]
          },
          "metadata": {},
          "output_type": "display_data"
        }
      ],
      "source": [
        "## TODO load the model checkpoint and evaluate on validation data\n",
        "from tensorflow.keras.callbacks import EarlyStopping, ModelCheckpoint\n",
        "\n",
        "# Define the early stopping callback\n",
        "early_stopping = EarlyStopping(monitor='val_loss', patience=5)\n",
        "\n",
        "# Define the model checkpoint callback\n",
        "model_checkpoint = ModelCheckpoint('model_checkpoint', monitor='val_loss', save_best_only=True)\n",
        "\n",
        "# Create a model and compile it\n",
        "\n",
        "model.compile(optimizer='rmsprop', loss='mse', metrics=['mae'])\n",
        "\n",
        "# Train the model for 100 epochs with a learning rate of 0.01\n",
        "model.fit(X_train, y_train, epochs=100, validation_data=(X_val, y_val), callbacks=[early_stopping, model_checkpoint])\n",
        "\n",
        "# Load the best model checkpoint\n",
        "model.load_weights('model_checkpoint')\n",
        "\n",
        "# Evaluate the model on the validation data\n",
        "model.evaluate(X_val, y_val)\n"
      ]
    },
    {
      "cell_type": "markdown",
      "metadata": {
        "id": "oTT8jl77-jPG"
      },
      "source": [
        "## Explore batch size *(optional)*\n",
        "\n",
        "*This task is optional, you do not need to solve it*\n",
        "\n",
        "Let us explore even more model and training parameters. In this section, we will see the impact of batch size on training. Let us use a learning rate of $10^{-3}$ from now on.\n",
        "\n",
        "\n",
        "#### TODO *(optional)*\n",
        "- Run training of the same model used above with \n",
        "    - batch size 1 for **one epoch**\n",
        "    - batch size 1024 for 100 epochs, using early stopping with patience 10\n",
        "- Compare your training results of all three batch sizes you have trained, i.e. batch size 1, 512 (from above) and 1024 \n",
        "- Was it smart to set batch size to 1?\n",
        "- How long (in terms of computing time) do your models need to train for the different batch sizes? (You could even measure this with python, using the `time` package)\n",
        "- What is the impact on model performance?"
      ]
    },
    {
      "cell_type": "code",
      "execution_count": null,
      "metadata": {
        "id": "_RgLnvkT-jPG"
      },
      "outputs": [],
      "source": [
        "# Batch size 1\n",
        "\n",
        "###############################\n",
        "## YOUR CODE HERE - OPTIONAL ##\n",
        "###############################\n",
        "# Set the batch size to 1\n",
        "batch_size = 1\n",
        "\n",
        "# Create a new model with the same architecture\n",
        "model_batch1 = MLP(N_hidden_layers=2, N_neurons=10, activation='sigmoid')\n",
        "\n",
        "# Compile the model\n",
        "model_batch1.compile(optimizer=optimizer, loss=loss_fn)\n",
        "\n",
        "# Define the callbacks for early stopping and model checkpoint\n",
        "early_stopping = tf.keras.callbacks.EarlyStopping(patience=5)\n",
        "model_checkpoint = tf.keras.callbacks.ModelCheckpoint('model_checkpoint', save_best_only=True)\n",
        "\n",
        "# Train the model with batch size 1 for one epoch\n",
        "history_batch1 = model_batch1.fit(X_train_std, y_train, batch_size=batch_size, epochs=1,\n",
        "                                  validation_data=(X_val_std, y_val),\n",
        "                                  callbacks=[early_stopping, model_checkpoint])\n",
        "\n",
        "# Load the model checkpoint with the best weights\n",
        "model_batch1.load_weights('model_checkpoint')\n",
        "\n",
        "# Evaluate the model on the validation data\n",
        "loss_batch1 = model_batch1.evaluate(X_val_std, y_val)\n"
      ]
    },
    {
      "cell_type": "code",
      "execution_count": null,
      "metadata": {
        "id": "REj-F7dp-jPG"
      },
      "outputs": [],
      "source": [
        "# Batch size 1024\n",
        "\n",
        "###############################\n",
        "## YOUR CODE HERE - OPTIONAL ##\n",
        "###############################\n",
        "\n",
        "# Set the batch size to 1024\n",
        "batch_size = 1024\n",
        "\n",
        "# Create a new model with the same architecture\n",
        "model_batch1024 = MLP(N_hidden_layers=2, N_neurons=10, activation='sigmoid')\n",
        "\n",
        "# Compile the model\n",
        "model_batch1024.compile(optimizer=optimizer, loss=loss_fn)\n",
        "\n",
        "# Define the callbacks for early stopping and model checkpoint\n",
        "early_stopping = tf.keras.callbacks.EarlyStopping(patience=10)\n",
        "model_checkpoint = tf.keras.callbacks.ModelCheckpoint('model_checkpoint', save_best_only=True)\n",
        "\n",
        "# Train the model with batch size 1024 for 100 epochs using early stopping\n",
        "history_batch1024 = model_batch1024.fit(X_train_std, y_train, batch_size=batch_size, epochs=100,\n",
        "                                        validation_data=(X_val_std, y_val),\n",
        "                                        callbacks=[early_stopping, model_checkpoint])\n",
        "\n",
        "# Load the model checkpoint with the best weights\n",
        "model_batch1024.load_weights('model_checkpoint')\n",
        "\n",
        "# Evaluate the model on the validation data\n",
        "loss_batch1024 = model_batch1024.evaluate(X_val_std, y_val)\n"
      ]
    },
    {
      "cell_type": "markdown",
      "metadata": {
        "id": "nb7yPr9d-jPG"
      },
      "source": [
        "# Subtask 2.8\n",
        "## What about the architecture?\n",
        "\n",
        "How does architecture affect predictive performance? \n",
        "\n",
        "#### TODO:\n",
        "In the following, try to improve model performance by varying \n",
        "- number of hidden layers\n",
        "- number of neurons per each hidden layer\n",
        "- activation function \n",
        "\n",
        "These parameters are called hyper-parameters, since they are excluded from model optimization. Instead, we have to set them by hand and explore them to find a model with good predictive accuracy. \n",
        "\n",
        "Vary only one hyper-parameter at a time. If you would vary multiple parameters at the same time, it would be harder for you to see the impact that each parameter has."
      ]
    },
    {
      "cell_type": "code",
      "execution_count": null,
      "metadata": {
        "id": "kQciQdAU-jPG"
      },
      "outputs": [],
      "source": [
        "# number of hidden layers\n",
        "# Define the hyperparameter values for the number of hidden layers\n",
        "hidden_layers_values = [1, 2, 3, 4]\n",
        "####################\n",
        "## YOUR CODE HERE ##\n",
        "####################\n",
        "\n",
        "# 4 hidden layers\n",
        "\n",
        "# Create a list to store the validation losses for each hyperparameter value\n",
        "validation_losses = []\n",
        "\n",
        "# Iterate over the hyperparameter values\n",
        "for num_hidden_layers in hidden_layers_values:\n",
        "    # Create a new model with the updated number of hidden layers\n",
        "    model = MLP(N_hidden_layers=num_hidden_layers, N_neurons=10, activation='sigmoid')\n",
        "    \n",
        "    # Compile the model\n",
        "    model.compile(optimizer=optimizer, loss=loss_fn)\n",
        "    \n",
        "    # Train the model for 100 epochs\n",
        "    history = model.fit(X_train_std, y_train, batch_size=512, epochs=100,\n",
        "                        validation_data=(X_val_std, y_val))\n",
        "    \n",
        "    # Evaluate the model on the validation data and store the loss\n",
        "    loss = model.evaluate(X_val_std, y_val)\n",
        "    validation_losses.append(loss)\n",
        "    \n",
        "# Print the validation losses for each hyperparameter value\n",
        "for num_hidden_layers, loss in zip(hidden_layers_values, validation_losses):\n",
        "    print(f\"Number of Hidden Layers: {num_hidden_layers}, Validation Loss: {loss}\")\n"
      ]
    },
    {
      "cell_type": "code",
      "execution_count": null,
      "metadata": {
        "id": "oBYI4uf7-jPH"
      },
      "outputs": [],
      "source": [
        "# number of neurons per each hidden layer\n",
        "# Define the hyperparameter values for the number of neurons per hidden layer\n",
        "neurons_values = [50, 100, 150, 200]\n",
        "####################\n",
        "## YOUR CODE HERE ##\n",
        "####################\n",
        "\n",
        "# 100 neurons\n",
        "\n",
        "# Create a list to store the validation losses for each hyperparameter value\n",
        "validation_losses = []\n",
        "\n",
        "# Iterate over the hyperparameter values\n",
        "for num_neurons in neurons_values:\n",
        "    # Create a new model with the updated number of neurons per hidden layer\n",
        "    model = MLP(N_hidden_layers=2, N_neurons=num_neurons, activation='sigmoid')\n",
        "    \n",
        "    # Compile the model\n",
        "    model.compile(optimizer=optimizer, loss=loss_fn)\n",
        "    \n",
        "    # Train the model for 100 epochs\n",
        "    history = model.fit(X_train_std, y_train, batch_size=512, epochs=100,\n",
        "                        validation_data=(X_val_std, y_val))\n",
        "    \n",
        "    # Evaluate the model on the validation data and store the loss\n",
        "    loss = model.evaluate(X_val_std, y_val)\n",
        "    validation_losses.append(loss)\n",
        "    \n",
        "# Print the validation losses for each hyperparameter value\n",
        "for num_neurons, loss in zip(neurons_values, validation_losses):\n",
        "    print(f\"Number of Neurons per Hidden Layer: {num_neurons}, Validation Loss: {loss}\")\n"
      ]
    },
    {
      "cell_type": "code",
      "execution_count": null,
      "metadata": {
        "id": "T-Ep7_Ws-jPH"
      },
      "outputs": [],
      "source": [
        "# activation function\n",
        "\n",
        "####################\n",
        "## YOUR CODE HERE ##\n",
        "####################\n",
        "\n",
        "# Use tanh instead of ReLU\n",
        "\n",
        "# Define the hyperparameter values for the activation function\n",
        "activation_functions = ['relu', 'sigmoid', 'tanh']\n",
        "\n",
        "# Create a list to store the validation losses for each hyperparameter value\n",
        "validation_losses = []\n",
        "\n",
        "# Iterate over the hyperparameter values\n",
        "for activation in activation_functions:\n",
        "    # Create a new model with the updated activation function\n",
        "    model = MLP(N_hidden_layers=2, N_neurons=100, activation=activation)\n",
        "    \n",
        "    # Compile the model\n",
        "    model.compile(optimizer=optimizer, loss=loss_fn)\n",
        "    \n",
        "    # Train the model for 100 epochs\n",
        "    history = model.fit(X_train_std, y_train, batch_size=512, epochs=100,\n",
        "                        validation_data=(X_val_std, y_val))\n",
        "    \n",
        "    # Evaluate the model on the validation data and store the loss\n",
        "    loss = model.evaluate(X_val_std, y_val)\n",
        "    validation_losses.append(loss)\n",
        "    \n",
        "# Print the validation losses for each hyperparameter value\n",
        "for activation, loss in zip(activation_functions, validation_losses):\n",
        "    print(f\"Activation Function: {activation}, Validation Loss: {loss}\")\n"
      ]
    },
    {
      "cell_type": "markdown",
      "metadata": {
        "id": "-D5tTUFZ-jPH"
      },
      "source": [
        "**TODO Your answer here**\n",
        "\n",
        "1. How good do you get?\n",
        "2. Which hyper-parameter makes the largest difference?\n",
        "3. Does it always help to make your model bigger (i.e. wider / deeper)? Why not?\n",
        "\n",
        "**TODO Your answer here**\n"
      ]
    },
    {
      "cell_type": "markdown",
      "metadata": {
        "id": "gikHRGm9-jPH"
      },
      "source": [
        "**Your answers:**\n",
        "1. ..."
      ]
    },
    {
      "cell_type": "markdown",
      "metadata": {
        "id": "v2H68kFV-jPH"
      },
      "source": [
        "# Subtask 2.9\n",
        "## Challenge\n",
        "#### TODO\n",
        "- If you choose your best values for number hidden units, number of layers and activation function that you determined by varying them independently above: Does performance improve? Why?\n",
        "- Vary all of the parameters at the same time to maximize the predictive performance of your model. How good do you get?"
      ]
    },
    {
      "cell_type": "code",
      "execution_count": null,
      "metadata": {
        "id": "j44BLBjc-jPH"
      },
      "outputs": [],
      "source": [
        "# Your best model:\n",
        "\n",
        "from tensorflow import keras\n",
        "from tensorflow.keras import layers\n",
        "\n",
        "def create_model():\n",
        "    model = keras.Sequential()\n",
        "    model.add(layers.Dense(units=64, activation='relu', input_shape=(input_shape,)))\n",
        "\n",
        "    # Add hidden layers\n",
        "    model.add(layers.Dense(units=32, activation='relu'))\n",
        "    model.add(layers.Dense(units=16, activation='relu'))\n",
        "    model.add(layers.Dense(units=8, activation='relu'))\n",
        "\n",
        "    model.add(layers.Dense(units=output_units, activation='softmax'))  # Output layer\n",
        "\n",
        "    return model\n",
        "\n",
        "# Create the best model using your chosen hyperparameters\n",
        "best_model = create_model()\n",
        "\n",
        "# Compile the model with an appropriate optimizer and loss function\n",
        "best_model.compile(optimizer='adam', loss='categorical_crossentropy', metrics=['accuracy'])\n",
        "\n",
        "# Train the model with the desired number of epochs and batch size\n",
        "best_model.fit(X_train, y_train, epochs=50, batch_size=128)\n",
        "\n",
        "# Evaluate the model on the validation or test dataset\n",
        "validation_loss, validation_accuracy = best_model.evaluate(X_val, y_val)\n",
        "\n",
        "# Print the validation loss and accuracy to assess the model's performance\n",
        "print(\"Validation Loss:\", validation_loss)\n",
        "print(\"Validation Accuracy:\", validation_accuracy)\n"
      ]
    },
    {
      "cell_type": "markdown",
      "metadata": {
        "id": "AxSwo6IH-jPH"
      },
      "source": [
        "# Subtask 2.10\n",
        "## Evaluate your best model on test set, once!\n",
        "When doing a study, at the very end right before writing up your paper, you evaluate the best model you chose on the test set. This is the performance value you will report to the public.\n",
        "\n",
        "#### TODO\n",
        "- Evaluate the model on the testing dataset.\n",
        "- Plot the reference mass flow rate vs. the predicted values for the first 50 samples of the testing dataset."
      ]
    },
    {
      "cell_type": "code",
      "execution_count": null,
      "metadata": {
        "id": "uYTmRbrB-jPH",
        "outputId": "3df05d19-a01f-4c43-b3d1-b436354e58ab"
      },
      "outputs": [
        {
          "name": "stdout",
          "output_type": "stream",
          "text": [
            "2411/2411 [==============================] - 2s 635us/step - loss: 0.0452\n"
          ]
        },
        {
          "data": {
            "text/plain": [
              "0.045221343636512756"
            ]
          },
          "execution_count": 62,
          "metadata": {},
          "output_type": "execute_result"
        }
      ],
      "source": [
        "# TODO evaluate the model\n",
        "####################\n",
        "## YOUR CODE HERE ##\n",
        "####################\n",
        "test_loss = model.evaluate(X_test, y_test)"
      ]
    },
    {
      "cell_type": "code",
      "execution_count": null,
      "metadata": {
        "id": "_6qzsxij-jPH",
        "outputId": "d99dbad2-7bc5-4ad5-9254-7cff18a7a6c9"
      },
      "outputs": [
        {
          "name": "stdout",
          "output_type": "stream",
          "text": [
            "2411/2411 [==============================] - 1s 489us/step\n"
          ]
        },
        {
          "data": {
            "text/plain": [
              "<matplotlib.legend.Legend at 0x7f4078292820>"
            ]
          },
          "execution_count": 77,
          "metadata": {},
          "output_type": "execute_result"
        },
        {
          "data": {
            "image/png": "[encoded data removed]",
            "text/plain": [
              "<Figure size 640x480 with 1 Axes>"
            ]
          },
          "metadata": {},
          "output_type": "display_data"
        }
      ],
      "source": [
        "# TODO plot results\n",
        "####################\n",
        "## YOUR CODE HERE ##\n",
        "####################\n",
        "\n",
        "y_pred = model.predict(X_test)\n",
        "\n",
        "# Plot reference mass flow rate vs. predicted values for the first 50 samples\n",
        "plt.figure(figsize=(8, 6))\n",
        "plt.scatter(range(50), y_test[:50], color='b', label='Reference')\n",
        "plt.scatter(range(50), y_pred[:50], color='r', label='Prediction')\n",
        "plt.xlabel('Sample Index')\n",
        "plt.ylabel('Mass Flow Rate')\n",
        "plt.title('Reference vs. Predicted Mass Flow Rate')\n",
        "plt.legend()\n",
        "plt.show()\n",
        "\n",
        "# Print the test loss to report the model's performance\n",
        "print(\"Test Loss:\", test_loss)\n",
        "\n"
      ]
    },
    {
      "cell_type": "markdown",
      "metadata": {
        "id": "ukSJzlsi-jPH"
      },
      "source": [
        "**TODO Your answer here**\n",
        "\n",
        "1. Is the test loss of your model as good as the validation loss?\n",
        "2. If those values are different: How can you explain the difference?\n",
        "3. Why should you never use test set performance when trying out different hyper-parameters and architectures?\n",
        "\n",
        "**TODO Your answer here**\n",
        "\n"
      ]
    },
    {
      "cell_type": "markdown",
      "metadata": {
        "id": "q0K5jXUW-jPI"
      },
      "source": [
        "<span style='color:red'>**Your answer:**</span>\n",
        "\n",
        "1. ..."
      ]
    }
  ],
  "metadata": {
    "accelerator": "GPU",
    "colab": {
      "provenance": [],
      "toc_visible": true
    },
    "kernelspec": {
      "display_name": "base",
      "language": "python",
      "name": "python3"
    },
    "language_info": {
      "codemirror_mode": {
        "name": "ipython",
        "version": 3
      },
      "file_extension": ".py",
      "mimetype": "text/x-python",
      "name": "python",
      "nbconvert_exporter": "python",
      "pygments_lexer": "ipython3",
      "version": "3.9.7"
    },
    "nteract": {
      "version": "0.15.0"
    },
    "vscode": {
      "interpreter": {
        "hash": "062ad8061f6e7aca79bc9a27e986d47521568c0a72ae67729c623b905ab2cf31"
      }
    }
  },
  "nbformat": 4,
  "nbformat_minor": 0
}